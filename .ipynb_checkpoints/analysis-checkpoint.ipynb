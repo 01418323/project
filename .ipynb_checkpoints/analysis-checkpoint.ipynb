{
 "cells": [
  {
   "cell_type": "markdown",
   "metadata": {},
   "source": [
    "# ภูรี ลิ้มวงศ์รุจิรัตน์ 6510450844\n",
    "- ปรับและทำความสะอาดข้อมูล\n",
    "- ทำรายระเอียดของแต่ละ column\n",
    "- ทำส่วนแสดงข้อมูลต่างๆเกี่ยวกับตัวชุดข้อมูลเช่น ค่าซ้ำ/ค่าว่างมีกี่ตัว, ประเภทของข้อมูลและจำนวนของคอลัมน์ในแต่ละ column\n",
    "- Slide powerpoint\n",
    "- คิดหัวข้อการทดลองในสิ่งที่น่าสนใจ"
   ]
  },
  {
   "cell_type": "markdown",
   "metadata": {},
   "source": [
    "# ปริยวิศว์ เตชะกฤตเมธีธำรง 6510450593\n",
    "- Data visualization\n",
    "- Machine Learning \n",
    "- Slide powerpoint\n",
    "- คิดหัวข้อการทดลองในสิ่งที่น่าสนใจ"
   ]
  },
  {
   "cell_type": "markdown",
   "metadata": {
    "tags": []
   },
   "source": [
    "# ณัฐดนัย เอกสันติ 6510450330\n",
    "- ทำรายระเอียดของแต่ละ column\n",
    "- Slide powerpoint\n",
    "- จัดหา dataset ที่จะใช้ในการทดลอง\n",
    "- คิดหัวข้อการทดลองในสิ่งที่น่าสนใจ"
   ]
  },
  {
   "cell_type": "markdown",
   "metadata": {
    "tags": []
   },
   "source": [
    "# Project"
   ]
  },
  {
   "cell_type": "code",
   "execution_count": 1,
   "metadata": {},
   "outputs": [],
   "source": [
    "import pandas as pd\n",
    "import seaborn as sns\n",
    "import matplotlib.pyplot as plt\n",
    "import numpy as np"
   ]
  },
  {
   "cell_type": "code",
   "execution_count": 2,
   "metadata": {},
   "outputs": [],
   "source": [
    "import warnings \n",
    "warnings.filterwarnings('ignore')"
   ]
  },
  {
   "cell_type": "code",
   "execution_count": 3,
   "metadata": {
    "tags": []
   },
   "outputs": [
    {
     "data": {
      "text/html": [
       "<div>\n",
       "<style scoped>\n",
       "    .dataframe tbody tr th:only-of-type {\n",
       "        vertical-align: middle;\n",
       "    }\n",
       "\n",
       "    .dataframe tbody tr th {\n",
       "        vertical-align: top;\n",
       "    }\n",
       "\n",
       "    .dataframe thead th {\n",
       "        text-align: right;\n",
       "    }\n",
       "</style>\n",
       "<table border=\"1\" class=\"dataframe\">\n",
       "  <thead>\n",
       "    <tr style=\"text-align: right;\">\n",
       "      <th></th>\n",
       "      <th>Unnamed: 0</th>\n",
       "      <th>Accident_Index</th>\n",
       "      <th>Location_Easting_OSGR</th>\n",
       "      <th>Location_Northing_OSGR</th>\n",
       "      <th>Longitude</th>\n",
       "      <th>Latitude</th>\n",
       "      <th>Police_Force</th>\n",
       "      <th>Accident_Severity</th>\n",
       "      <th>Number_of_Vehicles</th>\n",
       "      <th>Number_of_Casualties</th>\n",
       "      <th>...</th>\n",
       "      <th>Pedestrian_Crossing-Physical_Facilities</th>\n",
       "      <th>Light_Conditions</th>\n",
       "      <th>Weather_Conditions</th>\n",
       "      <th>Road_Surface_Conditions</th>\n",
       "      <th>Special_Conditions_at_Site</th>\n",
       "      <th>Carriageway_Hazards</th>\n",
       "      <th>Urban_or_Rural_Area</th>\n",
       "      <th>Did_Police_Officer_Attend_Scene_of_Accident</th>\n",
       "      <th>LSOA_of_Accident_Location</th>\n",
       "      <th>Year</th>\n",
       "    </tr>\n",
       "  </thead>\n",
       "  <tbody>\n",
       "    <tr>\n",
       "      <th>285517</th>\n",
       "      <td>285517</td>\n",
       "      <td>200622EA36258</td>\n",
       "      <td>343940.0</td>\n",
       "      <td>259170.0</td>\n",
       "      <td>-2.822204</td>\n",
       "      <td>52.227830</td>\n",
       "      <td>22</td>\n",
       "      <td>3</td>\n",
       "      <td>2</td>\n",
       "      <td>2</td>\n",
       "      <td>...</td>\n",
       "      <td>No physical crossing within 50 meters</td>\n",
       "      <td>Daylight: Street light present</td>\n",
       "      <td>Fine without high winds</td>\n",
       "      <td>Dry</td>\n",
       "      <td>NaN</td>\n",
       "      <td>NaN</td>\n",
       "      <td>2</td>\n",
       "      <td>Yes</td>\n",
       "      <td>E01013999</td>\n",
       "      <td>2006</td>\n",
       "    </tr>\n",
       "    <tr>\n",
       "      <th>18090</th>\n",
       "      <td>18090</td>\n",
       "      <td>200501TC00188</td>\n",
       "      <td>536410.0</td>\n",
       "      <td>197100.0</td>\n",
       "      <td>-0.029397</td>\n",
       "      <td>51.656091</td>\n",
       "      <td>1</td>\n",
       "      <td>1</td>\n",
       "      <td>2</td>\n",
       "      <td>1</td>\n",
       "      <td>...</td>\n",
       "      <td>Pedestrian phase at traffic signal junction</td>\n",
       "      <td>Daylight: Street light present</td>\n",
       "      <td>Fine without high winds</td>\n",
       "      <td>Dry</td>\n",
       "      <td>NaN</td>\n",
       "      <td>NaN</td>\n",
       "      <td>1</td>\n",
       "      <td>Yes</td>\n",
       "      <td>E01001437</td>\n",
       "      <td>2005</td>\n",
       "    </tr>\n",
       "    <tr>\n",
       "      <th>1164068</th>\n",
       "      <td>124615</td>\n",
       "      <td>20124100G0218</td>\n",
       "      <td>524370.0</td>\n",
       "      <td>233840.0</td>\n",
       "      <td>-0.190170</td>\n",
       "      <td>51.989053</td>\n",
       "      <td>41</td>\n",
       "      <td>3</td>\n",
       "      <td>2</td>\n",
       "      <td>1</td>\n",
       "      <td>...</td>\n",
       "      <td>No physical crossing within 50 meters</td>\n",
       "      <td>Daylight: Street light present</td>\n",
       "      <td>Raining without high winds</td>\n",
       "      <td>Wet/Damp</td>\n",
       "      <td>NaN</td>\n",
       "      <td>NaN</td>\n",
       "      <td>1</td>\n",
       "      <td>No</td>\n",
       "      <td>E01023589</td>\n",
       "      <td>2012</td>\n",
       "    </tr>\n",
       "    <tr>\n",
       "      <th>986082</th>\n",
       "      <td>416071</td>\n",
       "      <td>201142I321210</td>\n",
       "      <td>577990.0</td>\n",
       "      <td>183210.0</td>\n",
       "      <td>0.564093</td>\n",
       "      <td>51.519707</td>\n",
       "      <td>42</td>\n",
       "      <td>3</td>\n",
       "      <td>2</td>\n",
       "      <td>1</td>\n",
       "      <td>...</td>\n",
       "      <td>No physical crossing within 50 meters</td>\n",
       "      <td>Daylight: Street light present</td>\n",
       "      <td>Fine without high winds</td>\n",
       "      <td>Dry</td>\n",
       "      <td>NaN</td>\n",
       "      <td>NaN</td>\n",
       "      <td>1</td>\n",
       "      <td>No</td>\n",
       "      <td>E01021501</td>\n",
       "      <td>2011</td>\n",
       "    </tr>\n",
       "    <tr>\n",
       "      <th>859388</th>\n",
       "      <td>289377</td>\n",
       "      <td>201050CD3I002</td>\n",
       "      <td>243660.0</td>\n",
       "      <td>127560.0</td>\n",
       "      <td>-4.230770</td>\n",
       "      <td>51.026036</td>\n",
       "      <td>50</td>\n",
       "      <td>2</td>\n",
       "      <td>3</td>\n",
       "      <td>4</td>\n",
       "      <td>...</td>\n",
       "      <td>No physical crossing within 50 meters</td>\n",
       "      <td>Daylight: Street light present</td>\n",
       "      <td>Fine without high winds</td>\n",
       "      <td>Dry</td>\n",
       "      <td>NaN</td>\n",
       "      <td>NaN</td>\n",
       "      <td>2</td>\n",
       "      <td>Yes</td>\n",
       "      <td>E01020300</td>\n",
       "      <td>2010</td>\n",
       "    </tr>\n",
       "  </tbody>\n",
       "</table>\n",
       "<p>5 rows × 33 columns</p>\n",
       "</div>"
      ],
      "text/plain": [
       "         Unnamed: 0 Accident_Index  Location_Easting_OSGR  \\\n",
       "285517       285517  200622EA36258               343940.0   \n",
       "18090         18090  200501TC00188               536410.0   \n",
       "1164068      124615  20124100G0218               524370.0   \n",
       "986082       416071  201142I321210               577990.0   \n",
       "859388       289377  201050CD3I002               243660.0   \n",
       "\n",
       "         Location_Northing_OSGR  Longitude   Latitude  Police_Force  \\\n",
       "285517                 259170.0  -2.822204  52.227830            22   \n",
       "18090                  197100.0  -0.029397  51.656091             1   \n",
       "1164068                233840.0  -0.190170  51.989053            41   \n",
       "986082                 183210.0   0.564093  51.519707            42   \n",
       "859388                 127560.0  -4.230770  51.026036            50   \n",
       "\n",
       "         Accident_Severity  Number_of_Vehicles  Number_of_Casualties  ...  \\\n",
       "285517                   3                   2                     2  ...   \n",
       "18090                    1                   2                     1  ...   \n",
       "1164068                  3                   2                     1  ...   \n",
       "986082                   3                   2                     1  ...   \n",
       "859388                   2                   3                     4  ...   \n",
       "\n",
       "             Pedestrian_Crossing-Physical_Facilities  \\\n",
       "285517         No physical crossing within 50 meters   \n",
       "18090    Pedestrian phase at traffic signal junction   \n",
       "1164068        No physical crossing within 50 meters   \n",
       "986082         No physical crossing within 50 meters   \n",
       "859388         No physical crossing within 50 meters   \n",
       "\n",
       "                       Light_Conditions          Weather_Conditions  \\\n",
       "285517   Daylight: Street light present     Fine without high winds   \n",
       "18090    Daylight: Street light present     Fine without high winds   \n",
       "1164068  Daylight: Street light present  Raining without high winds   \n",
       "986082   Daylight: Street light present     Fine without high winds   \n",
       "859388   Daylight: Street light present     Fine without high winds   \n",
       "\n",
       "         Road_Surface_Conditions Special_Conditions_at_Site  \\\n",
       "285517                       Dry                        NaN   \n",
       "18090                        Dry                        NaN   \n",
       "1164068                 Wet/Damp                        NaN   \n",
       "986082                       Dry                        NaN   \n",
       "859388                       Dry                        NaN   \n",
       "\n",
       "         Carriageway_Hazards  Urban_or_Rural_Area  \\\n",
       "285517                   NaN                    2   \n",
       "18090                    NaN                    1   \n",
       "1164068                  NaN                    1   \n",
       "986082                   NaN                    1   \n",
       "859388                   NaN                    2   \n",
       "\n",
       "        Did_Police_Officer_Attend_Scene_of_Accident  \\\n",
       "285517                                          Yes   \n",
       "18090                                           Yes   \n",
       "1164068                                          No   \n",
       "986082                                           No   \n",
       "859388                                          Yes   \n",
       "\n",
       "         LSOA_of_Accident_Location  Year  \n",
       "285517                   E01013999  2006  \n",
       "18090                    E01001437  2005  \n",
       "1164068                  E01023589  2012  \n",
       "986082                   E01021501  2011  \n",
       "859388                   E01020300  2010  \n",
       "\n",
       "[5 rows x 33 columns]"
      ]
     },
     "execution_count": 3,
     "metadata": {},
     "output_type": "execute_result"
    }
   ],
   "source": [
    "df = pd.read_csv('UK_Accident.csv')\n",
    "df.sample(5)"
   ]
  },
  {
   "cell_type": "markdown",
   "metadata": {
    "tags": []
   },
   "source": [
    "## รายละเอียดของชุดข้อมูล"
   ]
  },
  {
   "cell_type": "markdown",
   "metadata": {
    "tags": []
   },
   "source": [
    "### คำอธิบายข้อมูลในแต่ละ column"
   ]
  },
  {
   "cell_type": "markdown",
   "metadata": {},
   "source": [
    "<table>\n",
    "  <tr>\n",
    "    <th>Columns</th>\n",
    "    <th>คำอธิบาย</th>\n",
    "  </tr>\n",
    "  <tr>\n",
    "    <td>1st_Road_Class</td>\n",
    "    <td>ระดับของถนนที่เกี่ยวข้องกับอุบัติเหตุ</td>\n",
    "  </tr>\n",
    "  <tr>\n",
    "    <td>1st_Road_Number</td>\n",
    "    <td>รหัสของถนนที่เกี่ยวข้องกับอุบัติเหตุ</td>\n",
    "  </tr>\n",
    "  <tr>\n",
    "    <td>2nd_Road_Class</td>\n",
    "    <td>ระดับของถนนทางที่สองที่เกี่ยวข้องกับเหตุการณ์อุบัติเหตุ</td>\n",
    "  </tr>\n",
    "  <tr>\n",
    "    <td>2nd_Road_Number</td>\n",
    "    <td>รหัสของถนนทางที่สองที่เกี่ยวข้องกับเหตุการณ์อุบัติเหตุ</td>\n",
    "  </tr>\n",
    "  <tr>\n",
    "    <td>Accident_Index</td>\n",
    "    <td>เป็นตัวระบุหรือรหัสที่ใช้สำหรับแยกแยะแต่ละเหตุการณ์อุบัติเหตุทางถนนในฐานข้อมูล</td>\n",
    "  </tr>\n",
    "  <tr>\n",
    "    <td>Accident_Severity</td>\n",
    "    <td>ความรุนแรงของการเกิดอุบัติเหตุระดับตั้งแต่ 1 - 5</td>\n",
    "  </tr>\n",
    "  <tr>\n",
    "    <td>Carriageway_Hazards</td>\n",
    "    <td>มีการขนสารกัมมันตรังสี</td>\n",
    "  </tr>\n",
    "  <tr>\n",
    "    <td>Date</td>\n",
    "    <td>วันที่เกิดอุบัติเหตุ</td>\n",
    "  </tr>\n",
    "  <tr>\n",
    "    <td>Day_of_Week</td>\n",
    "    <td>วันอะไรโดยการแทนตัวเลข 1 - 7 แทนวันแต่ล่ะวันในสัปดาห์</td>\n",
    "  </tr>\n",
    "  <tr>\n",
    "    <td>Did_Police_Officer_Attend_Scene_of_Accident</td>\n",
    "    <td>เจ้าหน้าที่ตำรวจเข้าร่วมที่เกิดเหตุหรือไม่</td>\n",
    "  </tr>\n",
    "  <tr>\n",
    "    <td>Junction_Control</td>\n",
    "    <td>รูปแบบการควบคุมทางแยก</td>\n",
    "  </tr>\n",
    "  <tr>\n",
    "    <td>Latitude</td>\n",
    "    <td>ค่าละติจูด</td>\n",
    "  </tr>\n",
    "  <tr>\n",
    "    <td>Light_Conditions</td>\n",
    "    <td>สภาพของแสงสว่างตอนเกิดอุบัติเหตุ</td>\n",
    "  </tr>\n",
    "  <tr>\n",
    "    <td>Local_Authority_(District)</td>\n",
    "    <td>เขตอำเภอที่เกิดอุบัติเหตุ</td>\n",
    "  </tr>\n",
    "  <tr>\n",
    "    <td>Local_Authority_(Highway)</td>\n",
    "    <td>รหัสเลขบริเวณที่เกิดอุบัติเหตุบนทางหลวง</td>\n",
    "  </tr>\n",
    "  <tr>\n",
    "    <td>Location_Easting_OSGR</td>\n",
    "    <td>ค่าพิกัดทางฉากทางตะวันออกของสถานที่เกิดเหตุในระบบพิกัดของ Ordnance Survey Great Britain</td>\n",
    "  </tr>\n",
    "  <tr>\n",
    "    <td>Location_Northing_OSGR</td>\n",
    "    <td>ค่าพิกัดทางฉากทางตะวันตกของสถานที่เกิดเหตุในระบบพิกัดของ Ordnance Survey Great Britain</td>\n",
    "  </tr>\n",
    "  <tr>\n",
    "    <td>Longitude</td>\n",
    "    <td>ลองจิจูด</td>\n",
    "  </tr>\n",
    "  <tr>\n",
    "    <td>Number_of_Casualties</td>\n",
    "    <td>จำนวนผู้เสียในอุบัติเหตุนั้น</td>\n",
    "  </tr>\n",
    "  <tr>\n",
    "    <td>Number_of_Vehicles</td>\n",
    "    <td>จำนวนรถที่เกิดในอุบัติเหตุนั้น</td>\n",
    "  </tr>\n",
    "  <tr>\n",
    "    <td>Pedestrian_Crossing-Human_Control</td>\n",
    "    <td>ที่ควบคุมเวลาเดินข้ามฝั่ง</td>\n",
    "  </tr>\n",
    "  <tr>\n",
    "    <td>Pedestrian_Crossing-Physical_Facilities</td>\n",
    "    <td>สิ่งอำนวยความสะดวกบนทางเท้า</td>\n",
    "  </tr>\n",
    "  <tr>\n",
    "    <td>Road_Surface_Conditions</td>\n",
    "    <td>สภาพพื้นผิวถนน</td>\n",
    "  </tr>\n",
    "  <tr>\n",
    "    <td>Road_Type</td>\n",
    "    <td>ประเภทของถนน</td>\n",
    "  </tr>\n",
    "  <tr>\n",
    "    <td>Speed_limit</td>\n",
    "    <td>ความเร็วจำกัดของถนน</td>\n",
    "  </tr>\n",
    "  <tr>\n",
    "    <td>Special_Conditions_at_Site</td>\n",
    "    <td>เงื่อนไขพิเศษในที่เกิดเหตุ</td>\n",
    "  </tr>\n",
    "  <tr>\n",
    "    <td>Urban_or_Rural_Area</td>\n",
    "    <td>เขตเมืองหรือชนบท</td>\n",
    "  </tr>\n",
    "  <tr>\n",
    "    <td>Weather_Conditions</td>\n",
    "    <td>สภาพของอากาศตอนเกิดอุบัติเหตุ</td>\n",
    "  </tr>\n",
    "  <tr>\n",
    "    <td>police_fore</td>\n",
    "    <td>กำลังตำรวจที่เข้าไปช่วยเหลือตอนเกิดอุบัติเหตุ</td>\n",
    "  </tr>\n",
    "  <tr>\n",
    "    <td>Carriageway_Hazards</td>\n",
    "    <td>มีการขนสารกัมมันตรังสี</td>\n",
    "  </tr>\n",
    "  <tr>\n",
    "    <td>Did_Police_Officer_Attend_Scene_of_Accident</td>\n",
    "    <td>เจ้าหน้าที่ตำรวจเข้าร่วมที่เกิดเหตุหรือไม่</td>\n",
    "  </tr>\n",
    "  <tr>\n",
    "    <td>LSOA_of_Accident_Location</td>\n",
    "    <td>รหัสของเขตเคหะระดับต่ำ</td>\n",
    "  </tr>\n",
    "  <tr>\n",
    "    <td>Year</td>\n",
    "    <td>ปีที่เกิดอุบัติเหตุ</td>\n",
    "  </tr>\n",
    "</table>\n"
   ]
  },
  {
   "cell_type": "markdown",
   "metadata": {
    "tags": []
   },
   "source": [
    "### นำ column ที่ไม่ได้ใช้งานออก"
   ]
  },
  {
   "cell_type": "code",
   "execution_count": 4,
   "metadata": {
    "tags": []
   },
   "outputs": [],
   "source": [
    "df = df.set_index('Accident_Index')\n",
    "df = df.drop(columns=['Unnamed: 0', 'Location_Easting_OSGR', 'Location_Northing_OSGR',\n",
    "             'Local_Authority_(Highway)', 'LSOA_of_Accident_Location', 'Special_Conditions_at_Site',\n",
    "             'Carriageway_Hazards', 'Date', 'Time', 'Year'], axis=1)"
   ]
  },
  {
   "cell_type": "markdown",
   "metadata": {
    "tags": []
   },
   "source": [
    "### จำนวน rows และ columns "
   ]
  },
  {
   "cell_type": "code",
   "execution_count": 5,
   "metadata": {},
   "outputs": [
    {
     "name": "stdout",
     "output_type": "stream",
     "text": [
      "Number of rows:  1504150 \n",
      "Number of columns:  22\n"
     ]
    }
   ],
   "source": [
    "print(\"Number of rows: \", df.shape[0],\n",
    "     \"\\nNumber of columns: \", df.shape[1])"
   ]
  },
  {
   "cell_type": "code",
   "execution_count": 6,
   "metadata": {
    "tags": []
   },
   "outputs": [
    {
     "name": "stdout",
     "output_type": "stream",
     "text": [
      "<class 'pandas.core.frame.DataFrame'>\n",
      "Index: 1504150 entries, 200501BS00001 to 2.01E+12\n",
      "Data columns (total 22 columns):\n",
      " #   Column                                       Non-Null Count    Dtype  \n",
      "---  ------                                       --------------    -----  \n",
      " 0   Longitude                                    1504049 non-null  float64\n",
      " 1   Latitude                                     1504150 non-null  float64\n",
      " 2   Police_Force                                 1504150 non-null  int64  \n",
      " 3   Accident_Severity                            1504150 non-null  int64  \n",
      " 4   Number_of_Vehicles                           1504150 non-null  int64  \n",
      " 5   Number_of_Casualties                         1504150 non-null  int64  \n",
      " 6   Day_of_Week                                  1504150 non-null  int64  \n",
      " 7   Local_Authority_(District)                   1504150 non-null  int64  \n",
      " 8   1st_Road_Class                               1504150 non-null  int64  \n",
      " 9   1st_Road_Number                              1504150 non-null  int64  \n",
      " 10  Road_Type                                    1504150 non-null  object \n",
      " 11  Speed_limit                                  1504150 non-null  int64  \n",
      " 12  Junction_Control                             901315 non-null   object \n",
      " 13  2nd_Road_Class                               1504150 non-null  int64  \n",
      " 14  2nd_Road_Number                              1504150 non-null  int64  \n",
      " 15  Pedestrian_Crossing-Human_Control            1504133 non-null  object \n",
      " 16  Pedestrian_Crossing-Physical_Facilities      1504116 non-null  object \n",
      " 17  Light_Conditions                             1504150 non-null  object \n",
      " 18  Weather_Conditions                           1504150 non-null  object \n",
      " 19  Road_Surface_Conditions                      1504150 non-null  object \n",
      " 20  Urban_or_Rural_Area                          1504150 non-null  int64  \n",
      " 21  Did_Police_Officer_Attend_Scene_of_Accident  1504150 non-null  object \n",
      "dtypes: float64(2), int64(12), object(8)\n",
      "memory usage: 263.9+ MB\n"
     ]
    }
   ],
   "source": [
    "df.info()"
   ]
  },
  {
   "cell_type": "markdown",
   "metadata": {
    "tags": []
   },
   "source": [
    "### column ที่มี null"
   ]
  },
  {
   "cell_type": "code",
   "execution_count": 7,
   "metadata": {},
   "outputs": [
    {
     "data": {
      "text/plain": [
       "Longitude                                       True\n",
       "Latitude                                       False\n",
       "Police_Force                                   False\n",
       "Accident_Severity                              False\n",
       "Number_of_Vehicles                             False\n",
       "Number_of_Casualties                           False\n",
       "Day_of_Week                                    False\n",
       "Local_Authority_(District)                     False\n",
       "1st_Road_Class                                 False\n",
       "1st_Road_Number                                False\n",
       "Road_Type                                      False\n",
       "Speed_limit                                    False\n",
       "Junction_Control                                True\n",
       "2nd_Road_Class                                 False\n",
       "2nd_Road_Number                                False\n",
       "Pedestrian_Crossing-Human_Control               True\n",
       "Pedestrian_Crossing-Physical_Facilities         True\n",
       "Light_Conditions                               False\n",
       "Weather_Conditions                             False\n",
       "Road_Surface_Conditions                        False\n",
       "Urban_or_Rural_Area                            False\n",
       "Did_Police_Officer_Attend_Scene_of_Accident    False\n",
       "dtype: bool"
      ]
     },
     "execution_count": 7,
     "metadata": {},
     "output_type": "execute_result"
    }
   ],
   "source": [
    "df.isna().any()"
   ]
  },
  {
   "cell_type": "code",
   "execution_count": 8,
   "metadata": {},
   "outputs": [
    {
     "data": {
      "text/plain": [
       "Longitude                                         101\n",
       "Latitude                                            0\n",
       "Police_Force                                        0\n",
       "Accident_Severity                                   0\n",
       "Number_of_Vehicles                                  0\n",
       "Number_of_Casualties                                0\n",
       "Day_of_Week                                         0\n",
       "Local_Authority_(District)                          0\n",
       "1st_Road_Class                                      0\n",
       "1st_Road_Number                                     0\n",
       "Road_Type                                           0\n",
       "Speed_limit                                         0\n",
       "Junction_Control                               602835\n",
       "2nd_Road_Class                                      0\n",
       "2nd_Road_Number                                     0\n",
       "Pedestrian_Crossing-Human_Control                  17\n",
       "Pedestrian_Crossing-Physical_Facilities            34\n",
       "Light_Conditions                                    0\n",
       "Weather_Conditions                                  0\n",
       "Road_Surface_Conditions                             0\n",
       "Urban_or_Rural_Area                                 0\n",
       "Did_Police_Officer_Attend_Scene_of_Accident         0\n",
       "dtype: int64"
      ]
     },
     "execution_count": 8,
     "metadata": {},
     "output_type": "execute_result"
    }
   ],
   "source": [
    "df.isna().sum()"
   ]
  },
  {
   "cell_type": "markdown",
   "metadata": {},
   "source": [
    "### ลบค่า NULL และ ค่าที่ Duplicated"
   ]
  },
  {
   "cell_type": "code",
   "execution_count": 9,
   "metadata": {
    "tags": []
   },
   "outputs": [],
   "source": [
    "df.dropna(subset=['Longitude', 'Pedestrian_Crossing-Human_Control',\n",
    "                  'Pedestrian_Crossing-Physical_Facilities', 'Junction_Control'], inplace=True)"
   ]
  },
  {
   "cell_type": "code",
   "execution_count": 10,
   "metadata": {},
   "outputs": [
    {
     "name": "stdout",
     "output_type": "stream",
     "text": [
      "Number of duplicate rows:  25600\n",
      "Number of rows remaining:  875656\n"
     ]
    }
   ],
   "source": [
    "dup_rows = df[df.duplicated()]\n",
    "print(\"Number of duplicate rows: \", dup_rows.shape[0])\n",
    "\n",
    "df.drop_duplicates(inplace=True)\n",
    "print(\"Number of rows remaining: \", df.shape[0])"
   ]
  },
  {
   "cell_type": "markdown",
   "metadata": {
    "jp-MarkdownHeadingCollapsed": true,
    "tags": []
   },
   "source": [
    "## ประเภทและเนื้อหาของข้อมูล"
   ]
  },
  {
   "cell_type": "markdown",
   "metadata": {
    "tags": []
   },
   "source": [
    "### NUMBER"
   ]
  },
  {
   "cell_type": "code",
   "execution_count": 11,
   "metadata": {},
   "outputs": [
    {
     "data": {
      "text/html": [
       "<div>\n",
       "<style scoped>\n",
       "    .dataframe tbody tr th:only-of-type {\n",
       "        vertical-align: middle;\n",
       "    }\n",
       "\n",
       "    .dataframe tbody tr th {\n",
       "        vertical-align: top;\n",
       "    }\n",
       "\n",
       "    .dataframe thead th {\n",
       "        text-align: right;\n",
       "    }\n",
       "</style>\n",
       "<table border=\"1\" class=\"dataframe\">\n",
       "  <thead>\n",
       "    <tr style=\"text-align: right;\">\n",
       "      <th></th>\n",
       "      <th>Longitude</th>\n",
       "      <th>Latitude</th>\n",
       "      <th>Police_Force</th>\n",
       "      <th>Accident_Severity</th>\n",
       "      <th>Number_of_Vehicles</th>\n",
       "      <th>Number_of_Casualties</th>\n",
       "      <th>Day_of_Week</th>\n",
       "      <th>Local_Authority_(District)</th>\n",
       "      <th>1st_Road_Class</th>\n",
       "      <th>1st_Road_Number</th>\n",
       "      <th>Speed_limit</th>\n",
       "      <th>2nd_Road_Class</th>\n",
       "      <th>2nd_Road_Number</th>\n",
       "      <th>Urban_or_Rural_Area</th>\n",
       "    </tr>\n",
       "  </thead>\n",
       "  <tbody>\n",
       "    <tr>\n",
       "      <th>count</th>\n",
       "      <td>875656.000000</td>\n",
       "      <td>875656.000000</td>\n",
       "      <td>875656.000000</td>\n",
       "      <td>875656.000000</td>\n",
       "      <td>875656.000000</td>\n",
       "      <td>875656.000000</td>\n",
       "      <td>875656.000000</td>\n",
       "      <td>875656.000000</td>\n",
       "      <td>875656.000000</td>\n",
       "      <td>875656.000000</td>\n",
       "      <td>875656.000000</td>\n",
       "      <td>875656.000000</td>\n",
       "      <td>875656.000000</td>\n",
       "      <td>875656.000000</td>\n",
       "    </tr>\n",
       "    <tr>\n",
       "      <th>mean</th>\n",
       "      <td>-1.358815</td>\n",
       "      <td>52.534923</td>\n",
       "      <td>28.019156</td>\n",
       "      <td>2.863688</td>\n",
       "      <td>1.878225</td>\n",
       "      <td>1.331559</td>\n",
       "      <td>4.128097</td>\n",
       "      <td>324.772355</td>\n",
       "      <td>4.140829</td>\n",
       "      <td>1060.133096</td>\n",
       "      <td>35.493030</td>\n",
       "      <td>5.127281</td>\n",
       "      <td>636.151300</td>\n",
       "      <td>1.248583</td>\n",
       "    </tr>\n",
       "    <tr>\n",
       "      <th>std</th>\n",
       "      <td>1.348288</td>\n",
       "      <td>1.385562</td>\n",
       "      <td>24.854942</td>\n",
       "      <td>0.365279</td>\n",
       "      <td>0.603236</td>\n",
       "      <td>0.771502</td>\n",
       "      <td>1.900660</td>\n",
       "      <td>255.539853</td>\n",
       "      <td>1.340731</td>\n",
       "      <td>1848.433057</td>\n",
       "      <td>11.357466</td>\n",
       "      <td>1.454594</td>\n",
       "      <td>1633.883641</td>\n",
       "      <td>0.432237</td>\n",
       "    </tr>\n",
       "    <tr>\n",
       "      <th>min</th>\n",
       "      <td>-7.498973</td>\n",
       "      <td>49.914488</td>\n",
       "      <td>1.000000</td>\n",
       "      <td>1.000000</td>\n",
       "      <td>1.000000</td>\n",
       "      <td>1.000000</td>\n",
       "      <td>1.000000</td>\n",
       "      <td>1.000000</td>\n",
       "      <td>1.000000</td>\n",
       "      <td>0.000000</td>\n",
       "      <td>10.000000</td>\n",
       "      <td>-1.000000</td>\n",
       "      <td>-1.000000</td>\n",
       "      <td>1.000000</td>\n",
       "    </tr>\n",
       "    <tr>\n",
       "      <th>25%</th>\n",
       "      <td>-2.239852</td>\n",
       "      <td>51.489875</td>\n",
       "      <td>6.000000</td>\n",
       "      <td>3.000000</td>\n",
       "      <td>2.000000</td>\n",
       "      <td>1.000000</td>\n",
       "      <td>3.000000</td>\n",
       "      <td>100.000000</td>\n",
       "      <td>3.000000</td>\n",
       "      <td>0.000000</td>\n",
       "      <td>30.000000</td>\n",
       "      <td>4.000000</td>\n",
       "      <td>0.000000</td>\n",
       "      <td>1.000000</td>\n",
       "    </tr>\n",
       "    <tr>\n",
       "      <th>50%</th>\n",
       "      <td>-1.330830</td>\n",
       "      <td>52.245503</td>\n",
       "      <td>21.000000</td>\n",
       "      <td>3.000000</td>\n",
       "      <td>2.000000</td>\n",
       "      <td>1.000000</td>\n",
       "      <td>4.000000</td>\n",
       "      <td>300.000000</td>\n",
       "      <td>4.000000</td>\n",
       "      <td>178.000000</td>\n",
       "      <td>30.000000</td>\n",
       "      <td>6.000000</td>\n",
       "      <td>0.000000</td>\n",
       "      <td>1.000000</td>\n",
       "    </tr>\n",
       "    <tr>\n",
       "      <th>75%</th>\n",
       "      <td>-0.189805</td>\n",
       "      <td>53.449206</td>\n",
       "      <td>44.000000</td>\n",
       "      <td>3.000000</td>\n",
       "      <td>2.000000</td>\n",
       "      <td>1.000000</td>\n",
       "      <td>6.000000</td>\n",
       "      <td>500.000000</td>\n",
       "      <td>6.000000</td>\n",
       "      <td>850.250000</td>\n",
       "      <td>30.000000</td>\n",
       "      <td>6.000000</td>\n",
       "      <td>202.000000</td>\n",
       "      <td>1.000000</td>\n",
       "    </tr>\n",
       "    <tr>\n",
       "      <th>max</th>\n",
       "      <td>1.759398</td>\n",
       "      <td>60.662043</td>\n",
       "      <td>98.000000</td>\n",
       "      <td>3.000000</td>\n",
       "      <td>28.000000</td>\n",
       "      <td>87.000000</td>\n",
       "      <td>7.000000</td>\n",
       "      <td>941.000000</td>\n",
       "      <td>6.000000</td>\n",
       "      <td>9999.000000</td>\n",
       "      <td>70.000000</td>\n",
       "      <td>6.000000</td>\n",
       "      <td>9999.000000</td>\n",
       "      <td>3.000000</td>\n",
       "    </tr>\n",
       "  </tbody>\n",
       "</table>\n",
       "</div>"
      ],
      "text/plain": [
       "           Longitude       Latitude   Police_Force  Accident_Severity  \\\n",
       "count  875656.000000  875656.000000  875656.000000      875656.000000   \n",
       "mean       -1.358815      52.534923      28.019156           2.863688   \n",
       "std         1.348288       1.385562      24.854942           0.365279   \n",
       "min        -7.498973      49.914488       1.000000           1.000000   \n",
       "25%        -2.239852      51.489875       6.000000           3.000000   \n",
       "50%        -1.330830      52.245503      21.000000           3.000000   \n",
       "75%        -0.189805      53.449206      44.000000           3.000000   \n",
       "max         1.759398      60.662043      98.000000           3.000000   \n",
       "\n",
       "       Number_of_Vehicles  Number_of_Casualties    Day_of_Week  \\\n",
       "count       875656.000000         875656.000000  875656.000000   \n",
       "mean             1.878225              1.331559       4.128097   \n",
       "std              0.603236              0.771502       1.900660   \n",
       "min              1.000000              1.000000       1.000000   \n",
       "25%              2.000000              1.000000       3.000000   \n",
       "50%              2.000000              1.000000       4.000000   \n",
       "75%              2.000000              1.000000       6.000000   \n",
       "max             28.000000             87.000000       7.000000   \n",
       "\n",
       "       Local_Authority_(District)  1st_Road_Class  1st_Road_Number  \\\n",
       "count               875656.000000   875656.000000    875656.000000   \n",
       "mean                   324.772355        4.140829      1060.133096   \n",
       "std                    255.539853        1.340731      1848.433057   \n",
       "min                      1.000000        1.000000         0.000000   \n",
       "25%                    100.000000        3.000000         0.000000   \n",
       "50%                    300.000000        4.000000       178.000000   \n",
       "75%                    500.000000        6.000000       850.250000   \n",
       "max                    941.000000        6.000000      9999.000000   \n",
       "\n",
       "         Speed_limit  2nd_Road_Class  2nd_Road_Number  Urban_or_Rural_Area  \n",
       "count  875656.000000   875656.000000    875656.000000        875656.000000  \n",
       "mean       35.493030        5.127281       636.151300             1.248583  \n",
       "std        11.357466        1.454594      1633.883641             0.432237  \n",
       "min        10.000000       -1.000000        -1.000000             1.000000  \n",
       "25%        30.000000        4.000000         0.000000             1.000000  \n",
       "50%        30.000000        6.000000         0.000000             1.000000  \n",
       "75%        30.000000        6.000000       202.000000             1.000000  \n",
       "max        70.000000        6.000000      9999.000000             3.000000  "
      ]
     },
     "execution_count": 11,
     "metadata": {},
     "output_type": "execute_result"
    }
   ],
   "source": [
    "df.describe(include='number')"
   ]
  },
  {
   "cell_type": "code",
   "execution_count": 12,
   "metadata": {},
   "outputs": [
    {
     "data": {
      "text/plain": [
       "14"
      ]
     },
     "execution_count": 12,
     "metadata": {},
     "output_type": "execute_result"
    }
   ],
   "source": [
    "numerical_data = df.select_dtypes(include='number')\n",
    "len(numerical_data.columns)"
   ]
  },
  {
   "cell_type": "markdown",
   "metadata": {},
   "source": [
    "### OBJECT"
   ]
  },
  {
   "cell_type": "code",
   "execution_count": 13,
   "metadata": {},
   "outputs": [
    {
     "data": {
      "text/html": [
       "<div>\n",
       "<style scoped>\n",
       "    .dataframe tbody tr th:only-of-type {\n",
       "        vertical-align: middle;\n",
       "    }\n",
       "\n",
       "    .dataframe tbody tr th {\n",
       "        vertical-align: top;\n",
       "    }\n",
       "\n",
       "    .dataframe thead th {\n",
       "        text-align: right;\n",
       "    }\n",
       "</style>\n",
       "<table border=\"1\" class=\"dataframe\">\n",
       "  <thead>\n",
       "    <tr style=\"text-align: right;\">\n",
       "      <th></th>\n",
       "      <th>Road_Type</th>\n",
       "      <th>Junction_Control</th>\n",
       "      <th>Pedestrian_Crossing-Human_Control</th>\n",
       "      <th>Pedestrian_Crossing-Physical_Facilities</th>\n",
       "      <th>Light_Conditions</th>\n",
       "      <th>Weather_Conditions</th>\n",
       "      <th>Road_Surface_Conditions</th>\n",
       "      <th>Did_Police_Officer_Attend_Scene_of_Accident</th>\n",
       "    </tr>\n",
       "  </thead>\n",
       "  <tbody>\n",
       "    <tr>\n",
       "      <th>count</th>\n",
       "      <td>875656</td>\n",
       "      <td>875656</td>\n",
       "      <td>875656</td>\n",
       "      <td>875656</td>\n",
       "      <td>875656</td>\n",
       "      <td>875656</td>\n",
       "      <td>875656</td>\n",
       "      <td>875656</td>\n",
       "    </tr>\n",
       "    <tr>\n",
       "      <th>unique</th>\n",
       "      <td>6</td>\n",
       "      <td>4</td>\n",
       "      <td>3</td>\n",
       "      <td>6</td>\n",
       "      <td>5</td>\n",
       "      <td>9</td>\n",
       "      <td>6</td>\n",
       "      <td>2</td>\n",
       "    </tr>\n",
       "    <tr>\n",
       "      <th>top</th>\n",
       "      <td>Single carriageway</td>\n",
       "      <td>Giveway or uncontrolled</td>\n",
       "      <td>None within 50 metres</td>\n",
       "      <td>No physical crossing within 50 meters</td>\n",
       "      <td>Daylight: Street light present</td>\n",
       "      <td>Fine without high winds</td>\n",
       "      <td>Dry</td>\n",
       "      <td>Yes</td>\n",
       "    </tr>\n",
       "    <tr>\n",
       "      <th>freq</th>\n",
       "      <td>651341</td>\n",
       "      <td>713789</td>\n",
       "      <td>869340</td>\n",
       "      <td>676750</td>\n",
       "      <td>651550</td>\n",
       "      <td>709946</td>\n",
       "      <td>624041</td>\n",
       "      <td>694501</td>\n",
       "    </tr>\n",
       "  </tbody>\n",
       "</table>\n",
       "</div>"
      ],
      "text/plain": [
       "                 Road_Type         Junction_Control  \\\n",
       "count               875656                   875656   \n",
       "unique                   6                        4   \n",
       "top     Single carriageway  Giveway or uncontrolled   \n",
       "freq                651341                   713789   \n",
       "\n",
       "       Pedestrian_Crossing-Human_Control  \\\n",
       "count                             875656   \n",
       "unique                                 3   \n",
       "top                None within 50 metres   \n",
       "freq                              869340   \n",
       "\n",
       "       Pedestrian_Crossing-Physical_Facilities  \\\n",
       "count                                   875656   \n",
       "unique                                       6   \n",
       "top      No physical crossing within 50 meters   \n",
       "freq                                    676750   \n",
       "\n",
       "                      Light_Conditions       Weather_Conditions  \\\n",
       "count                           875656                   875656   \n",
       "unique                               5                        9   \n",
       "top     Daylight: Street light present  Fine without high winds   \n",
       "freq                            651550                   709946   \n",
       "\n",
       "       Road_Surface_Conditions Did_Police_Officer_Attend_Scene_of_Accident  \n",
       "count                   875656                                      875656  \n",
       "unique                       6                                           2  \n",
       "top                        Dry                                         Yes  \n",
       "freq                    624041                                      694501  "
      ]
     },
     "execution_count": 13,
     "metadata": {},
     "output_type": "execute_result"
    }
   ],
   "source": [
    "df.describe(include='object')"
   ]
  },
  {
   "cell_type": "code",
   "execution_count": 14,
   "metadata": {},
   "outputs": [
    {
     "data": {
      "text/plain": [
       "8"
      ]
     },
     "execution_count": 14,
     "metadata": {},
     "output_type": "execute_result"
    }
   ],
   "source": [
    "categorical_data = df.select_dtypes(include='object')\n",
    "len(categorical_data.columns)"
   ]
  },
  {
   "cell_type": "markdown",
   "metadata": {},
   "source": [
    "### ตัวอย่างชุดข้อมูลหลังทำความสะอาดเสร็จเรียบร้อย"
   ]
  },
  {
   "cell_type": "code",
   "execution_count": 15,
   "metadata": {
    "tags": []
   },
   "outputs": [
    {
     "data": {
      "text/html": [
       "<div>\n",
       "<style scoped>\n",
       "    .dataframe tbody tr th:only-of-type {\n",
       "        vertical-align: middle;\n",
       "    }\n",
       "\n",
       "    .dataframe tbody tr th {\n",
       "        vertical-align: top;\n",
       "    }\n",
       "\n",
       "    .dataframe thead th {\n",
       "        text-align: right;\n",
       "    }\n",
       "</style>\n",
       "<table border=\"1\" class=\"dataframe\">\n",
       "  <thead>\n",
       "    <tr style=\"text-align: right;\">\n",
       "      <th></th>\n",
       "      <th>Longitude</th>\n",
       "      <th>Latitude</th>\n",
       "      <th>Police_Force</th>\n",
       "      <th>Accident_Severity</th>\n",
       "      <th>Number_of_Vehicles</th>\n",
       "      <th>Number_of_Casualties</th>\n",
       "      <th>Day_of_Week</th>\n",
       "      <th>Local_Authority_(District)</th>\n",
       "      <th>1st_Road_Class</th>\n",
       "      <th>1st_Road_Number</th>\n",
       "      <th>...</th>\n",
       "      <th>Junction_Control</th>\n",
       "      <th>2nd_Road_Class</th>\n",
       "      <th>2nd_Road_Number</th>\n",
       "      <th>Pedestrian_Crossing-Human_Control</th>\n",
       "      <th>Pedestrian_Crossing-Physical_Facilities</th>\n",
       "      <th>Light_Conditions</th>\n",
       "      <th>Weather_Conditions</th>\n",
       "      <th>Road_Surface_Conditions</th>\n",
       "      <th>Urban_or_Rural_Area</th>\n",
       "      <th>Did_Police_Officer_Attend_Scene_of_Accident</th>\n",
       "    </tr>\n",
       "    <tr>\n",
       "      <th>Accident_Index</th>\n",
       "      <th></th>\n",
       "      <th></th>\n",
       "      <th></th>\n",
       "      <th></th>\n",
       "      <th></th>\n",
       "      <th></th>\n",
       "      <th></th>\n",
       "      <th></th>\n",
       "      <th></th>\n",
       "      <th></th>\n",
       "      <th></th>\n",
       "      <th></th>\n",
       "      <th></th>\n",
       "      <th></th>\n",
       "      <th></th>\n",
       "      <th></th>\n",
       "      <th></th>\n",
       "      <th></th>\n",
       "      <th></th>\n",
       "      <th></th>\n",
       "      <th></th>\n",
       "    </tr>\n",
       "  </thead>\n",
       "  <tbody>\n",
       "    <tr>\n",
       "      <th>2.01E+12</th>\n",
       "      <td>-2.224124</td>\n",
       "      <td>53.012561</td>\n",
       "      <td>21</td>\n",
       "      <td>3</td>\n",
       "      <td>2</td>\n",
       "      <td>1</td>\n",
       "      <td>4</td>\n",
       "      <td>253</td>\n",
       "      <td>3</td>\n",
       "      <td>527</td>\n",
       "      <td>...</td>\n",
       "      <td>Giveway or uncontrolled</td>\n",
       "      <td>3</td>\n",
       "      <td>53</td>\n",
       "      <td>None within 50 metres</td>\n",
       "      <td>No physical crossing within 50 meters</td>\n",
       "      <td>Daylight: Street light present</td>\n",
       "      <td>Fine without high winds</td>\n",
       "      <td>Dry</td>\n",
       "      <td>1</td>\n",
       "      <td>Yes</td>\n",
       "    </tr>\n",
       "    <tr>\n",
       "      <th>2.01E+12</th>\n",
       "      <td>-3.812967</td>\n",
       "      <td>51.591278</td>\n",
       "      <td>62</td>\n",
       "      <td>3</td>\n",
       "      <td>2</td>\n",
       "      <td>2</td>\n",
       "      <td>4</td>\n",
       "      <td>743</td>\n",
       "      <td>6</td>\n",
       "      <td>0</td>\n",
       "      <td>...</td>\n",
       "      <td>Giveway or uncontrolled</td>\n",
       "      <td>6</td>\n",
       "      <td>0</td>\n",
       "      <td>None within 50 metres</td>\n",
       "      <td>No physical crossing within 50 meters</td>\n",
       "      <td>Daylight: Street light present</td>\n",
       "      <td>Fine without high winds</td>\n",
       "      <td>Dry</td>\n",
       "      <td>1</td>\n",
       "      <td>Yes</td>\n",
       "    </tr>\n",
       "    <tr>\n",
       "      <th>201401QK50504</th>\n",
       "      <td>-0.273159</td>\n",
       "      <td>51.545546</td>\n",
       "      <td>1</td>\n",
       "      <td>3</td>\n",
       "      <td>1</td>\n",
       "      <td>1</td>\n",
       "      <td>6</td>\n",
       "      <td>28</td>\n",
       "      <td>3</td>\n",
       "      <td>404</td>\n",
       "      <td>...</td>\n",
       "      <td>Giveway or uncontrolled</td>\n",
       "      <td>6</td>\n",
       "      <td>0</td>\n",
       "      <td>None within 50 metres</td>\n",
       "      <td>No physical crossing within 50 meters</td>\n",
       "      <td>Daylight: Street light present</td>\n",
       "      <td>Fine without high winds</td>\n",
       "      <td>Dry</td>\n",
       "      <td>1</td>\n",
       "      <td>Yes</td>\n",
       "    </tr>\n",
       "    <tr>\n",
       "      <th>20144100G0678</th>\n",
       "      <td>-0.204593</td>\n",
       "      <td>51.963468</td>\n",
       "      <td>41</td>\n",
       "      <td>3</td>\n",
       "      <td>2</td>\n",
       "      <td>1</td>\n",
       "      <td>5</td>\n",
       "      <td>433</td>\n",
       "      <td>2</td>\n",
       "      <td>1</td>\n",
       "      <td>...</td>\n",
       "      <td>Giveway or uncontrolled</td>\n",
       "      <td>3</td>\n",
       "      <td>505</td>\n",
       "      <td>None within 50 metres</td>\n",
       "      <td>No physical crossing within 50 meters</td>\n",
       "      <td>Darkness: Street lights present and lit</td>\n",
       "      <td>Fine without high winds</td>\n",
       "      <td>Dry</td>\n",
       "      <td>2</td>\n",
       "      <td>Yes</td>\n",
       "    </tr>\n",
       "    <tr>\n",
       "      <th>2.0111E+12</th>\n",
       "      <td>-1.520820</td>\n",
       "      <td>54.908589</td>\n",
       "      <td>10</td>\n",
       "      <td>3</td>\n",
       "      <td>2</td>\n",
       "      <td>1</td>\n",
       "      <td>3</td>\n",
       "      <td>150</td>\n",
       "      <td>6</td>\n",
       "      <td>135</td>\n",
       "      <td>...</td>\n",
       "      <td>Giveway or uncontrolled</td>\n",
       "      <td>6</td>\n",
       "      <td>135</td>\n",
       "      <td>None within 50 metres</td>\n",
       "      <td>No physical crossing within 50 meters</td>\n",
       "      <td>Daylight: Street light present</td>\n",
       "      <td>Fine without high winds</td>\n",
       "      <td>Dry</td>\n",
       "      <td>1</td>\n",
       "      <td>Yes</td>\n",
       "    </tr>\n",
       "  </tbody>\n",
       "</table>\n",
       "<p>5 rows × 22 columns</p>\n",
       "</div>"
      ],
      "text/plain": [
       "                Longitude   Latitude  Police_Force  Accident_Severity  \\\n",
       "Accident_Index                                                          \n",
       "2.01E+12        -2.224124  53.012561            21                  3   \n",
       "2.01E+12        -3.812967  51.591278            62                  3   \n",
       "201401QK50504   -0.273159  51.545546             1                  3   \n",
       "20144100G0678   -0.204593  51.963468            41                  3   \n",
       "2.0111E+12      -1.520820  54.908589            10                  3   \n",
       "\n",
       "                Number_of_Vehicles  Number_of_Casualties  Day_of_Week  \\\n",
       "Accident_Index                                                          \n",
       "2.01E+12                         2                     1            4   \n",
       "2.01E+12                         2                     2            4   \n",
       "201401QK50504                    1                     1            6   \n",
       "20144100G0678                    2                     1            5   \n",
       "2.0111E+12                       2                     1            3   \n",
       "\n",
       "                Local_Authority_(District)  1st_Road_Class  1st_Road_Number  \\\n",
       "Accident_Index                                                                \n",
       "2.01E+12                               253               3              527   \n",
       "2.01E+12                               743               6                0   \n",
       "201401QK50504                           28               3              404   \n",
       "20144100G0678                          433               2                1   \n",
       "2.0111E+12                             150               6              135   \n",
       "\n",
       "                ...         Junction_Control  2nd_Road_Class 2nd_Road_Number  \\\n",
       "Accident_Index  ...                                                            \n",
       "2.01E+12        ...  Giveway or uncontrolled               3              53   \n",
       "2.01E+12        ...  Giveway or uncontrolled               6               0   \n",
       "201401QK50504   ...  Giveway or uncontrolled               6               0   \n",
       "20144100G0678   ...  Giveway or uncontrolled               3             505   \n",
       "2.0111E+12      ...  Giveway or uncontrolled               6             135   \n",
       "\n",
       "                Pedestrian_Crossing-Human_Control  \\\n",
       "Accident_Index                                      \n",
       "2.01E+12                    None within 50 metres   \n",
       "2.01E+12                    None within 50 metres   \n",
       "201401QK50504               None within 50 metres   \n",
       "20144100G0678               None within 50 metres   \n",
       "2.0111E+12                  None within 50 metres   \n",
       "\n",
       "                Pedestrian_Crossing-Physical_Facilities  \\\n",
       "Accident_Index                                            \n",
       "2.01E+12          No physical crossing within 50 meters   \n",
       "2.01E+12          No physical crossing within 50 meters   \n",
       "201401QK50504     No physical crossing within 50 meters   \n",
       "20144100G0678     No physical crossing within 50 meters   \n",
       "2.0111E+12        No physical crossing within 50 meters   \n",
       "\n",
       "                                       Light_Conditions  \\\n",
       "Accident_Index                                            \n",
       "2.01E+12                 Daylight: Street light present   \n",
       "2.01E+12                 Daylight: Street light present   \n",
       "201401QK50504            Daylight: Street light present   \n",
       "20144100G0678   Darkness: Street lights present and lit   \n",
       "2.0111E+12               Daylight: Street light present   \n",
       "\n",
       "                     Weather_Conditions Road_Surface_Conditions  \\\n",
       "Accident_Index                                                    \n",
       "2.01E+12        Fine without high winds                     Dry   \n",
       "2.01E+12        Fine without high winds                     Dry   \n",
       "201401QK50504   Fine without high winds                     Dry   \n",
       "20144100G0678   Fine without high winds                     Dry   \n",
       "2.0111E+12      Fine without high winds                     Dry   \n",
       "\n",
       "               Urban_or_Rural_Area Did_Police_Officer_Attend_Scene_of_Accident  \n",
       "Accident_Index                                                                  \n",
       "2.01E+12                         1                                         Yes  \n",
       "2.01E+12                         1                                         Yes  \n",
       "201401QK50504                    1                                         Yes  \n",
       "20144100G0678                    2                                         Yes  \n",
       "2.0111E+12                       1                                         Yes  \n",
       "\n",
       "[5 rows x 22 columns]"
      ]
     },
     "execution_count": 15,
     "metadata": {},
     "output_type": "execute_result"
    }
   ],
   "source": [
    "df.sample(5)"
   ]
  },
  {
   "cell_type": "markdown",
   "metadata": {
    "jp-MarkdownHeadingCollapsed": true,
    "tags": []
   },
   "source": [
    "## Visualization"
   ]
  },
  {
   "cell_type": "markdown",
   "metadata": {},
   "source": []
  },
  {
   "cell_type": "markdown",
   "metadata": {
    "tags": []
   },
   "source": [
    "### จำนวนรถและคนเสียชีวิตจากอุบัติเหตุตามวัน"
   ]
  },
  {
   "cell_type": "code",
   "execution_count": 16,
   "metadata": {},
   "outputs": [
    {
     "data": {
      "text/html": [
       "<div>\n",
       "<style scoped>\n",
       "    .dataframe tbody tr th:only-of-type {\n",
       "        vertical-align: middle;\n",
       "    }\n",
       "\n",
       "    .dataframe tbody tr th {\n",
       "        vertical-align: top;\n",
       "    }\n",
       "\n",
       "    .dataframe thead th {\n",
       "        text-align: right;\n",
       "    }\n",
       "</style>\n",
       "<table border=\"1\" class=\"dataframe\">\n",
       "  <thead>\n",
       "    <tr style=\"text-align: right;\">\n",
       "      <th></th>\n",
       "      <th>Day_of_Week</th>\n",
       "      <th>Number_of_Casualties</th>\n",
       "    </tr>\n",
       "  </thead>\n",
       "  <tbody>\n",
       "    <tr>\n",
       "      <th>5</th>\n",
       "      <td>6</td>\n",
       "      <td>191277</td>\n",
       "    </tr>\n",
       "    <tr>\n",
       "      <th>3</th>\n",
       "      <td>4</td>\n",
       "      <td>175290</td>\n",
       "    </tr>\n",
       "    <tr>\n",
       "      <th>4</th>\n",
       "      <td>5</td>\n",
       "      <td>174531</td>\n",
       "    </tr>\n",
       "    <tr>\n",
       "      <th>2</th>\n",
       "      <td>3</td>\n",
       "      <td>172880</td>\n",
       "    </tr>\n",
       "    <tr>\n",
       "      <th>1</th>\n",
       "      <td>2</td>\n",
       "      <td>164171</td>\n",
       "    </tr>\n",
       "    <tr>\n",
       "      <th>6</th>\n",
       "      <td>7</td>\n",
       "      <td>159329</td>\n",
       "    </tr>\n",
       "    <tr>\n",
       "      <th>0</th>\n",
       "      <td>1</td>\n",
       "      <td>128510</td>\n",
       "    </tr>\n",
       "  </tbody>\n",
       "</table>\n",
       "</div>"
      ],
      "text/plain": [
       "   Day_of_Week  Number_of_Casualties\n",
       "5            6                191277\n",
       "3            4                175290\n",
       "4            5                174531\n",
       "2            3                172880\n",
       "1            2                164171\n",
       "6            7                159329\n",
       "0            1                128510"
      ]
     },
     "execution_count": 16,
     "metadata": {},
     "output_type": "execute_result"
    }
   ],
   "source": [
    "days = df.groupby('Day_of_Week')[['Number_of_Casualties']].sum()\n",
    "days = days.reset_index()\n",
    "days.sort_values(by='Number_of_Casualties', ascending=False)"
   ]
  },
  {
   "cell_type": "code",
   "execution_count": 17,
   "metadata": {},
   "outputs": [
    {
     "data": {
      "text/html": [
       "<div>\n",
       "<style scoped>\n",
       "    .dataframe tbody tr th:only-of-type {\n",
       "        vertical-align: middle;\n",
       "    }\n",
       "\n",
       "    .dataframe tbody tr th {\n",
       "        vertical-align: top;\n",
       "    }\n",
       "\n",
       "    .dataframe thead th {\n",
       "        text-align: right;\n",
       "    }\n",
       "</style>\n",
       "<table border=\"1\" class=\"dataframe\">\n",
       "  <thead>\n",
       "    <tr style=\"text-align: right;\">\n",
       "      <th></th>\n",
       "      <th>Day_of_Week</th>\n",
       "      <th>Number_of_Vehicles</th>\n",
       "    </tr>\n",
       "  </thead>\n",
       "  <tbody>\n",
       "    <tr>\n",
       "      <th>5</th>\n",
       "      <td>6</td>\n",
       "      <td>272145</td>\n",
       "    </tr>\n",
       "    <tr>\n",
       "      <th>3</th>\n",
       "      <td>4</td>\n",
       "      <td>254734</td>\n",
       "    </tr>\n",
       "    <tr>\n",
       "      <th>4</th>\n",
       "      <td>5</td>\n",
       "      <td>252738</td>\n",
       "    </tr>\n",
       "    <tr>\n",
       "      <th>2</th>\n",
       "      <td>3</td>\n",
       "      <td>252026</td>\n",
       "    </tr>\n",
       "    <tr>\n",
       "      <th>1</th>\n",
       "      <td>2</td>\n",
       "      <td>235890</td>\n",
       "    </tr>\n",
       "    <tr>\n",
       "      <th>6</th>\n",
       "      <td>7</td>\n",
       "      <td>210742</td>\n",
       "    </tr>\n",
       "    <tr>\n",
       "      <th>0</th>\n",
       "      <td>1</td>\n",
       "      <td>166404</td>\n",
       "    </tr>\n",
       "  </tbody>\n",
       "</table>\n",
       "</div>"
      ],
      "text/plain": [
       "   Day_of_Week  Number_of_Vehicles\n",
       "5            6              272145\n",
       "3            4              254734\n",
       "4            5              252738\n",
       "2            3              252026\n",
       "1            2              235890\n",
       "6            7              210742\n",
       "0            1              166404"
      ]
     },
     "execution_count": 17,
     "metadata": {},
     "output_type": "execute_result"
    }
   ],
   "source": [
    "vehicles = df.groupby('Day_of_Week')[['Number_of_Vehicles']].sum()\n",
    "vehicles = vehicles.reset_index()\n",
    "vehicles.sort_values(by='Number_of_Vehicles', ascending=False)"
   ]
  },
  {
   "cell_type": "code",
   "execution_count": 18,
   "metadata": {},
   "outputs": [
    {
     "data": {
      "image/png": "[encoded data removed]",
      "text/plain": [
       "<Figure size 1200x600 with 2 Axes>"
      ]
     },
     "metadata": {},
     "output_type": "display_data"
    }
   ],
   "source": [
    "fig, axs = plt.subplots(1, 2, figsize=(12, 6))\n",
    "\n",
    "sns.barplot(data=days, x='Day_of_Week', y='Number_of_Casualties', palette='rocket', ax=axs[0])\n",
    "axs[0].set_title('Number of Casualties')\n",
    "\n",
    "sns.barplot(data=vehicles, x='Day_of_Week', y='Number_of_Vehicles', palette='rocket', ax=axs[1])\n",
    "axs[1].set_title('Number of Vehicles')\n",
    "\n",
    "plt.tight_layout()\n",
    "plt.show()"
   ]
  },
  {
   "cell_type": "markdown",
   "metadata": {
    "tags": []
   },
   "source": [
    "### อัตราการเสียชีวิตเมื่อเทียบกับสภาพอากาศ"
   ]
  },
  {
   "cell_type": "code",
   "execution_count": 19,
   "metadata": {},
   "outputs": [
    {
     "data": {
      "text/plain": [
       "Weather_Conditions\n",
       "Snowing with high winds       1.413846\n",
       "Fog or mist                   1.387173\n",
       "Raining without high winds    1.367079\n",
       "Fine with high winds          1.360041\n",
       "Raining with high winds       1.357516\n",
       "Fine without high winds       1.327680\n",
       "Snowing without high winds    1.312262\n",
       "dtype: float64"
      ]
     },
     "execution_count": 19,
     "metadata": {},
     "output_type": "execute_result"
    }
   ],
   "source": [
    "casualties_by_weather = df.groupby('Weather_Conditions')[['Number_of_Casualties']].sum()\n",
    "\n",
    "weather_counts = df['Weather_Conditions'].value_counts()\n",
    "# หารด้วยจำนวนข้อมูลของแต่ละสภาพอากาศ เพื่อความเท่าเทียมของอัตราส่วน\n",
    "normalized_casualties = casualties_by_weather['Number_of_Casualties'] / weather_counts\n",
    "normalized_casualties = normalized_casualties.drop(['Other', 'Unknown'])\n",
    "normalized_casualties = normalized_casualties.sort_values(ascending=False)\n",
    "normalized_casualties"
   ]
  },
  {
   "cell_type": "code",
   "execution_count": 20,
   "metadata": {},
   "outputs": [
    {
     "data": {
      "image/png": "[encoded data removed]",
      "text/plain": [
       "<Figure size 600x800 with 1 Axes>"
      ]
     },
     "metadata": {},
     "output_type": "display_data"
    }
   ],
   "source": [
    "plt.figure(figsize=(6, 8))\n",
    "plt.pie(normalized_casualties, labels=normalized_casualties.index, autopct='%1.1f%%', startangle=140)\n",
    "plt.title('Casualties rate by weather conditions')\n",
    "plt.axis('equal')\n",
    "plt.show()"
   ]
  },
  {
   "cell_type": "markdown",
   "metadata": {
    "tags": []
   },
   "source": [
    "### อัตราการเสียชีวิตเมื่อเทียบกับสภาพแสงไฟบนถนน"
   ]
  },
  {
   "cell_type": "code",
   "execution_count": 21,
   "metadata": {},
   "outputs": [
    {
     "data": {
      "text/plain": [
       "Light_Conditions\n",
       "Darkeness: No street lighting                1.579988\n",
       "Darkness: Street lights present and lit      1.350757\n",
       "Daylight: Street light present               1.319652\n",
       "Darkness: Street lights present but unlit    1.302283\n",
       "dtype: float64"
      ]
     },
     "execution_count": 21,
     "metadata": {},
     "output_type": "execute_result"
    }
   ],
   "source": [
    "casualties_by_lights = df.groupby('Light_Conditions')[['Number_of_Casualties']].sum()\n",
    "\n",
    "light_counts = df['Light_Conditions'].value_counts()\n",
    "\n",
    "normalized_casualties = casualties_by_lights['Number_of_Casualties'] / light_counts\n",
    "normalized_casualties = normalized_casualties.drop(['Darkness: Street lighting unknown'])\n",
    "normalized_casualties = normalized_casualties.sort_values(ascending=False)\n",
    "normalized_casualties"
   ]
  },
  {
   "cell_type": "code",
   "execution_count": 22,
   "metadata": {},
   "outputs": [
    {
     "data": {
      "image/png": "[encoded data removed]",
      "text/plain": [
       "<Figure size 400x600 with 1 Axes>"
      ]
     },
     "metadata": {},
     "output_type": "display_data"
    }
   ],
   "source": [
    "plt.figure(figsize=(4, 6))\n",
    "plt.pie(normalized_casualties, labels=normalized_casualties.index, autopct='%1.1f%%', startangle=140)\n",
    "plt.title('Casualties rate by light conditions')\n",
    "plt.axis('equal')\n",
    "plt.show()"
   ]
  },
  {
   "cell_type": "markdown",
   "metadata": {
    "tags": []
   },
   "source": [
    "### ค่าเฉลี่ยการเสียชีวิตเทียบกับการจำกัดความเร็ว"
   ]
  },
  {
   "cell_type": "code",
   "execution_count": 23,
   "metadata": {},
   "outputs": [
    {
     "data": {
      "image/png": "[encoded data removed]",
      "text/plain": [
       "<Figure size 640x480 with 1 Axes>"
      ]
     },
     "metadata": {},
     "output_type": "display_data"
    }
   ],
   "source": [
    "speed = df.groupby('Speed_limit')['Number_of_Casualties'].mean().reset_index()\n",
    "sns.barplot(x='Speed_limit', y='Number_of_Casualties', data=speed, palette='deep')\n",
    "plt.show()"
   ]
  },
  {
   "cell_type": "markdown",
   "metadata": {
    "tags": []
   },
   "source": [
    "### ค่าเฉลี่ยคนเสียชีวิตเทียบกับประเภทถนน"
   ]
  },
  {
   "cell_type": "code",
   "execution_count": 24,
   "metadata": {
    "tags": []
   },
   "outputs": [
    {
     "data": {
      "image/png": "[encoded data removed]",
      "text/plain": [
       "<Figure size 800x400 with 1 Axes>"
      ]
     },
     "metadata": {},
     "output_type": "display_data"
    }
   ],
   "source": [
    "plt.figure(figsize=(8, 4))\n",
    "road = df.groupby('Road_Type')['Number_of_Casualties'].mean().drop('Unknown').reset_index()\n",
    "road = road.sort_values(by='Number_of_Casualties')  # Specify the column to sort by\n",
    "sns.barplot(data=road, x='Road_Type', y='Number_of_Casualties', palette='deep')\n",
    "plt.show()"
   ]
  },
  {
   "cell_type": "markdown",
   "metadata": {},
   "source": [
    "### อุบัติเหตุส่วนใหญ่เกิดขึ้นบนถนนประเภทใด"
   ]
  },
  {
   "cell_type": "code",
   "execution_count": 25,
   "metadata": {
    "tags": []
   },
   "outputs": [
    {
     "data": {
      "image/png": "[encoded data removed]",
      "text/plain": [
       "<Figure size 800x500 with 1 Axes>"
      ]
     },
     "metadata": {},
     "output_type": "display_data"
    }
   ],
   "source": [
    "plt.figure(figsize=(8, 5))\n",
    "road_type_counts = df['Road_Type'].value_counts().drop('Unknown')\n",
    "road_type_counts.plot(kind='barh')\n",
    "plt.xlabel('Frequency')\n",
    "plt.ylabel('Junction Control')\n",
    "plt.show()"
   ]
  },
  {
   "cell_type": "markdown",
   "metadata": {},
   "source": [
    "### อุบัติเหตุส่วนใหญ่เกิดขึ้นบนรูปแบบการควบคุมทางแยกใด"
   ]
  },
  {
   "cell_type": "code",
   "execution_count": 26,
   "metadata": {},
   "outputs": [
    {
     "data": {
      "image/png": "[encoded data removed]",
      "text/plain": [
       "<Figure size 800x500 with 1 Axes>"
      ]
     },
     "metadata": {},
     "output_type": "display_data"
    }
   ],
   "source": [
    "plt.figure(figsize=(8, 5))\n",
    "junction_control_counts = df['Junction_Control'].value_counts()\n",
    "junction_control_counts.plot(kind='barh')\n",
    "plt.xlabel('Frequency')\n",
    "plt.ylabel('Junction Control')\n",
    "plt.show()"
   ]
  },
  {
   "cell_type": "markdown",
   "metadata": {},
   "source": [
    "### อุบัติเหตุส่วนใหญ่เกิดขึ้นบนสภาพถนนแบบใด"
   ]
  },
  {
   "cell_type": "code",
   "execution_count": 27,
   "metadata": {},
   "outputs": [
    {
     "data": {
      "image/png": "[encoded data removed]",
      "text/plain": [
       "<Figure size 800x500 with 1 Axes>"
      ]
     },
     "metadata": {},
     "output_type": "display_data"
    }
   ],
   "source": [
    "plt.figure(figsize=(8, 5))\n",
    "road_surface_counts = df['Road_Surface_Conditions'].value_counts()\n",
    "road_surface_counts.plot(kind='barh')\n",
    "plt.xlabel('Frequency')\n",
    "plt.ylabel('Road Surface Conditions')\n",
    "plt.show()"
   ]
  },
  {
   "cell_type": "markdown",
   "metadata": {},
   "source": [
    "### อุบัติเหตุส่วนใหญ่เกิดขึ้นบนสภาพแสงไฟแบบใด"
   ]
  },
  {
   "cell_type": "code",
   "execution_count": 28,
   "metadata": {},
   "outputs": [
    {
     "data": {
      "image/png": "[encoded data removed]",
      "text/plain": [
       "<Figure size 800x500 with 1 Axes>"
      ]
     },
     "metadata": {},
     "output_type": "display_data"
    }
   ],
   "source": [
    "plt.figure(figsize=(8, 5))\n",
    "light_conditions_counts = df['Light_Conditions'].value_counts()\n",
    "light_conditions_counts.plot(kind='barh')\n",
    "plt.xlabel('Frequency')\n",
    "plt.ylabel('Light Conditions')\n",
    "plt.show()"
   ]
  },
  {
   "cell_type": "markdown",
   "metadata": {},
   "source": [
    "### อุบัติเหตุส่วนใหญ่เกิดขึ้นเมื่อมีสิ่งอำนวยความสะดวกบนทางเท้าแบบใด"
   ]
  },
  {
   "cell_type": "code",
   "execution_count": 29,
   "metadata": {},
   "outputs": [
    {
     "data": {
      "image/png": "[encoded data removed]",
      "text/plain": [
       "<Figure size 800x500 with 1 Axes>"
      ]
     },
     "metadata": {},
     "output_type": "display_data"
    }
   ],
   "source": [
    "plt.figure(figsize=(8, 5))\n",
    "pcpf_counts = df['Pedestrian_Crossing-Physical_Facilities'].value_counts()\n",
    "pcpf_counts.plot(kind='barh')\n",
    "plt.xlabel('Frequency')\n",
    "plt.ylabel('Crossing')\n",
    "plt.show()"
   ]
  },
  {
   "cell_type": "markdown",
   "metadata": {
    "tags": []
   },
   "source": [
    "## Machine Learning"
   ]
  },
  {
   "cell_type": "code",
   "execution_count": 30,
   "metadata": {},
   "outputs": [
    {
     "name": "stdout",
     "output_type": "stream",
     "text": [
      "The Road_Type has following number of 6\n",
      "The Junction_Control has following number of 4\n",
      "The Pedestrian_Crossing-Human_Control has following number of 3\n",
      "The Pedestrian_Crossing-Physical_Facilities has following number of 6\n",
      "The Light_Conditions has following number of 5\n",
      "The Weather_Conditions has following number of 9\n",
      "The Road_Surface_Conditions has following number of 6\n",
      "The Did_Police_Officer_Attend_Scene_of_Accident has following number of 2\n"
     ]
    }
   ],
   "source": [
    "cat_cols=[feature for feature in df.columns if df[feature].dtype=='O']\n",
    "for feature in cat_cols:\n",
    "    print(f'The {feature} has following number of {len(df[feature].unique())}')"
   ]
  },
  {
   "cell_type": "code",
   "execution_count": 31,
   "metadata": {},
   "outputs": [],
   "source": [
    "from sklearn.preprocessing import LabelEncoder\n",
    "\n",
    "labelencoder = LabelEncoder()\n",
    "for feature in cat_cols:\n",
    "    df[feature]=labelencoder.fit_transform(df[feature])"
   ]
  },
  {
   "cell_type": "code",
   "execution_count": 32,
   "metadata": {},
   "outputs": [],
   "source": [
    "from sklearn.preprocessing import StandardScaler\n",
    "X = df.drop(columns=['Accident_Severity'], axis=1)\n",
    "y = df[['Accident_Severity']]\n",
    "feature_names = X.columns.to_list()\n",
    "X = StandardScaler().fit_transform(X)"
   ]
  },
  {
   "cell_type": "code",
   "execution_count": 33,
   "metadata": {},
   "outputs": [],
   "source": [
    "from imblearn.over_sampling import RandomOverSampler\n",
    "from imblearn.over_sampling import SMOTE\n",
    "from sklearn.model_selection import train_test_split\n",
    "from sklearn.ensemble import RandomForestClassifier\n",
    "\n",
    "oversample = RandomOverSampler()\n",
    "\n",
    "X, y = oversample.fit_resample(X, y)\n",
    "x_train, x_test, y_train, y_test=train_test_split(X, y, test_size=0.25, random_state=123)"
   ]
  },
  {
   "cell_type": "code",
   "execution_count": 34,
   "metadata": {},
   "outputs": [
    {
     "data": {
      "text/html": [
       "<style>#sk-container-id-1 {\n",
       "  /* Definition of color scheme common for light and dark mode */\n",
       "  --sklearn-color-text: black;\n",
       "  --sklearn-color-line: gray;\n",
       "  /* Definition of color scheme for unfitted estimators */\n",
       "  --sklearn-color-unfitted-level-0: #fff5e6;\n",
       "  --sklearn-color-unfitted-level-1: #f6e4d2;\n",
       "  --sklearn-color-unfitted-level-2: #ffe0b3;\n",
       "  --sklearn-color-unfitted-level-3: chocolate;\n",
       "  /* Definition of color scheme for fitted estimators */\n",
       "  --sklearn-color-fitted-level-0: #f0f8ff;\n",
       "  --sklearn-color-fitted-level-1: #d4ebff;\n",
       "  --sklearn-color-fitted-level-2: #b3dbfd;\n",
       "  --sklearn-color-fitted-level-3: cornflowerblue;\n",
       "\n",
       "  /* Specific color for light theme */\n",
       "  --sklearn-color-text-on-default-background: var(--sg-text-color, var(--theme-code-foreground, var(--jp-content-font-color1, black)));\n",
       "  --sklearn-color-background: var(--sg-background-color, var(--theme-background, var(--jp-layout-color0, white)));\n",
       "  --sklearn-color-border-box: var(--sg-text-color, var(--theme-code-foreground, var(--jp-content-font-color1, black)));\n",
       "  --sklearn-color-icon: #696969;\n",
       "\n",
       "  @media (prefers-color-scheme: dark) {\n",
       "    /* Redefinition of color scheme for dark theme */\n",
       "    --sklearn-color-text-on-default-background: var(--sg-text-color, var(--theme-code-foreground, var(--jp-content-font-color1, white)));\n",
       "    --sklearn-color-background: var(--sg-background-color, var(--theme-background, var(--jp-layout-color0, #111)));\n",
       "    --sklearn-color-border-box: var(--sg-text-color, var(--theme-code-foreground, var(--jp-content-font-color1, white)));\n",
       "    --sklearn-color-icon: #878787;\n",
       "  }\n",
       "}\n",
       "\n",
       "#sk-container-id-1 {\n",
       "  color: var(--sklearn-color-text);\n",
       "}\n",
       "\n",
       "#sk-container-id-1 pre {\n",
       "  padding: 0;\n",
       "}\n",
       "\n",
       "#sk-container-id-1 input.sk-hidden--visually {\n",
       "  border: 0;\n",
       "  clip: rect(1px 1px 1px 1px);\n",
       "  clip: rect(1px, 1px, 1px, 1px);\n",
       "  height: 1px;\n",
       "  margin: -1px;\n",
       "  overflow: hidden;\n",
       "  padding: 0;\n",
       "  position: absolute;\n",
       "  width: 1px;\n",
       "}\n",
       "\n",
       "#sk-container-id-1 div.sk-dashed-wrapped {\n",
       "  border: 1px dashed var(--sklearn-color-line);\n",
       "  margin: 0 0.4em 0.5em 0.4em;\n",
       "  box-sizing: border-box;\n",
       "  padding-bottom: 0.4em;\n",
       "  background-color: var(--sklearn-color-background);\n",
       "}\n",
       "\n",
       "#sk-container-id-1 div.sk-container {\n",
       "  /* jupyter's `normalize.less` sets `[hidden] { display: none; }`\n",
       "     but bootstrap.min.css set `[hidden] { display: none !important; }`\n",
       "     so we also need the `!important` here to be able to override the\n",
       "     default hidden behavior on the sphinx rendered scikit-learn.org.\n",
       "     See: https://github.com/scikit-learn/scikit-learn/issues/21755 */\n",
       "  display: inline-block !important;\n",
       "  position: relative;\n",
       "}\n",
       "\n",
       "#sk-container-id-1 div.sk-text-repr-fallback {\n",
       "  display: none;\n",
       "}\n",
       "\n",
       "div.sk-parallel-item,\n",
       "div.sk-serial,\n",
       "div.sk-item {\n",
       "  /* draw centered vertical line to link estimators */\n",
       "  background-image: linear-gradient(var(--sklearn-color-text-on-default-background), var(--sklearn-color-text-on-default-background));\n",
       "  background-size: 2px 100%;\n",
       "  background-repeat: no-repeat;\n",
       "  background-position: center center;\n",
       "}\n",
       "\n",
       "/* Parallel-specific style estimator block */\n",
       "\n",
       "#sk-container-id-1 div.sk-parallel-item::after {\n",
       "  content: \"\";\n",
       "  width: 100%;\n",
       "  border-bottom: 2px solid var(--sklearn-color-text-on-default-background);\n",
       "  flex-grow: 1;\n",
       "}\n",
       "\n",
       "#sk-container-id-1 div.sk-parallel {\n",
       "  display: flex;\n",
       "  align-items: stretch;\n",
       "  justify-content: center;\n",
       "  background-color: var(--sklearn-color-background);\n",
       "  position: relative;\n",
       "}\n",
       "\n",
       "#sk-container-id-1 div.sk-parallel-item {\n",
       "  display: flex;\n",
       "  flex-direction: column;\n",
       "}\n",
       "\n",
       "#sk-container-id-1 div.sk-parallel-item:first-child::after {\n",
       "  align-self: flex-end;\n",
       "  width: 50%;\n",
       "}\n",
       "\n",
       "#sk-container-id-1 div.sk-parallel-item:last-child::after {\n",
       "  align-self: flex-start;\n",
       "  width: 50%;\n",
       "}\n",
       "\n",
       "#sk-container-id-1 div.sk-parallel-item:only-child::after {\n",
       "  width: 0;\n",
       "}\n",
       "\n",
       "/* Serial-specific style estimator block */\n",
       "\n",
       "#sk-container-id-1 div.sk-serial {\n",
       "  display: flex;\n",
       "  flex-direction: column;\n",
       "  align-items: center;\n",
       "  background-color: var(--sklearn-color-background);\n",
       "  padding-right: 1em;\n",
       "  padding-left: 1em;\n",
       "}\n",
       "\n",
       "\n",
       "/* Toggleable style: style used for estimator/Pipeline/ColumnTransformer box that is\n",
       "clickable and can be expanded/collapsed.\n",
       "- Pipeline and ColumnTransformer use this feature and define the default style\n",
       "- Estimators will overwrite some part of the style using the `sk-estimator` class\n",
       "*/\n",
       "\n",
       "/* Pipeline and ColumnTransformer style (default) */\n",
       "\n",
       "#sk-container-id-1 div.sk-toggleable {\n",
       "  /* Default theme specific background. It is overwritten whether we have a\n",
       "  specific estimator or a Pipeline/ColumnTransformer */\n",
       "  background-color: var(--sklearn-color-background);\n",
       "}\n",
       "\n",
       "/* Toggleable label */\n",
       "#sk-container-id-1 label.sk-toggleable__label {\n",
       "  cursor: pointer;\n",
       "  display: block;\n",
       "  width: 100%;\n",
       "  margin-bottom: 0;\n",
       "  padding: 0.5em;\n",
       "  box-sizing: border-box;\n",
       "  text-align: center;\n",
       "}\n",
       "\n",
       "#sk-container-id-1 label.sk-toggleable__label-arrow:before {\n",
       "  /* Arrow on the left of the label */\n",
       "  content: \"▸\";\n",
       "  float: left;\n",
       "  margin-right: 0.25em;\n",
       "  color: var(--sklearn-color-icon);\n",
       "}\n",
       "\n",
       "#sk-container-id-1 label.sk-toggleable__label-arrow:hover:before {\n",
       "  color: var(--sklearn-color-text);\n",
       "}\n",
       "\n",
       "/* Toggleable content - dropdown */\n",
       "\n",
       "#sk-container-id-1 div.sk-toggleable__content {\n",
       "  max-height: 0;\n",
       "  max-width: 0;\n",
       "  overflow: hidden;\n",
       "  text-align: left;\n",
       "  /* unfitted */\n",
       "  background-color: var(--sklearn-color-unfitted-level-0);\n",
       "}\n",
       "\n",
       "#sk-container-id-1 div.sk-toggleable__content.fitted {\n",
       "  /* fitted */\n",
       "  background-color: var(--sklearn-color-fitted-level-0);\n",
       "}\n",
       "\n",
       "#sk-container-id-1 div.sk-toggleable__content pre {\n",
       "  margin: 0.2em;\n",
       "  border-radius: 0.25em;\n",
       "  color: var(--sklearn-color-text);\n",
       "  /* unfitted */\n",
       "  background-color: var(--sklearn-color-unfitted-level-0);\n",
       "}\n",
       "\n",
       "#sk-container-id-1 div.sk-toggleable__content.fitted pre {\n",
       "  /* unfitted */\n",
       "  background-color: var(--sklearn-color-fitted-level-0);\n",
       "}\n",
       "\n",
       "#sk-container-id-1 input.sk-toggleable__control:checked~div.sk-toggleable__content {\n",
       "  /* Expand drop-down */\n",
       "  max-height: 200px;\n",
       "  max-width: 100%;\n",
       "  overflow: auto;\n",
       "}\n",
       "\n",
       "#sk-container-id-1 input.sk-toggleable__control:checked~label.sk-toggleable__label-arrow:before {\n",
       "  content: \"▾\";\n",
       "}\n",
       "\n",
       "/* Pipeline/ColumnTransformer-specific style */\n",
       "\n",
       "#sk-container-id-1 div.sk-label input.sk-toggleable__control:checked~label.sk-toggleable__label {\n",
       "  color: var(--sklearn-color-text);\n",
       "  background-color: var(--sklearn-color-unfitted-level-2);\n",
       "}\n",
       "\n",
       "#sk-container-id-1 div.sk-label.fitted input.sk-toggleable__control:checked~label.sk-toggleable__label {\n",
       "  background-color: var(--sklearn-color-fitted-level-2);\n",
       "}\n",
       "\n",
       "/* Estimator-specific style */\n",
       "\n",
       "/* Colorize estimator box */\n",
       "#sk-container-id-1 div.sk-estimator input.sk-toggleable__control:checked~label.sk-toggleable__label {\n",
       "  /* unfitted */\n",
       "  background-color: var(--sklearn-color-unfitted-level-2);\n",
       "}\n",
       "\n",
       "#sk-container-id-1 div.sk-estimator.fitted input.sk-toggleable__control:checked~label.sk-toggleable__label {\n",
       "  /* fitted */\n",
       "  background-color: var(--sklearn-color-fitted-level-2);\n",
       "}\n",
       "\n",
       "#sk-container-id-1 div.sk-label label.sk-toggleable__label,\n",
       "#sk-container-id-1 div.sk-label label {\n",
       "  /* The background is the default theme color */\n",
       "  color: var(--sklearn-color-text-on-default-background);\n",
       "}\n",
       "\n",
       "/* On hover, darken the color of the background */\n",
       "#sk-container-id-1 div.sk-label:hover label.sk-toggleable__label {\n",
       "  color: var(--sklearn-color-text);\n",
       "  background-color: var(--sklearn-color-unfitted-level-2);\n",
       "}\n",
       "\n",
       "/* Label box, darken color on hover, fitted */\n",
       "#sk-container-id-1 div.sk-label.fitted:hover label.sk-toggleable__label.fitted {\n",
       "  color: var(--sklearn-color-text);\n",
       "  background-color: var(--sklearn-color-fitted-level-2);\n",
       "}\n",
       "\n",
       "/* Estimator label */\n",
       "\n",
       "#sk-container-id-1 div.sk-label label {\n",
       "  font-family: monospace;\n",
       "  font-weight: bold;\n",
       "  display: inline-block;\n",
       "  line-height: 1.2em;\n",
       "}\n",
       "\n",
       "#sk-container-id-1 div.sk-label-container {\n",
       "  text-align: center;\n",
       "}\n",
       "\n",
       "/* Estimator-specific */\n",
       "#sk-container-id-1 div.sk-estimator {\n",
       "  font-family: monospace;\n",
       "  border: 1px dotted var(--sklearn-color-border-box);\n",
       "  border-radius: 0.25em;\n",
       "  box-sizing: border-box;\n",
       "  margin-bottom: 0.5em;\n",
       "  /* unfitted */\n",
       "  background-color: var(--sklearn-color-unfitted-level-0);\n",
       "}\n",
       "\n",
       "#sk-container-id-1 div.sk-estimator.fitted {\n",
       "  /* fitted */\n",
       "  background-color: var(--sklearn-color-fitted-level-0);\n",
       "}\n",
       "\n",
       "/* on hover */\n",
       "#sk-container-id-1 div.sk-estimator:hover {\n",
       "  /* unfitted */\n",
       "  background-color: var(--sklearn-color-unfitted-level-2);\n",
       "}\n",
       "\n",
       "#sk-container-id-1 div.sk-estimator.fitted:hover {\n",
       "  /* fitted */\n",
       "  background-color: var(--sklearn-color-fitted-level-2);\n",
       "}\n",
       "\n",
       "/* Specification for estimator info (e.g. \"i\" and \"?\") */\n",
       "\n",
       "/* Common style for \"i\" and \"?\" */\n",
       "\n",
       ".sk-estimator-doc-link,\n",
       "a:link.sk-estimator-doc-link,\n",
       "a:visited.sk-estimator-doc-link {\n",
       "  float: right;\n",
       "  font-size: smaller;\n",
       "  line-height: 1em;\n",
       "  font-family: monospace;\n",
       "  background-color: var(--sklearn-color-background);\n",
       "  border-radius: 1em;\n",
       "  height: 1em;\n",
       "  width: 1em;\n",
       "  text-decoration: none !important;\n",
       "  margin-left: 1ex;\n",
       "  /* unfitted */\n",
       "  border: var(--sklearn-color-unfitted-level-1) 1pt solid;\n",
       "  color: var(--sklearn-color-unfitted-level-1);\n",
       "}\n",
       "\n",
       ".sk-estimator-doc-link.fitted,\n",
       "a:link.sk-estimator-doc-link.fitted,\n",
       "a:visited.sk-estimator-doc-link.fitted {\n",
       "  /* fitted */\n",
       "  border: var(--sklearn-color-fitted-level-1) 1pt solid;\n",
       "  color: var(--sklearn-color-fitted-level-1);\n",
       "}\n",
       "\n",
       "/* On hover */\n",
       "div.sk-estimator:hover .sk-estimator-doc-link:hover,\n",
       ".sk-estimator-doc-link:hover,\n",
       "div.sk-label-container:hover .sk-estimator-doc-link:hover,\n",
       ".sk-estimator-doc-link:hover {\n",
       "  /* unfitted */\n",
       "  background-color: var(--sklearn-color-unfitted-level-3);\n",
       "  color: var(--sklearn-color-background);\n",
       "  text-decoration: none;\n",
       "}\n",
       "\n",
       "div.sk-estimator.fitted:hover .sk-estimator-doc-link.fitted:hover,\n",
       ".sk-estimator-doc-link.fitted:hover,\n",
       "div.sk-label-container:hover .sk-estimator-doc-link.fitted:hover,\n",
       ".sk-estimator-doc-link.fitted:hover {\n",
       "  /* fitted */\n",
       "  background-color: var(--sklearn-color-fitted-level-3);\n",
       "  color: var(--sklearn-color-background);\n",
       "  text-decoration: none;\n",
       "}\n",
       "\n",
       "/* Span, style for the box shown on hovering the info icon */\n",
       ".sk-estimator-doc-link span {\n",
       "  display: none;\n",
       "  z-index: 9999;\n",
       "  position: relative;\n",
       "  font-weight: normal;\n",
       "  right: .2ex;\n",
       "  padding: .5ex;\n",
       "  margin: .5ex;\n",
       "  width: min-content;\n",
       "  min-width: 20ex;\n",
       "  max-width: 50ex;\n",
       "  color: var(--sklearn-color-text);\n",
       "  box-shadow: 2pt 2pt 4pt #999;\n",
       "  /* unfitted */\n",
       "  background: var(--sklearn-color-unfitted-level-0);\n",
       "  border: .5pt solid var(--sklearn-color-unfitted-level-3);\n",
       "}\n",
       "\n",
       ".sk-estimator-doc-link.fitted span {\n",
       "  /* fitted */\n",
       "  background: var(--sklearn-color-fitted-level-0);\n",
       "  border: var(--sklearn-color-fitted-level-3);\n",
       "}\n",
       "\n",
       ".sk-estimator-doc-link:hover span {\n",
       "  display: block;\n",
       "}\n",
       "\n",
       "/* \"?\"-specific style due to the `<a>` HTML tag */\n",
       "\n",
       "#sk-container-id-1 a.estimator_doc_link {\n",
       "  float: right;\n",
       "  font-size: 1rem;\n",
       "  line-height: 1em;\n",
       "  font-family: monospace;\n",
       "  background-color: var(--sklearn-color-background);\n",
       "  border-radius: 1rem;\n",
       "  height: 1rem;\n",
       "  width: 1rem;\n",
       "  text-decoration: none;\n",
       "  /* unfitted */\n",
       "  color: var(--sklearn-color-unfitted-level-1);\n",
       "  border: var(--sklearn-color-unfitted-level-1) 1pt solid;\n",
       "}\n",
       "\n",
       "#sk-container-id-1 a.estimator_doc_link.fitted {\n",
       "  /* fitted */\n",
       "  border: var(--sklearn-color-fitted-level-1) 1pt solid;\n",
       "  color: var(--sklearn-color-fitted-level-1);\n",
       "}\n",
       "\n",
       "/* On hover */\n",
       "#sk-container-id-1 a.estimator_doc_link:hover {\n",
       "  /* unfitted */\n",
       "  background-color: var(--sklearn-color-unfitted-level-3);\n",
       "  color: var(--sklearn-color-background);\n",
       "  text-decoration: none;\n",
       "}\n",
       "\n",
       "#sk-container-id-1 a.estimator_doc_link.fitted:hover {\n",
       "  /* fitted */\n",
       "  background-color: var(--sklearn-color-fitted-level-3);\n",
       "}\n",
       "</style><div id=\"sk-container-id-1\" class=\"sk-top-container\"><div class=\"sk-text-repr-fallback\"><pre>RandomForestClassifier(n_jobs=-1, random_state=123)</pre><b>In a Jupyter environment, please rerun this cell to show the HTML representation or trust the notebook. <br />On GitHub, the HTML representation is unable to render, please try loading this page with nbviewer.org.</b></div><div class=\"sk-container\" hidden><div class=\"sk-item\"><div class=\"sk-estimator fitted sk-toggleable\"><input class=\"sk-toggleable__control sk-hidden--visually\" id=\"sk-estimator-id-1\" type=\"checkbox\" checked><label for=\"sk-estimator-id-1\" class=\"sk-toggleable__label fitted sk-toggleable__label-arrow fitted\">&nbsp;&nbsp;RandomForestClassifier<a class=\"sk-estimator-doc-link fitted\" rel=\"noreferrer\" target=\"_blank\" href=\"https://scikit-learn.org/1.4/modules/generated/sklearn.ensemble.RandomForestClassifier.html\">?<span>Documentation for RandomForestClassifier</span></a><span class=\"sk-estimator-doc-link fitted\">i<span>Fitted</span></span></label><div class=\"sk-toggleable__content fitted\"><pre>RandomForestClassifier(n_jobs=-1, random_state=123)</pre></div> </div></div></div></div>"
      ],
      "text/plain": [
       "RandomForestClassifier(n_jobs=-1, random_state=123)"
      ]
     },
     "execution_count": 34,
     "metadata": {},
     "output_type": "execute_result"
    }
   ],
   "source": [
    "clf = RandomForestClassifier(n_jobs=-1, random_state=123)\n",
    "clf.fit(x_train, y_train)"
   ]
  },
  {
   "cell_type": "code",
   "execution_count": 35,
   "metadata": {},
   "outputs": [
    {
     "data": {
      "text/plain": [
       "0.9761328217814863"
      ]
     },
     "execution_count": 35,
     "metadata": {},
     "output_type": "execute_result"
    }
   ],
   "source": [
    "pred = clf.predict(x_test)\n",
    "clf.score(x_test, y_test)"
   ]
  },
  {
   "cell_type": "code",
   "execution_count": 36,
   "metadata": {},
   "outputs": [
    {
     "name": "stdout",
     "output_type": "stream",
     "text": [
      "Mean Absolute Error: 0.02441751575887179\n",
      "Mean Squared Error: 0.025518190839587965\n",
      "Root Mean Squared Error: 0.1597441418005304\n",
      "Train Accuracy 0.9997501637912208\n"
     ]
    }
   ],
   "source": [
    "from sklearn import metrics\n",
    "print('Mean Absolute Error:', metrics.mean_absolute_error(y_test, pred))\n",
    "print('Mean Squared Error:', metrics.mean_squared_error(y_test, pred))\n",
    "print('Root Mean Squared Error:', np.sqrt(metrics.mean_squared_error(y_test, pred)))\n",
    "print('Train Accuracy', clf.score(x_train, y_train))"
   ]
  },
  {
   "cell_type": "code",
   "execution_count": 37,
   "metadata": {},
   "outputs": [],
   "source": [
    "feature_importances = clf.feature_importances_"
   ]
  },
  {
   "cell_type": "code",
   "execution_count": 38,
   "metadata": {},
   "outputs": [
    {
     "name": "stdout",
     "output_type": "stream",
     "text": [
      "Latitude                                           0.17155\n",
      "Longitude                                          0.17129\n",
      "1st_Road_Number                                    0.09656\n",
      "Local_Authority_(District)                         0.09310\n",
      "Day_of_Week                                        0.07956\n",
      "2nd_Road_Number                                    0.04935\n",
      "Police_Force                                       0.04142\n",
      "Number_of_Vehicles                                 0.03921\n",
      "Did_Police_Officer_Attend_Scene_of_Accident        0.02985\n",
      "Speed_limit                                        0.02933\n",
      "Number_of_Casualties                               0.02504\n",
      "Pedestrian_Crossing-Physical_Facilities            0.02460\n",
      "1st_Road_Class                                     0.02368\n",
      "Road_Type                                          0.02150\n",
      "2nd_Road_Class                                     0.02035\n",
      "Light_Conditions                                   0.01930\n",
      "Weather_Conditions                                 0.01890\n",
      "Road_Surface_Conditions                            0.01818\n",
      "Junction_Control                                   0.01307\n",
      "Urban_or_Rural_Area                                0.01269\n",
      "Pedestrian_Crossing-Human_Control                  0.00149\n"
     ]
    }
   ],
   "source": [
    "feature_importances_with_names = zip(feature_names, feature_importances)\n",
    "\n",
    "sorted_features = sorted(feature_importances_with_names, key=lambda x: x[1], reverse=True)\n",
    "\n",
    "for feature, importance in sorted_features:\n",
    "    print(f\"{feature:<50} {importance:.5f}\")"
   ]
  },
  {
   "cell_type": "markdown",
   "metadata": {
    "tags": []
   },
   "source": [
    "# สิ่งที่น่าสนใจ"
   ]
  },
  {
   "cell_type": "markdown",
   "metadata": {
    "tags": []
   },
   "source": [
    "## สิ่งที่น่าสนใจ 1 หาสาเหุการเกิดอุบัติเหตุส่วนใหญ่ได้ 5 อย่างดังนี้\n",
    "- อุบัติเหตุส่วนใหญ่เกิดขึ้นบนถนนทางเดียว\n",
    "- อุบัติเหตุส่วนใหญ่เกิดขึ้นเมื่อไม่การควบคุมทางแยก\n",
    "- อุบัติเหตุส่วนใหญ่เกิดขึ้นบนถนนพื้นแห้ง รองลงมาคือพื้นเปียก\n",
    "- อุบัติเหตุส่วนใหญ่เกิดขึ้นบนถนนที่มีแสงไฟข้างทางปกติ\n",
    "- อุบัติเหตุส่วนใหญ่เกิดขึ้นเมื่อไม่มีสิ่งอำนวยความสะดวกบนทางเท้า\n",
    "\n",
    "## สิ่งที่น่าสนใจ 2 สรุปวิธีแก้ปัญหาจากสาเหตุที่ได้จากการ visualization\n",
    "- ควรทำสิ่งอำนวยความสะดวกบนทางเท้า เช่น ทางม้าลาย สะพานลอย สำหรับคนข้ามถนน\n",
    "- ถนนแยกควรทำที่ควบคุมทางแยก\n",
    "- ควรจำกัดความเร็วสำหรับถนนทางเดียว\n",
    "\n",
    "## สิ่งที่น่าสนใจ 3 ทดลองนำ Dataset ที่หามาได้มาทดลองกับ Machine Learning เพื่อจำแนกความรุนแรง ผลลัพธ์ที่ได้คือ\n",
    "- Mean Absolute Error: 0.02441751575887179\n",
    "- Mean Squared Error: 0.025518190839587965\n",
    "- Root Mean Squared Error: 0.1597441418005304\n",
    "- Train Accuracy 0.9997501637912208\n",
    "- Test Accuracy 0.9761328217814863\n",
    "\n",
    "## สิ่งที่น่าสนใจ 4 สรุปความสำคัญของฟีเจอร์ 5 ลำดับ\n",
    "- Longitude และ Latitude  อาจตีความได้ว่าการเกิดอุบัติเหตุนั้นเกิดขึ้นในจุดเดิมบ่อยครั้ง\n",
    "- 1st_Road_Number และ Local_Authority_(District) รหัสของถนนที่ และเขตอำเภอ บ่งบอกว่าเกิดอุบัติเหตุที่ถนนเดิมบ่อย\n",
    "- Day_of_Week วันส่งผลต่อความรุนแรงอุบัติเหตุ\n",
    "- Police_Force มีตำรวจในที่เกิดเหตุส่งผลต่อความรุนแรง สรุปได้ว่าถ้ามีตำรวจความรุนแรงจะน้อยลง\n",
    "- Number_of_Vehicles จำนวนรถ ยิ่งรถเยอะความรุนแรงการเกิดอุบัติเหตุยิ่งสูง"
   ]
  }
 ],
 "metadata": {
  "kernelspec": {
   "display_name": "Python 3 (ipykernel)",
   "language": "python",
   "name": "python3"
  },
  "language_info": {
   "codemirror_mode": {
    "name": "ipython",
    "version": 3
   },
   "file_extension": ".py",
   "mimetype": "text/x-python",
   "name": "python",
   "nbconvert_exporter": "python",
   "pygments_lexer": "ipython3",
   "version": "3.11.5"
  },
  "vscode": {
   "interpreter": {
    "hash": "ffbfc792e496a15b6b750fac43e7a9afdc7c26545a7abda9dc172ad3cb978227"
   }
  }
 },
 "nbformat": 4,
 "nbformat_minor": 4
}
