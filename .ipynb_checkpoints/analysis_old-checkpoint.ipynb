{
 "cells": [
  {
   "cell_type": "code",
   "execution_count": 1,
   "metadata": {},
   "outputs": [],
   "source": [
    "import pandas as pd\n",
    "import seaborn as sns\n",
    "import matplotlib.pyplot as plt"
   ]
  },
  {
   "cell_type": "code",
   "execution_count": 2,
   "metadata": {},
   "outputs": [],
   "source": [
    "import warnings\n",
    "warnings.filterwarnings('ignore')"
   ]
  },
  {
   "cell_type": "code",
   "execution_count": 3,
   "metadata": {},
   "outputs": [
    {
     "data": {
      "text/html": [
       "<div>\n",
       "<style scoped>\n",
       "    .dataframe tbody tr th:only-of-type {\n",
       "        vertical-align: middle;\n",
       "    }\n",
       "\n",
       "    .dataframe tbody tr th {\n",
       "        vertical-align: top;\n",
       "    }\n",
       "\n",
       "    .dataframe thead th {\n",
       "        text-align: right;\n",
       "    }\n",
       "</style>\n",
       "<table border=\"1\" class=\"dataframe\">\n",
       "  <thead>\n",
       "    <tr style=\"text-align: right;\">\n",
       "      <th></th>\n",
       "      <th>Location_Easting_OSGR</th>\n",
       "      <th>Location_Northing_OSGR</th>\n",
       "      <th>Longitude</th>\n",
       "      <th>Latitude</th>\n",
       "      <th>Police_Force</th>\n",
       "      <th>Accident_Severity</th>\n",
       "      <th>Number_of_Vehicles</th>\n",
       "      <th>Number_of_Casualties</th>\n",
       "      <th>Date</th>\n",
       "      <th>Day_of_Week</th>\n",
       "      <th>...</th>\n",
       "      <th>Pedestrian_Crossing-Physical_Facilities</th>\n",
       "      <th>Light_Conditions</th>\n",
       "      <th>Weather_Conditions</th>\n",
       "      <th>Road_Surface_Conditions</th>\n",
       "      <th>Special_Conditions_at_Site</th>\n",
       "      <th>Carriageway_Hazards</th>\n",
       "      <th>Urban_or_Rural_Area</th>\n",
       "      <th>Did_Police_Officer_Attend_Scene_of_Accident</th>\n",
       "      <th>LSOA_of_Accident_Location</th>\n",
       "      <th>Year</th>\n",
       "    </tr>\n",
       "    <tr>\n",
       "      <th>Accident_Index</th>\n",
       "      <th></th>\n",
       "      <th></th>\n",
       "      <th></th>\n",
       "      <th></th>\n",
       "      <th></th>\n",
       "      <th></th>\n",
       "      <th></th>\n",
       "      <th></th>\n",
       "      <th></th>\n",
       "      <th></th>\n",
       "      <th></th>\n",
       "      <th></th>\n",
       "      <th></th>\n",
       "      <th></th>\n",
       "      <th></th>\n",
       "      <th></th>\n",
       "      <th></th>\n",
       "      <th></th>\n",
       "      <th></th>\n",
       "      <th></th>\n",
       "      <th></th>\n",
       "    </tr>\n",
       "  </thead>\n",
       "  <tbody>\n",
       "    <tr>\n",
       "      <th>2.01E+12</th>\n",
       "      <td>388670.0</td>\n",
       "      <td>197980.0</td>\n",
       "      <td>-2.165287</td>\n",
       "      <td>51.680421</td>\n",
       "      <td>53</td>\n",
       "      <td>3</td>\n",
       "      <td>1</td>\n",
       "      <td>2</td>\n",
       "      <td>01/07/2005</td>\n",
       "      <td>6</td>\n",
       "      <td>...</td>\n",
       "      <td>No physical crossing within 50 meters</td>\n",
       "      <td>Daylight: Street light present</td>\n",
       "      <td>Fine without high winds</td>\n",
       "      <td>Dry</td>\n",
       "      <td>NaN</td>\n",
       "      <td>NaN</td>\n",
       "      <td>2</td>\n",
       "      <td>Yes</td>\n",
       "      <td>E01022176</td>\n",
       "      <td>2005</td>\n",
       "    </tr>\n",
       "    <tr>\n",
       "      <th>200914A217709</th>\n",
       "      <td>457770.0</td>\n",
       "      <td>403090.0</td>\n",
       "      <td>-1.130120</td>\n",
       "      <td>53.521303</td>\n",
       "      <td>14</td>\n",
       "      <td>3</td>\n",
       "      <td>2</td>\n",
       "      <td>2</td>\n",
       "      <td>28/11/2009</td>\n",
       "      <td>7</td>\n",
       "      <td>...</td>\n",
       "      <td>Pedestrian phase at traffic signal junction</td>\n",
       "      <td>Darkness: Street lights present and lit</td>\n",
       "      <td>Raining without high winds</td>\n",
       "      <td>Wet/Damp</td>\n",
       "      <td>NaN</td>\n",
       "      <td>NaN</td>\n",
       "      <td>1</td>\n",
       "      <td>Yes</td>\n",
       "      <td>E01007645</td>\n",
       "      <td>2009</td>\n",
       "    </tr>\n",
       "    <tr>\n",
       "      <th>201150CD2K001</th>\n",
       "      <td>230106.0</td>\n",
       "      <td>122307.0</td>\n",
       "      <td>-4.421411</td>\n",
       "      <td>50.974993</td>\n",
       "      <td>50</td>\n",
       "      <td>3</td>\n",
       "      <td>1</td>\n",
       "      <td>2</td>\n",
       "      <td>12/01/2011</td>\n",
       "      <td>4</td>\n",
       "      <td>...</td>\n",
       "      <td>No physical crossing within 50 meters</td>\n",
       "      <td>Daylight: Street light present</td>\n",
       "      <td>Raining without high winds</td>\n",
       "      <td>Wet/Damp</td>\n",
       "      <td>NaN</td>\n",
       "      <td>NaN</td>\n",
       "      <td>2</td>\n",
       "      <td>Yes</td>\n",
       "      <td>E01020288</td>\n",
       "      <td>2011</td>\n",
       "    </tr>\n",
       "    <tr>\n",
       "      <th>2.01E+12</th>\n",
       "      <td>303730.0</td>\n",
       "      <td>536390.0</td>\n",
       "      <td>-3.495883</td>\n",
       "      <td>54.713293</td>\n",
       "      <td>3</td>\n",
       "      <td>3</td>\n",
       "      <td>2</td>\n",
       "      <td>2</td>\n",
       "      <td>26/08/2014</td>\n",
       "      <td>3</td>\n",
       "      <td>...</td>\n",
       "      <td>No physical crossing within 50 meters</td>\n",
       "      <td>Daylight: Street light present</td>\n",
       "      <td>Fine without high winds</td>\n",
       "      <td>Dry</td>\n",
       "      <td>NaN</td>\n",
       "      <td>NaN</td>\n",
       "      <td>2</td>\n",
       "      <td>Yes</td>\n",
       "      <td>E01019114</td>\n",
       "      <td>2014</td>\n",
       "    </tr>\n",
       "  </tbody>\n",
       "</table>\n",
       "<p>4 rows × 31 columns</p>\n",
       "</div>"
      ],
      "text/plain": [
       "                Location_Easting_OSGR  Location_Northing_OSGR  Longitude  \\\n",
       "Accident_Index                                                             \n",
       "2.01E+12                     388670.0                197980.0  -2.165287   \n",
       "200914A217709                457770.0                403090.0  -1.130120   \n",
       "201150CD2K001                230106.0                122307.0  -4.421411   \n",
       "2.01E+12                     303730.0                536390.0  -3.495883   \n",
       "\n",
       "                 Latitude  Police_Force  Accident_Severity  \\\n",
       "Accident_Index                                               \n",
       "2.01E+12        51.680421            53                  3   \n",
       "200914A217709   53.521303            14                  3   \n",
       "201150CD2K001   50.974993            50                  3   \n",
       "2.01E+12        54.713293             3                  3   \n",
       "\n",
       "                Number_of_Vehicles  Number_of_Casualties        Date  \\\n",
       "Accident_Index                                                         \n",
       "2.01E+12                         1                     2  01/07/2005   \n",
       "200914A217709                    2                     2  28/11/2009   \n",
       "201150CD2K001                    1                     2  12/01/2011   \n",
       "2.01E+12                         2                     2  26/08/2014   \n",
       "\n",
       "                Day_of_Week  ...      Pedestrian_Crossing-Physical_Facilities  \\\n",
       "Accident_Index               ...                                                \n",
       "2.01E+12                  6  ...        No physical crossing within 50 meters   \n",
       "200914A217709             7  ...  Pedestrian phase at traffic signal junction   \n",
       "201150CD2K001             4  ...        No physical crossing within 50 meters   \n",
       "2.01E+12                  3  ...        No physical crossing within 50 meters   \n",
       "\n",
       "                                       Light_Conditions  \\\n",
       "Accident_Index                                            \n",
       "2.01E+12                 Daylight: Street light present   \n",
       "200914A217709   Darkness: Street lights present and lit   \n",
       "201150CD2K001            Daylight: Street light present   \n",
       "2.01E+12                 Daylight: Street light present   \n",
       "\n",
       "                        Weather_Conditions  Road_Surface_Conditions  \\\n",
       "Accident_Index                                                        \n",
       "2.01E+12           Fine without high winds                      Dry   \n",
       "200914A217709   Raining without high winds                 Wet/Damp   \n",
       "201150CD2K001   Raining without high winds                 Wet/Damp   \n",
       "2.01E+12           Fine without high winds                      Dry   \n",
       "\n",
       "                Special_Conditions_at_Site Carriageway_Hazards  \\\n",
       "Accident_Index                                                   \n",
       "2.01E+12                               NaN                 NaN   \n",
       "200914A217709                          NaN                 NaN   \n",
       "201150CD2K001                          NaN                 NaN   \n",
       "2.01E+12                               NaN                 NaN   \n",
       "\n",
       "                Urban_or_Rural_Area  \\\n",
       "Accident_Index                        \n",
       "2.01E+12                          2   \n",
       "200914A217709                     1   \n",
       "201150CD2K001                     2   \n",
       "2.01E+12                          2   \n",
       "\n",
       "               Did_Police_Officer_Attend_Scene_of_Accident  \\\n",
       "Accident_Index                                               \n",
       "2.01E+12                                               Yes   \n",
       "200914A217709                                          Yes   \n",
       "201150CD2K001                                          Yes   \n",
       "2.01E+12                                               Yes   \n",
       "\n",
       "                LSOA_of_Accident_Location  Year  \n",
       "Accident_Index                                   \n",
       "2.01E+12                        E01022176  2005  \n",
       "200914A217709                   E01007645  2009  \n",
       "201150CD2K001                   E01020288  2011  \n",
       "2.01E+12                        E01019114  2014  \n",
       "\n",
       "[4 rows x 31 columns]"
      ]
     },
     "execution_count": 3,
     "metadata": {},
     "output_type": "execute_result"
    }
   ],
   "source": [
    "df = pd.read_csv('UK_Accident.csv')\n",
    "df = df.drop('Unnamed: 0', axis=1)\n",
    "df = df.set_index('Accident_Index')\n",
    "df.sample(4)"
   ]
  },
  {
   "cell_type": "markdown",
   "metadata": {},
   "source": [
    "## จำนวน rows และ columns"
   ]
  },
  {
   "cell_type": "code",
   "execution_count": 4,
   "metadata": {},
   "outputs": [
    {
     "name": "stdout",
     "output_type": "stream",
     "text": [
      "<class 'pandas.core.frame.DataFrame'>\n",
      "Index: 1504150 entries, 200501BS00001 to 2.01E+12\n",
      "Data columns (total 31 columns):\n",
      " #   Column                                       Non-Null Count    Dtype  \n",
      "---  ------                                       --------------    -----  \n",
      " 0   Location_Easting_OSGR                        1504049 non-null  float64\n",
      " 1   Location_Northing_OSGR                       1504150 non-null  float64\n",
      " 2   Longitude                                    1504049 non-null  float64\n",
      " 3   Latitude                                     1504150 non-null  float64\n",
      " 4   Police_Force                                 1504150 non-null  int64  \n",
      " 5   Accident_Severity                            1504150 non-null  int64  \n",
      " 6   Number_of_Vehicles                           1504150 non-null  int64  \n",
      " 7   Number_of_Casualties                         1504150 non-null  int64  \n",
      " 8   Date                                         1504150 non-null  object \n",
      " 9   Day_of_Week                                  1504150 non-null  int64  \n",
      " 10  Time                                         1504033 non-null  object \n",
      " 11  Local_Authority_(District)                   1504150 non-null  int64  \n",
      " 12  Local_Authority_(Highway)                    1504150 non-null  object \n",
      " 13  1st_Road_Class                               1504150 non-null  int64  \n",
      " 14  1st_Road_Number                              1504150 non-null  int64  \n",
      " 15  Road_Type                                    1504150 non-null  object \n",
      " 16  Speed_limit                                  1504150 non-null  int64  \n",
      " 17  Junction_Control                             901315 non-null   object \n",
      " 18  2nd_Road_Class                               1504150 non-null  int64  \n",
      " 19  2nd_Road_Number                              1504150 non-null  int64  \n",
      " 20  Pedestrian_Crossing-Human_Control            1504133 non-null  object \n",
      " 21  Pedestrian_Crossing-Physical_Facilities      1504116 non-null  object \n",
      " 22  Light_Conditions                             1504150 non-null  object \n",
      " 23  Weather_Conditions                           1504150 non-null  object \n",
      " 24  Road_Surface_Conditions                      1504150 non-null  object \n",
      " 25  Special_Conditions_at_Site                   36582 non-null    object \n",
      " 26  Carriageway_Hazards                          27250 non-null    object \n",
      " 27  Urban_or_Rural_Area                          1504150 non-null  int64  \n",
      " 28  Did_Police_Officer_Attend_Scene_of_Accident  1504150 non-null  object \n",
      " 29  LSOA_of_Accident_Location                    1395912 non-null  object \n",
      " 30  Year                                         1504150 non-null  int64  \n",
      "dtypes: float64(4), int64(13), object(14)\n",
      "memory usage: 367.2+ MB\n"
     ]
    }
   ],
   "source": [
    "df.info()"
   ]
  },
  {
   "cell_type": "markdown",
   "metadata": {},
   "source": [
    "## column ที่มี null"
   ]
  },
  {
   "cell_type": "code",
   "execution_count": 5,
   "metadata": {},
   "outputs": [
    {
     "data": {
      "text/plain": [
       "Location_Easting_OSGR                              101\n",
       "Location_Northing_OSGR                               0\n",
       "Longitude                                          101\n",
       "Latitude                                             0\n",
       "Police_Force                                         0\n",
       "Accident_Severity                                    0\n",
       "Number_of_Vehicles                                   0\n",
       "Number_of_Casualties                                 0\n",
       "Date                                                 0\n",
       "Day_of_Week                                          0\n",
       "Time                                               117\n",
       "Local_Authority_(District)                           0\n",
       "Local_Authority_(Highway)                            0\n",
       "1st_Road_Class                                       0\n",
       "1st_Road_Number                                      0\n",
       "Road_Type                                            0\n",
       "Speed_limit                                          0\n",
       "Junction_Control                                602835\n",
       "2nd_Road_Class                                       0\n",
       "2nd_Road_Number                                      0\n",
       "Pedestrian_Crossing-Human_Control                   17\n",
       "Pedestrian_Crossing-Physical_Facilities             34\n",
       "Light_Conditions                                     0\n",
       "Weather_Conditions                                   0\n",
       "Road_Surface_Conditions                              0\n",
       "Special_Conditions_at_Site                     1467568\n",
       "Carriageway_Hazards                            1476900\n",
       "Urban_or_Rural_Area                                  0\n",
       "Did_Police_Officer_Attend_Scene_of_Accident          0\n",
       "LSOA_of_Accident_Location                       108238\n",
       "Year                                                 0\n",
       "dtype: int64"
      ]
     },
     "execution_count": 5,
     "metadata": {},
     "output_type": "execute_result"
    }
   ],
   "source": [
    "df.isna().sum()"
   ]
  },
  {
   "cell_type": "markdown",
   "metadata": {},
   "source": [
    "## แทนที่ค่าว่าง"
   ]
  },
  {
   "cell_type": "code",
   "execution_count": 6,
   "metadata": {},
   "outputs": [],
   "source": [
    "df['Road_Surface_Conditions'].fillna('Normal', inplace = True)\n",
    "df['Special_Conditions_at_Site'].fillna('None', inplace = True)\n",
    "df['Carriageway_Hazards'].fillna('None', inplace = True)\n",
    "df['Did_Police_Officer_Attend_Scene_of_Accident'].fillna('No', inplace = True)\n",
    "df['Weather_Conditions'].fillna('Unknown', inplace = True)\n",
    "df['Junction_Control'].fillna('None', inplace = True)\n",
    "df['Location_Easting_OSGR'].fillna(0, inplace = True)\n",
    "df['Longitude'].fillna(0, inplace = True)"
   ]
  },
  {
   "cell_type": "markdown",
   "metadata": {},
   "source": [
    "## คำอธิบายข้อมูล"
   ]
  },
  {
   "cell_type": "markdown",
   "metadata": {},
   "source": [
    "<table>\n",
    "  <tr>\n",
    "    <th>Columns</th>\n",
    "    <th>คำอธิบาย</th>\n",
    "  </tr>\n",
    "  <tr>\n",
    "    <td>Road_Type</td>\n",
    "    <td>ประเภทของถนน</td>\n",
    "  </tr>\n",
    "  <tr>\n",
    "    <td>Speed_limit</td>\n",
    "    <td>ความเร็วจำกัดของถนน</td>\n",
    "  </tr>\n",
    "  <tr>\n",
    "    <td>Junction_Control</td>\n",
    "    <td>รูปแบบการควบคุมทางแยก</td>\n",
    "  </tr>\n",
    "  <tr>\n",
    "    <td>Pedestrian_Crossing-Human_Control</td>\n",
    "    <td>ที่ควบคุมเวลาเดินข้ามฝั่ง</td>\n",
    "  </tr>\n",
    "  <tr>\n",
    "    <td>Pedestrian_Crossing-Physical_Facilities</td>\n",
    "    <td>สิ่งอำนวยความสะดวกบนทางเท้า</td>\n",
    "  </tr>\n",
    "  <tr>\n",
    "    <td>Light_Conditions</td>\n",
    "    <td>สภาพของแสงสว่างตอนเกิดอุบัติเหตุ</td>\n",
    "  </tr>\n",
    "  <tr>\n",
    "    <td>Weather_Conditions</td>\n",
    "    <td>สภาพของอากาศตอนเกิดอุบัติเหตุ</td>\n",
    "  </tr>\n",
    "  <tr>\n",
    "    <td>Road_Surface_Conditions</td>\n",
    "    <td>สภาพพื้นผิวถนน</td>\n",
    "  </tr>\n",
    "  <tr>\n",
    "    <td>Special_Conditions_at_Site</td>\n",
    "    <td>เงื่อนไขพิเศษในที่เกิดเหตุ</td>\n",
    "  </tr>\n",
    "  <tr>\n",
    "    <td>Carriageway_Hazards</td>\n",
    "    <td>มีการขนสารกัมมันตรังสี</td>\n",
    "  </tr>\n",
    "  <tr>\n",
    "    <td>Urban_or_Rural_Area</td>\n",
    "    <td>เขตเมืองหรือชนบท</td>\n",
    "  </tr>\n",
    "  <tr>\n",
    "    <td>Did_Police_Officer_Attend_Scene_of_Accident</td>\n",
    "    <td>เจ้าหน้าที่ตำรวจเข้าร่วมที่เกิดเหตุหรือไม่</td>\n",
    "  </tr>\n",
    "  <tr>\n",
    "    <td>police_fore</td>\n",
    "    <td>กำลังตำรวจที่เข้าไปช่วยเหลือตอนเกิดอุบัติเหตุ </td>\n",
    "  </tr>\n",
    "  <tr>\n",
    "    <td>Accident_Severity</td>\n",
    "    <td>ความรุนแรงของการเกิดอุบัติเหตุระดับตั้งแต่ 1 - 5</td>\n",
    "  </tr>\n",
    "  <tr>\n",
    "    <td>Number_of_Vehicles</td>\n",
    "    <td>จำนวนรถที่เกิดในอุบัติเหตุนั้น</td>\n",
    "  </tr>\n",
    "  <tr>\n",
    "    <td>Number_of_Casualties</td>\n",
    "    <td>จำนวนผู้เสียในอุบัติเหตุนั้น</td>\n",
    "  </tr>\n",
    "</table>\n"
   ]
  },
  {
   "cell_type": "markdown",
   "metadata": {},
   "source": [
    "## จำนวนรถและคนเสียชีวิตจากอุบัติเหตุตามวัน"
   ]
  },
  {
   "cell_type": "code",
   "execution_count": 7,
   "metadata": {},
   "outputs": [
    {
     "data": {
      "text/html": [
       "<div>\n",
       "<style scoped>\n",
       "    .dataframe tbody tr th:only-of-type {\n",
       "        vertical-align: middle;\n",
       "    }\n",
       "\n",
       "    .dataframe tbody tr th {\n",
       "        vertical-align: top;\n",
       "    }\n",
       "\n",
       "    .dataframe thead th {\n",
       "        text-align: right;\n",
       "    }\n",
       "</style>\n",
       "<table border=\"1\" class=\"dataframe\">\n",
       "  <thead>\n",
       "    <tr style=\"text-align: right;\">\n",
       "      <th></th>\n",
       "      <th>Number_of_Casualties</th>\n",
       "    </tr>\n",
       "    <tr>\n",
       "      <th>Day_of_Week</th>\n",
       "      <th></th>\n",
       "    </tr>\n",
       "  </thead>\n",
       "  <tbody>\n",
       "    <tr>\n",
       "      <th>6</th>\n",
       "      <td>331934</td>\n",
       "    </tr>\n",
       "    <tr>\n",
       "      <th>5</th>\n",
       "      <td>299044</td>\n",
       "    </tr>\n",
       "    <tr>\n",
       "      <th>4</th>\n",
       "      <td>297756</td>\n",
       "    </tr>\n",
       "    <tr>\n",
       "      <th>3</th>\n",
       "      <td>294476</td>\n",
       "    </tr>\n",
       "    <tr>\n",
       "      <th>7</th>\n",
       "      <td>285261</td>\n",
       "    </tr>\n",
       "    <tr>\n",
       "      <th>2</th>\n",
       "      <td>284043</td>\n",
       "    </tr>\n",
       "    <tr>\n",
       "      <th>1</th>\n",
       "      <td>239532</td>\n",
       "    </tr>\n",
       "  </tbody>\n",
       "</table>\n",
       "</div>"
      ],
      "text/plain": [
       "             Number_of_Casualties\n",
       "Day_of_Week                      \n",
       "6                          331934\n",
       "5                          299044\n",
       "4                          297756\n",
       "3                          294476\n",
       "7                          285261\n",
       "2                          284043\n",
       "1                          239532"
      ]
     },
     "execution_count": 7,
     "metadata": {},
     "output_type": "execute_result"
    }
   ],
   "source": [
    "days = df.groupby('Day_of_Week')[['Number_of_Casualties']].sum()\n",
    "days.sort_values(by='Number_of_Casualties', ascending=False)"
   ]
  },
  {
   "cell_type": "code",
   "execution_count": 8,
   "metadata": {},
   "outputs": [
    {
     "data": {
      "text/html": [
       "<div>\n",
       "<style scoped>\n",
       "    .dataframe tbody tr th:only-of-type {\n",
       "        vertical-align: middle;\n",
       "    }\n",
       "\n",
       "    .dataframe tbody tr th {\n",
       "        vertical-align: top;\n",
       "    }\n",
       "\n",
       "    .dataframe thead th {\n",
       "        text-align: right;\n",
       "    }\n",
       "</style>\n",
       "<table border=\"1\" class=\"dataframe\">\n",
       "  <thead>\n",
       "    <tr style=\"text-align: right;\">\n",
       "      <th></th>\n",
       "      <th>Number_of_Vehicles</th>\n",
       "    </tr>\n",
       "    <tr>\n",
       "      <th>Day_of_Week</th>\n",
       "      <th></th>\n",
       "    </tr>\n",
       "  </thead>\n",
       "  <tbody>\n",
       "    <tr>\n",
       "      <th>6</th>\n",
       "      <td>456709</td>\n",
       "    </tr>\n",
       "    <tr>\n",
       "      <th>4</th>\n",
       "      <td>418824</td>\n",
       "    </tr>\n",
       "    <tr>\n",
       "      <th>5</th>\n",
       "      <td>418738</td>\n",
       "    </tr>\n",
       "    <tr>\n",
       "      <th>3</th>\n",
       "      <td>414901</td>\n",
       "    </tr>\n",
       "    <tr>\n",
       "      <th>2</th>\n",
       "      <td>393244</td>\n",
       "    </tr>\n",
       "    <tr>\n",
       "      <th>7</th>\n",
       "      <td>358923</td>\n",
       "    </tr>\n",
       "    <tr>\n",
       "      <th>1</th>\n",
       "      <td>293671</td>\n",
       "    </tr>\n",
       "  </tbody>\n",
       "</table>\n",
       "</div>"
      ],
      "text/plain": [
       "             Number_of_Vehicles\n",
       "Day_of_Week                    \n",
       "6                        456709\n",
       "4                        418824\n",
       "5                        418738\n",
       "3                        414901\n",
       "2                        393244\n",
       "7                        358923\n",
       "1                        293671"
      ]
     },
     "execution_count": 8,
     "metadata": {},
     "output_type": "execute_result"
    }
   ],
   "source": [
    "vehicles = df.groupby('Day_of_Week')[['Number_of_Vehicles']].sum()\n",
    "vehicles.sort_values(by='Number_of_Vehicles', ascending=False)"
   ]
  },
  {
   "cell_type": "markdown",
   "metadata": {},
   "source": [
    "## อัตราการเสียชีวิตเมื่อเทียบกับสภาพอากาศ"
   ]
  },
  {
   "cell_type": "code",
   "execution_count": 9,
   "metadata": {},
   "outputs": [
    {
     "data": {
      "text/plain": [
       "Weather_Conditions\n",
       "Fog or mist                   1.440415\n",
       "Snowing with high winds       1.418878\n",
       "Raining with high winds       1.395858\n",
       "Raining without high winds    1.394376\n",
       "Fine with high winds          1.374285\n",
       "Fine without high winds       1.345408\n",
       "Snowing without high winds    1.343863\n",
       "dtype: float64"
      ]
     },
     "execution_count": 9,
     "metadata": {},
     "output_type": "execute_result"
    }
   ],
   "source": [
    "casualties_by_weather = df.groupby('Weather_Conditions')[['Number_of_Casualties']].sum()\n",
    "\n",
    "weather_counts = df['Weather_Conditions'].value_counts()\n",
    "# หารด้วยจำนวนข้อมูลของแต่ละสภาพอากาศ เพื่อความเท่าเทียมของอัตราส่วน\n",
    "normalized_casualties = casualties_by_weather['Number_of_Casualties'] / weather_counts\n",
    "normalized_casualties = normalized_casualties.drop(['Other', 'Unknown'])\n",
    "normalized_casualties = normalized_casualties.sort_values(ascending=False)\n",
    "normalized_casualties"
   ]
  },
  {
   "cell_type": "code",
   "execution_count": 10,
   "metadata": {},
   "outputs": [
    {
     "data": {
      "image/png": "[encoded data removed]",
      "text/plain": [
       "<Figure size 600x800 with 1 Axes>"
      ]
     },
     "metadata": {},
     "output_type": "display_data"
    }
   ],
   "source": [
    "plt.figure(figsize=(6, 8))\n",
    "plt.pie(normalized_casualties, labels=normalized_casualties.index, autopct='%1.1f%%', startangle=140)\n",
    "plt.title('Casualties rate by weather conditions')\n",
    "plt.axis('equal')\n",
    "plt.show()"
   ]
  },
  {
   "cell_type": "markdown",
   "metadata": {},
   "source": [
    "## อัตราการเสียชีวิตเมื่อเทียบกับสภาพแสงไฟบนถนน"
   ]
  },
  {
   "cell_type": "code",
   "execution_count": 11,
   "metadata": {},
   "outputs": [
    {
     "data": {
      "text/plain": [
       "Light_Conditions\n",
       "Darkeness: No street lighting                1.539251\n",
       "Darkness: Street lights present and lit      1.353078\n",
       "Darkness: Street lights present but unlit    1.343176\n",
       "Daylight: Street light present               1.337011\n",
       "dtype: float64"
      ]
     },
     "execution_count": 11,
     "metadata": {},
     "output_type": "execute_result"
    }
   ],
   "source": [
    "casualties_by_lights = df.groupby('Light_Conditions')[['Number_of_Casualties']].sum()\n",
    "\n",
    "light_counts = df['Light_Conditions'].value_counts()\n",
    "\n",
    "normalized_casualties = casualties_by_lights['Number_of_Casualties'] / light_counts\n",
    "normalized_casualties = normalized_casualties.drop(['Darkness: Street lighting unknown'])\n",
    "normalized_casualties = normalized_casualties.sort_values(ascending=False)\n",
    "normalized_casualties"
   ]
  },
  {
   "cell_type": "code",
   "execution_count": 12,
   "metadata": {},
   "outputs": [
    {
     "data": {
      "image/png": "[encoded data removed]",
      "text/plain": [
       "<Figure size 400x600 with 1 Axes>"
      ]
     },
     "metadata": {},
     "output_type": "display_data"
    }
   ],
   "source": [
    "plt.figure(figsize=(4, 6))\n",
    "plt.pie(normalized_casualties, labels=normalized_casualties.index, autopct='%1.1f%%', startangle=140)\n",
    "plt.title('Casualties rate by weather conditions')\n",
    "plt.axis('equal')\n",
    "plt.show()"
   ]
  },
  {
   "cell_type": "markdown",
   "metadata": {},
   "source": [
    "## ค่าเฉลี่ยคนเสียชีวิตเทียบกับประเภทถนน"
   ]
  },
  {
   "cell_type": "code",
   "execution_count": 15,
   "metadata": {
    "tags": []
   },
   "outputs": [
    {
     "data": {
      "image/png": "[encoded data removed]",
      "text/plain": [
       "<Figure size 800x400 with 1 Axes>"
      ]
     },
     "metadata": {},
     "output_type": "display_data"
    }
   ],
   "source": [
    "plt.figure(figsize=(8, 4))\n",
    "road = df.groupby('Road_Type')['Number_of_Casualties'].mean()\n",
    "road = road.drop('Unknown')\n",
    "road = road.sort_values()\n",
    "sns.barplot(road, palette='deep')\n",
    "plt.show()"
   ]
  }
 ],
 "metadata": {
  "kernelspec": {
   "display_name": "Python 3 (ipykernel)",
   "language": "python",
   "name": "python3"
  },
  "language_info": {
   "codemirror_mode": {
    "name": "ipython",
    "version": 3
   },
   "file_extension": ".py",
   "mimetype": "text/x-python",
   "name": "python",
   "nbconvert_exporter": "python",
   "pygments_lexer": "ipython3",
   "version": "3.11.5"
  },
  "vscode": {
   "interpreter": {
    "hash": "ffbfc792e496a15b6b750fac43e7a9afdc7c26545a7abda9dc172ad3cb978227"
   }
  }
 },
 "nbformat": 4,
 "nbformat_minor": 4
}
