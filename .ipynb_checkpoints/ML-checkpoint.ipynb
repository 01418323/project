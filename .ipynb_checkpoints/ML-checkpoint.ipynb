{
  "cells": [
    {
      "cell_type": "code",
      "execution_count": 65,
      "metadata": {
        "id": "YBRrapPK7Pbx"
      },
      "outputs": [],
      "source": [
        "import numpy as np\n",
        "import pandas as pd\n",
        "import matplotlib.pyplot as plt\n",
        "import seaborn as sns"
      ]
    },
    {
      "cell_type": "code",
      "execution_count": 66,
      "metadata": {
        "id": "6eZSVNmF7Pb2"
      },
      "outputs": [],
      "source": [
        "import warnings\n",
        "warnings.simplefilter('ignore')"
      ]
    },
    {
      "cell_type": "code",
      "source": [
        "from google.colab import drive\n",
        "drive.mount('/content/drive')"
      ],
      "metadata": {
        "colab": {
          "base_uri": "https://localhost:8080/"
        },
        "id": "ikQw04Pj_NI5",
        "outputId": "e1b2e998-0858-4cd2-d5a5-98f0fc3af343"
      },
      "execution_count": 67,
      "outputs": [
        {
          "output_type": "stream",
          "name": "stdout",
          "text": [
            "Drive already mounted at /content/drive; to attempt to forcibly remount, call drive.mount(\"/content/drive\", force_remount=True).\n"
          ]
        }
      ]
    },
    {
      "cell_type": "code",
      "execution_count": 68,
      "metadata": {
        "colab": {
          "base_uri": "https://localhost:8080/"
        },
        "id": "vfUUjHHI7Pb3",
        "outputId": "840f0f00-d476-4665-b8e5-da65b5d4af87"
      },
      "outputs": [
        {
          "output_type": "stream",
          "name": "stdout",
          "text": [
            "<class 'pandas.core.frame.DataFrame'>\n",
            "RangeIndex: 1504150 entries, 0 to 1504149\n",
            "Data columns (total 33 columns):\n",
            " #   Column                                       Non-Null Count    Dtype  \n",
            "---  ------                                       --------------    -----  \n",
            " 0   Unnamed: 0                                   1504150 non-null  int64  \n",
            " 1   Accident_Index                               1504150 non-null  object \n",
            " 2   Location_Easting_OSGR                        1504049 non-null  float64\n",
            " 3   Location_Northing_OSGR                       1504150 non-null  float64\n",
            " 4   Longitude                                    1504049 non-null  float64\n",
            " 5   Latitude                                     1504150 non-null  float64\n",
            " 6   Police_Force                                 1504150 non-null  int64  \n",
            " 7   Accident_Severity                            1504150 non-null  int64  \n",
            " 8   Number_of_Vehicles                           1504150 non-null  int64  \n",
            " 9   Number_of_Casualties                         1504150 non-null  int64  \n",
            " 10  Date                                         1504150 non-null  object \n",
            " 11  Day_of_Week                                  1504150 non-null  int64  \n",
            " 12  Time                                         1504033 non-null  object \n",
            " 13  Local_Authority_(District)                   1504150 non-null  int64  \n",
            " 14  Local_Authority_(Highway)                    1504150 non-null  object \n",
            " 15  1st_Road_Class                               1504150 non-null  int64  \n",
            " 16  1st_Road_Number                              1504150 non-null  int64  \n",
            " 17  Road_Type                                    1504150 non-null  object \n",
            " 18  Speed_limit                                  1504150 non-null  int64  \n",
            " 19  Junction_Control                             1504150 non-null  object \n",
            " 20  2nd_Road_Class                               1504150 non-null  int64  \n",
            " 21  2nd_Road_Number                              1504150 non-null  int64  \n",
            " 22  Pedestrian_Crossing-Human_Control            1504133 non-null  object \n",
            " 23  Pedestrian_Crossing-Physical_Facilities      1504116 non-null  object \n",
            " 24  Light_Conditions                             1504150 non-null  object \n",
            " 25  Weather_Conditions                           1504150 non-null  object \n",
            " 26  Road_Surface_Conditions                      1504150 non-null  object \n",
            " 27  Special_Conditions_at_Site                   1504150 non-null  object \n",
            " 28  Carriageway_Hazards                          1504150 non-null  object \n",
            " 29  Urban_or_Rural_Area                          1504150 non-null  int64  \n",
            " 30  Did_Police_Officer_Attend_Scene_of_Accident  1504150 non-null  object \n",
            " 31  LSOA_of_Accident_Location                    1395912 non-null  object \n",
            " 32  Year                                         1504150 non-null  int64  \n",
            "dtypes: float64(4), int64(14), object(15)\n",
            "memory usage: 378.7+ MB\n"
          ]
        }
      ],
      "source": [
        "df = pd.read_csv('/content/drive/MyDrive/UK_Accident.csv')\n",
        "df.info()"
      ]
    },
    {
      "cell_type": "code",
      "execution_count": 69,
      "metadata": {
        "id": "JFaZ6Yug7Pb4"
      },
      "outputs": [],
      "source": [
        "df.drop(columns=['Unnamed: 0', 'Location_Easting_OSGR', 'Location_Northing_OSGR',\n",
        "                 'Local_Authority_(Highway)', 'LSOA_of_Accident_Location', 'Special_Conditions_at_Site',\n",
        "                 'Carriageway_Hazards', 'Year'], inplace=True)\n",
        "\n",
        "df.dropna(subset=['Longitude', 'Time', 'Pedestrian_Crossing-Human_Control',\n",
        "                  'Pedestrian_Crossing-Physical_Facilities', 'Junction_Control'], inplace=True)"
      ]
    },
    {
      "cell_type": "code",
      "execution_count": 70,
      "metadata": {
        "colab": {
          "base_uri": "https://localhost:8080/"
        },
        "id": "x69DICM-7Pb5",
        "outputId": "98dc306a-2494-4233-b31a-b825f99cdafd"
      },
      "outputs": [
        {
          "output_type": "stream",
          "name": "stdout",
          "text": [
            "<class 'pandas.core.frame.DataFrame'>\n",
            "Int64Index: 1503890 entries, 0 to 1504149\n",
            "Data columns (total 25 columns):\n",
            " #   Column                                       Non-Null Count    Dtype  \n",
            "---  ------                                       --------------    -----  \n",
            " 0   Accident_Index                               1503890 non-null  object \n",
            " 1   Longitude                                    1503890 non-null  float64\n",
            " 2   Latitude                                     1503890 non-null  float64\n",
            " 3   Police_Force                                 1503890 non-null  int64  \n",
            " 4   Accident_Severity                            1503890 non-null  int64  \n",
            " 5   Number_of_Vehicles                           1503890 non-null  int64  \n",
            " 6   Number_of_Casualties                         1503890 non-null  int64  \n",
            " 7   Date                                         1503890 non-null  object \n",
            " 8   Day_of_Week                                  1503890 non-null  int64  \n",
            " 9   Time                                         1503890 non-null  object \n",
            " 10  Local_Authority_(District)                   1503890 non-null  int64  \n",
            " 11  1st_Road_Class                               1503890 non-null  int64  \n",
            " 12  1st_Road_Number                              1503890 non-null  int64  \n",
            " 13  Road_Type                                    1503890 non-null  object \n",
            " 14  Speed_limit                                  1503890 non-null  int64  \n",
            " 15  Junction_Control                             1503890 non-null  object \n",
            " 16  2nd_Road_Class                               1503890 non-null  int64  \n",
            " 17  2nd_Road_Number                              1503890 non-null  int64  \n",
            " 18  Pedestrian_Crossing-Human_Control            1503890 non-null  object \n",
            " 19  Pedestrian_Crossing-Physical_Facilities      1503890 non-null  object \n",
            " 20  Light_Conditions                             1503890 non-null  object \n",
            " 21  Weather_Conditions                           1503890 non-null  object \n",
            " 22  Road_Surface_Conditions                      1503890 non-null  object \n",
            " 23  Urban_or_Rural_Area                          1503890 non-null  int64  \n",
            " 24  Did_Police_Officer_Attend_Scene_of_Accident  1503890 non-null  object \n",
            "dtypes: float64(2), int64(12), object(11)\n",
            "memory usage: 298.3+ MB\n"
          ]
        }
      ],
      "source": [
        "df.info()"
      ]
    },
    {
      "cell_type": "code",
      "execution_count": 71,
      "metadata": {
        "colab": {
          "base_uri": "https://localhost:8080/"
        },
        "id": "4SST7CtR7Pb6",
        "outputId": "bccf5eba-a96d-4b9b-d298-ef32961faf45"
      },
      "outputs": [
        {
          "output_type": "execute_result",
          "data": {
            "text/plain": [
              "(1503890, 25)"
            ]
          },
          "metadata": {},
          "execution_count": 71
        }
      ],
      "source": [
        "df.shape"
      ]
    },
    {
      "cell_type": "code",
      "execution_count": 72,
      "metadata": {
        "id": "ON5Xauup7Pb7"
      },
      "outputs": [],
      "source": [
        "df.drop(columns=['Date', 'Time', 'Accident_Index'], inplace=True)"
      ]
    },
    {
      "cell_type": "code",
      "source": [
        "cat_cols=[feature for feature in df.columns if df[feature].dtype=='O']\n",
        "for feature in cat_cols:\n",
        "    print(f'The {feature} has following number of {len(df[feature].unique())}')"
      ],
      "metadata": {
        "colab": {
          "base_uri": "https://localhost:8080/"
        },
        "id": "_AmuJeajHo4b",
        "outputId": "b079124f-479b-4b0d-d4ab-5d5f4363456d"
      },
      "execution_count": 80,
      "outputs": [
        {
          "output_type": "stream",
          "name": "stdout",
          "text": [
            "The Road_Type has following number of 6\n",
            "The Junction_Control has following number of 5\n",
            "The Pedestrian_Crossing-Human_Control has following number of 3\n",
            "The Pedestrian_Crossing-Physical_Facilities has following number of 6\n",
            "The Light_Conditions has following number of 5\n",
            "The Weather_Conditions has following number of 9\n",
            "The Road_Surface_Conditions has following number of 6\n",
            "The Did_Police_Officer_Attend_Scene_of_Accident has following number of 2\n"
          ]
        }
      ]
    },
    {
      "cell_type": "code",
      "source": [
        "from sklearn.preprocessing import LabelEncoder\n",
        "\n",
        "labelencoder = LabelEncoder()\n",
        "for feature in cat_cols:\n",
        "    df[feature]=labelencoder.fit_transform(df[feature])"
      ],
      "metadata": {
        "id": "Mgd86TZaIcL7"
      },
      "execution_count": 81,
      "outputs": []
    },
    {
      "cell_type": "code",
      "source": [
        "X = df.drop(columns=['Accident_Severity'], axis=1)\n",
        "y = df[['Accident_Severity']]"
      ],
      "metadata": {
        "id": "JLkXuJiZIdDB"
      },
      "execution_count": 82,
      "outputs": []
    },
    {
      "cell_type": "code",
      "source": [
        "from imblearn.over_sampling import RandomOverSampler\n",
        "from imblearn.over_sampling import SMOTE\n",
        "from sklearn.model_selection import train_test_split\n",
        "from sklearn.ensemble import RandomForestClassifier\n",
        "\n",
        "oversample = RandomOverSampler()\n",
        "\n",
        "X, y = oversample.fit_resample(X, y)\n",
        "x_train, x_test, y_train, y_test=train_test_split(X, y, test_size=0.25, random_state=123)"
      ],
      "metadata": {
        "id": "NOjuKm-6IfMB"
      },
      "execution_count": 83,
      "outputs": []
    },
    {
      "cell_type": "code",
      "source": [
        "clf = RandomForestClassifier(n_estimators=8, n_jobs=None, random_state=123)\n",
        "clf.fit(x_train, y_train)"
      ],
      "metadata": {
        "colab": {
          "base_uri": "https://localhost:8080/",
          "height": 75
        },
        "id": "npmL1Pj9IgrJ",
        "outputId": "2bd63d90-7984-4f8b-cb77-a3d97a92dc2c"
      },
      "execution_count": 86,
      "outputs": [
        {
          "output_type": "execute_result",
          "data": {
            "text/plain": [
              "RandomForestClassifier(n_estimators=8, random_state=123)"
            ],
            "text/html": [
              "<style>#sk-container-id-3 {color: black;background-color: white;}#sk-container-id-3 pre{padding: 0;}#sk-container-id-3 div.sk-toggleable {background-color: white;}#sk-container-id-3 label.sk-toggleable__label {cursor: pointer;display: block;width: 100%;margin-bottom: 0;padding: 0.3em;box-sizing: border-box;text-align: center;}#sk-container-id-3 label.sk-toggleable__label-arrow:before {content: \"▸\";float: left;margin-right: 0.25em;color: #696969;}#sk-container-id-3 label.sk-toggleable__label-arrow:hover:before {color: black;}#sk-container-id-3 div.sk-estimator:hover label.sk-toggleable__label-arrow:before {color: black;}#sk-container-id-3 div.sk-toggleable__content {max-height: 0;max-width: 0;overflow: hidden;text-align: left;background-color: #f0f8ff;}#sk-container-id-3 div.sk-toggleable__content pre {margin: 0.2em;color: black;border-radius: 0.25em;background-color: #f0f8ff;}#sk-container-id-3 input.sk-toggleable__control:checked~div.sk-toggleable__content {max-height: 200px;max-width: 100%;overflow: auto;}#sk-container-id-3 input.sk-toggleable__control:checked~label.sk-toggleable__label-arrow:before {content: \"▾\";}#sk-container-id-3 div.sk-estimator input.sk-toggleable__control:checked~label.sk-toggleable__label {background-color: #d4ebff;}#sk-container-id-3 div.sk-label input.sk-toggleable__control:checked~label.sk-toggleable__label {background-color: #d4ebff;}#sk-container-id-3 input.sk-hidden--visually {border: 0;clip: rect(1px 1px 1px 1px);clip: rect(1px, 1px, 1px, 1px);height: 1px;margin: -1px;overflow: hidden;padding: 0;position: absolute;width: 1px;}#sk-container-id-3 div.sk-estimator {font-family: monospace;background-color: #f0f8ff;border: 1px dotted black;border-radius: 0.25em;box-sizing: border-box;margin-bottom: 0.5em;}#sk-container-id-3 div.sk-estimator:hover {background-color: #d4ebff;}#sk-container-id-3 div.sk-parallel-item::after {content: \"\";width: 100%;border-bottom: 1px solid gray;flex-grow: 1;}#sk-container-id-3 div.sk-label:hover label.sk-toggleable__label {background-color: #d4ebff;}#sk-container-id-3 div.sk-serial::before {content: \"\";position: absolute;border-left: 1px solid gray;box-sizing: border-box;top: 0;bottom: 0;left: 50%;z-index: 0;}#sk-container-id-3 div.sk-serial {display: flex;flex-direction: column;align-items: center;background-color: white;padding-right: 0.2em;padding-left: 0.2em;position: relative;}#sk-container-id-3 div.sk-item {position: relative;z-index: 1;}#sk-container-id-3 div.sk-parallel {display: flex;align-items: stretch;justify-content: center;background-color: white;position: relative;}#sk-container-id-3 div.sk-item::before, #sk-container-id-3 div.sk-parallel-item::before {content: \"\";position: absolute;border-left: 1px solid gray;box-sizing: border-box;top: 0;bottom: 0;left: 50%;z-index: -1;}#sk-container-id-3 div.sk-parallel-item {display: flex;flex-direction: column;z-index: 1;position: relative;background-color: white;}#sk-container-id-3 div.sk-parallel-item:first-child::after {align-self: flex-end;width: 50%;}#sk-container-id-3 div.sk-parallel-item:last-child::after {align-self: flex-start;width: 50%;}#sk-container-id-3 div.sk-parallel-item:only-child::after {width: 0;}#sk-container-id-3 div.sk-dashed-wrapped {border: 1px dashed gray;margin: 0 0.4em 0.5em 0.4em;box-sizing: border-box;padding-bottom: 0.4em;background-color: white;}#sk-container-id-3 div.sk-label label {font-family: monospace;font-weight: bold;display: inline-block;line-height: 1.2em;}#sk-container-id-3 div.sk-label-container {text-align: center;}#sk-container-id-3 div.sk-container {/* jupyter's `normalize.less` sets `[hidden] { display: none; }` but bootstrap.min.css set `[hidden] { display: none !important; }` so we also need the `!important` here to be able to override the default hidden behavior on the sphinx rendered scikit-learn.org. See: https://github.com/scikit-learn/scikit-learn/issues/21755 */display: inline-block !important;position: relative;}#sk-container-id-3 div.sk-text-repr-fallback {display: none;}</style><div id=\"sk-container-id-3\" class=\"sk-top-container\"><div class=\"sk-text-repr-fallback\"><pre>RandomForestClassifier(n_estimators=8, random_state=123)</pre><b>In a Jupyter environment, please rerun this cell to show the HTML representation or trust the notebook. <br />On GitHub, the HTML representation is unable to render, please try loading this page with nbviewer.org.</b></div><div class=\"sk-container\" hidden><div class=\"sk-item\"><div class=\"sk-estimator sk-toggleable\"><input class=\"sk-toggleable__control sk-hidden--visually\" id=\"sk-estimator-id-3\" type=\"checkbox\" checked><label for=\"sk-estimator-id-3\" class=\"sk-toggleable__label sk-toggleable__label-arrow\">RandomForestClassifier</label><div class=\"sk-toggleable__content\"><pre>RandomForestClassifier(n_estimators=8, random_state=123)</pre></div></div></div></div></div>"
            ]
          },
          "metadata": {},
          "execution_count": 86
        }
      ]
    },
    {
      "cell_type": "code",
      "source": [
        "pred = clf.predict(x_test)\n",
        "clf.score(x_test, y_test)"
      ],
      "metadata": {
        "colab": {
          "base_uri": "https://localhost:8080/"
        },
        "id": "POb-uLVkMCIk",
        "outputId": "e14e907a-9aef-4e38-8d93-04e3784fa6bd"
      },
      "execution_count": 102,
      "outputs": [
        {
          "output_type": "execute_result",
          "data": {
            "text/plain": [
              "0.9454100754796384"
            ]
          },
          "metadata": {},
          "execution_count": 102
        }
      ]
    },
    {
      "cell_type": "code",
      "source": [
        "from sklearn import metrics\n",
        "print('Mean Absolute Error:', metrics.mean_absolute_error(y_test, pred))\n",
        "print('Mean Squared Error:', metrics.mean_squared_error(y_test, pred))\n",
        "print('Root Mean Squared Error:', np.sqrt(metrics.mean_squared_error(y_test, pred)))"
      ],
      "metadata": {
        "colab": {
          "base_uri": "https://localhost:8080/"
        },
        "id": "tWt0CEnuLcB7",
        "outputId": "4473aae6-c38c-4adf-88a8-d1eaefb18ef0"
      },
      "execution_count": 100,
      "outputs": [
        {
          "output_type": "stream",
          "name": "stdout",
          "text": [
            "Mean Absolute Error: 0.05679097994362465\n",
            "Mean Squared Error: 0.06119309079015077\n",
            "Root Mean Squared Error: 0.24737237273016316\n"
          ]
        }
      ]
    },
    {
      "cell_type": "code",
      "source": [
        "feature_importances = clf.feature_importances_\n",
        "feature_names = X.columns.to_list()"
      ],
      "metadata": {
        "id": "8MNMZoxyIy6R"
      },
      "execution_count": 89,
      "outputs": []
    },
    {
      "cell_type": "code",
      "source": [
        "feature_importances_with_names = zip(feature_names, feature_importances)\n",
        "\n",
        "# Sort the features by importance (optional)\n",
        "sorted_features = sorted(feature_importances_with_names, key=lambda x: x[1], reverse=True)\n",
        "\n",
        "# Print the feature names and their importances\n",
        "for feature, importance in sorted_features:\n",
        "    print(f\"{feature:<50} {importance:.5f}\")"
      ],
      "metadata": {
        "colab": {
          "base_uri": "https://localhost:8080/"
        },
        "id": "IqZGiIhgIiD4",
        "outputId": "9355fc6f-afc3-41b5-a355-4762c50d3906"
      },
      "execution_count": 92,
      "outputs": [
        {
          "output_type": "stream",
          "name": "stdout",
          "text": [
            "Longitude                                          0.17869\n",
            "Latitude                                           0.17688\n",
            "1st_Road_Number                                    0.10130\n",
            "Local_Authority_(District)                         0.09941\n",
            "Day_of_Week                                        0.08036\n",
            "Police_Force                                       0.04598\n",
            "Number_of_Vehicles                                 0.03602\n",
            "Speed_limit                                        0.03460\n",
            "Number_of_Casualties                               0.02945\n",
            "2nd_Road_Number                                    0.02606\n",
            "Did_Police_Officer_Attend_Scene_of_Accident        0.02485\n",
            "1st_Road_Class                                     0.02463\n",
            "Light_Conditions                                   0.02297\n",
            "Weather_Conditions                                 0.02077\n",
            "2nd_Road_Class                                     0.01956\n",
            "Road_Surface_Conditions                            0.01927\n",
            "Pedestrian_Crossing-Physical_Facilities            0.01702\n",
            "Road_Type                                          0.01627\n",
            "Urban_or_Rural_Area                                0.01513\n",
            "Junction_Control                                   0.00957\n",
            "Pedestrian_Crossing-Human_Control                  0.00122\n"
          ]
        }
      ]
    },
    {
      "cell_type": "markdown",
      "source": [
        "# สรุปความสำคัญของฟีเจอร์ 5 ลำดับ\n",
        "1. Longitude และ Latitude  อาจตีความได้ว่าการเกิดอุบัติเหตุนั้นเกิดขึ้นในจุดเดิมบ่อยครั้ง\n",
        "2. 1st_Road_Number และ Local_Authority_(District) รหัสของถนนที่ และเขตอำเภอ บ่งบอกว่าเกิดอุบัติเหตุที่ถนนเดิมบ่อย\n",
        "3. Day_of_Week วันส่งผลต่อความรุนแรงอุบัติเหตุ\n",
        "4. Police_Force มีตำรวจในที่เกิดเหตุส่งผลต่อความรุนแรง สรุปได้ว่าถ้ามีตำรวจความรุนแรงจะน้อยลง\n",
        "5. Number_of_Vehicles จำนวนรถ ยิ่งรถเยอะความรุนแรงการเกิดอุบัติเหตุยิ่งสูง\n",
        "\n",
        "\n",
        "\n"
      ],
      "metadata": {
        "id": "huEYN2ZbJpvJ"
      }
    },
    {
      "cell_type": "code",
      "source": [],
      "metadata": {
        "id": "pHFHvxzkJlFd"
      },
      "execution_count": null,
      "outputs": []
    }
  ],
  "metadata": {
    "accelerator": "GPU",
    "colab": {
      "provenance": [],
      "gpuType": "T4"
    },
    "kernelspec": {
      "display_name": "Python 3",
      "name": "python3"
    },
    "language_info": {
      "codemirror_mode": {
        "name": "ipython",
        "version": 3
      },
      "file_extension": ".py",
      "mimetype": "text/x-python",
      "name": "python",
      "nbconvert_exporter": "python",
      "pygments_lexer": "ipython3",
      "version": "3.8.10"
    },
    "vscode": {
      "interpreter": {
        "hash": "ffbfc792e496a15b6b750fac43e7a9afdc7c26545a7abda9dc172ad3cb978227"
      }
    }
  },
  "nbformat": 4,
  "nbformat_minor": 0
}