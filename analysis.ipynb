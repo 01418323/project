{
 "cells": [
  {
   "cell_type": "code",
   "execution_count": 44,
   "metadata": {},
   "outputs": [],
   "source": [
    "import pandas as pd\n",
    "import seaborn as sns"
   ]
  },
  {
   "cell_type": "code",
   "execution_count": 60,
   "metadata": {},
   "outputs": [],
   "source": [
    "import warnings\n",
    "warnings.filterwarnings('ignore')"
   ]
  },
  {
   "cell_type": "code",
   "execution_count": 6,
   "metadata": {},
   "outputs": [
    {
     "data": {
      "text/html": [
       "<div>\n",
       "<style scoped>\n",
       "    .dataframe tbody tr th:only-of-type {\n",
       "        vertical-align: middle;\n",
       "    }\n",
       "\n",
       "    .dataframe tbody tr th {\n",
       "        vertical-align: top;\n",
       "    }\n",
       "\n",
       "    .dataframe thead th {\n",
       "        text-align: right;\n",
       "    }\n",
       "</style>\n",
       "<table border=\"1\" class=\"dataframe\">\n",
       "  <thead>\n",
       "    <tr style=\"text-align: right;\">\n",
       "      <th></th>\n",
       "      <th>Location_Easting_OSGR</th>\n",
       "      <th>Location_Northing_OSGR</th>\n",
       "      <th>Longitude</th>\n",
       "      <th>Latitude</th>\n",
       "      <th>Police_Force</th>\n",
       "      <th>Accident_Severity</th>\n",
       "      <th>Number_of_Vehicles</th>\n",
       "      <th>Number_of_Casualties</th>\n",
       "      <th>Date</th>\n",
       "      <th>Day_of_Week</th>\n",
       "      <th>...</th>\n",
       "      <th>Pedestrian_Crossing-Physical_Facilities</th>\n",
       "      <th>Light_Conditions</th>\n",
       "      <th>Weather_Conditions</th>\n",
       "      <th>Road_Surface_Conditions</th>\n",
       "      <th>Special_Conditions_at_Site</th>\n",
       "      <th>Carriageway_Hazards</th>\n",
       "      <th>Urban_or_Rural_Area</th>\n",
       "      <th>Did_Police_Officer_Attend_Scene_of_Accident</th>\n",
       "      <th>LSOA_of_Accident_Location</th>\n",
       "      <th>Year</th>\n",
       "    </tr>\n",
       "    <tr>\n",
       "      <th>Accident_Index</th>\n",
       "      <th></th>\n",
       "      <th></th>\n",
       "      <th></th>\n",
       "      <th></th>\n",
       "      <th></th>\n",
       "      <th></th>\n",
       "      <th></th>\n",
       "      <th></th>\n",
       "      <th></th>\n",
       "      <th></th>\n",
       "      <th></th>\n",
       "      <th></th>\n",
       "      <th></th>\n",
       "      <th></th>\n",
       "      <th></th>\n",
       "      <th></th>\n",
       "      <th></th>\n",
       "      <th></th>\n",
       "      <th></th>\n",
       "      <th></th>\n",
       "      <th></th>\n",
       "    </tr>\n",
       "  </thead>\n",
       "  <tbody>\n",
       "    <tr>\n",
       "      <th>2.01147E+12</th>\n",
       "      <td>572820.0</td>\n",
       "      <td>113340.0</td>\n",
       "      <td>0.456016</td>\n",
       "      <td>50.893619</td>\n",
       "      <td>47</td>\n",
       "      <td>3</td>\n",
       "      <td>1</td>\n",
       "      <td>1</td>\n",
       "      <td>18/06/2011</td>\n",
       "      <td>7</td>\n",
       "      <td>...</td>\n",
       "      <td>No physical crossing within 50 meters</td>\n",
       "      <td>Daylight: Street light present</td>\n",
       "      <td>Fine without high winds</td>\n",
       "      <td>Dry</td>\n",
       "      <td>NaN</td>\n",
       "      <td>NaN</td>\n",
       "      <td>2</td>\n",
       "      <td>Yes</td>\n",
       "      <td>E01021096</td>\n",
       "      <td>2011</td>\n",
       "    </tr>\n",
       "    <tr>\n",
       "      <th>200532D080005</th>\n",
       "      <td>510580.0</td>\n",
       "      <td>407160.0</td>\n",
       "      <td>-0.332424</td>\n",
       "      <td>53.549425</td>\n",
       "      <td>32</td>\n",
       "      <td>3</td>\n",
       "      <td>2</td>\n",
       "      <td>1</td>\n",
       "      <td>18/11/2005</td>\n",
       "      <td>6</td>\n",
       "      <td>...</td>\n",
       "      <td>No physical crossing within 50 meters</td>\n",
       "      <td>Daylight: Street light present</td>\n",
       "      <td>Fine without high winds</td>\n",
       "      <td>Frost/Ice</td>\n",
       "      <td>NaN</td>\n",
       "      <td>NaN</td>\n",
       "      <td>2</td>\n",
       "      <td>Yes</td>\n",
       "      <td>E01026367</td>\n",
       "      <td>2005</td>\n",
       "    </tr>\n",
       "    <tr>\n",
       "      <th>201420T044424</th>\n",
       "      <td>407310.0</td>\n",
       "      <td>285000.0</td>\n",
       "      <td>-1.893846</td>\n",
       "      <td>52.462867</td>\n",
       "      <td>20</td>\n",
       "      <td>3</td>\n",
       "      <td>2</td>\n",
       "      <td>1</td>\n",
       "      <td>22/08/2014</td>\n",
       "      <td>6</td>\n",
       "      <td>...</td>\n",
       "      <td>No physical crossing within 50 meters</td>\n",
       "      <td>Darkness: Street lights present and lit</td>\n",
       "      <td>Fine without high winds</td>\n",
       "      <td>Dry</td>\n",
       "      <td>NaN</td>\n",
       "      <td>NaN</td>\n",
       "      <td>1</td>\n",
       "      <td>Yes</td>\n",
       "      <td>E01009366</td>\n",
       "      <td>2014</td>\n",
       "    </tr>\n",
       "    <tr>\n",
       "      <th>201001JI40559</th>\n",
       "      <td>540450.0</td>\n",
       "      <td>186950.0</td>\n",
       "      <td>0.024904</td>\n",
       "      <td>51.563891</td>\n",
       "      <td>1</td>\n",
       "      <td>2</td>\n",
       "      <td>2</td>\n",
       "      <td>1</td>\n",
       "      <td>31/08/2010</td>\n",
       "      <td>3</td>\n",
       "      <td>...</td>\n",
       "      <td>No physical crossing within 50 meters</td>\n",
       "      <td>Daylight: Street light present</td>\n",
       "      <td>Fine without high winds</td>\n",
       "      <td>Dry</td>\n",
       "      <td>NaN</td>\n",
       "      <td>NaN</td>\n",
       "      <td>1</td>\n",
       "      <td>Yes</td>\n",
       "      <td>E01003791</td>\n",
       "      <td>2010</td>\n",
       "    </tr>\n",
       "    <tr>\n",
       "      <th>200930D000081</th>\n",
       "      <td>436410.0</td>\n",
       "      <td>333980.0</td>\n",
       "      <td>-1.460142</td>\n",
       "      <td>52.902010</td>\n",
       "      <td>30</td>\n",
       "      <td>3</td>\n",
       "      <td>2</td>\n",
       "      <td>1</td>\n",
       "      <td>02/02/2009</td>\n",
       "      <td>2</td>\n",
       "      <td>...</td>\n",
       "      <td>No physical crossing within 50 meters</td>\n",
       "      <td>Daylight: Street light present</td>\n",
       "      <td>Snowing without high winds</td>\n",
       "      <td>Snow</td>\n",
       "      <td>NaN</td>\n",
       "      <td>NaN</td>\n",
       "      <td>1</td>\n",
       "      <td>No</td>\n",
       "      <td>E01013591</td>\n",
       "      <td>2009</td>\n",
       "    </tr>\n",
       "  </tbody>\n",
       "</table>\n",
       "<p>5 rows × 31 columns</p>\n",
       "</div>"
      ],
      "text/plain": [
       "                Location_Easting_OSGR  Location_Northing_OSGR  Longitude  \\\n",
       "Accident_Index                                                             \n",
       "2.01147E+12                  572820.0                113340.0   0.456016   \n",
       "200532D080005                510580.0                407160.0  -0.332424   \n",
       "201420T044424                407310.0                285000.0  -1.893846   \n",
       "201001JI40559                540450.0                186950.0   0.024904   \n",
       "200930D000081                436410.0                333980.0  -1.460142   \n",
       "\n",
       "                 Latitude  Police_Force  Accident_Severity  \\\n",
       "Accident_Index                                               \n",
       "2.01147E+12     50.893619            47                  3   \n",
       "200532D080005   53.549425            32                  3   \n",
       "201420T044424   52.462867            20                  3   \n",
       "201001JI40559   51.563891             1                  2   \n",
       "200930D000081   52.902010            30                  3   \n",
       "\n",
       "                Number_of_Vehicles  Number_of_Casualties        Date  \\\n",
       "Accident_Index                                                         \n",
       "2.01147E+12                      1                     1  18/06/2011   \n",
       "200532D080005                    2                     1  18/11/2005   \n",
       "201420T044424                    2                     1  22/08/2014   \n",
       "201001JI40559                    2                     1  31/08/2010   \n",
       "200930D000081                    2                     1  02/02/2009   \n",
       "\n",
       "                Day_of_Week  ... Pedestrian_Crossing-Physical_Facilities  \\\n",
       "Accident_Index               ...                                           \n",
       "2.01147E+12               7  ...   No physical crossing within 50 meters   \n",
       "200532D080005             6  ...   No physical crossing within 50 meters   \n",
       "201420T044424             6  ...   No physical crossing within 50 meters   \n",
       "201001JI40559             3  ...   No physical crossing within 50 meters   \n",
       "200930D000081             2  ...   No physical crossing within 50 meters   \n",
       "\n",
       "                                       Light_Conditions  \\\n",
       "Accident_Index                                            \n",
       "2.01147E+12              Daylight: Street light present   \n",
       "200532D080005            Daylight: Street light present   \n",
       "201420T044424   Darkness: Street lights present and lit   \n",
       "201001JI40559            Daylight: Street light present   \n",
       "200930D000081            Daylight: Street light present   \n",
       "\n",
       "                        Weather_Conditions  Road_Surface_Conditions  \\\n",
       "Accident_Index                                                        \n",
       "2.01147E+12        Fine without high winds                      Dry   \n",
       "200532D080005      Fine without high winds                Frost/Ice   \n",
       "201420T044424      Fine without high winds                      Dry   \n",
       "201001JI40559      Fine without high winds                      Dry   \n",
       "200930D000081   Snowing without high winds                     Snow   \n",
       "\n",
       "                Special_Conditions_at_Site Carriageway_Hazards  \\\n",
       "Accident_Index                                                   \n",
       "2.01147E+12                            NaN                 NaN   \n",
       "200532D080005                          NaN                 NaN   \n",
       "201420T044424                          NaN                 NaN   \n",
       "201001JI40559                          NaN                 NaN   \n",
       "200930D000081                          NaN                 NaN   \n",
       "\n",
       "                Urban_or_Rural_Area  \\\n",
       "Accident_Index                        \n",
       "2.01147E+12                       2   \n",
       "200532D080005                     2   \n",
       "201420T044424                     1   \n",
       "201001JI40559                     1   \n",
       "200930D000081                     1   \n",
       "\n",
       "               Did_Police_Officer_Attend_Scene_of_Accident  \\\n",
       "Accident_Index                                               \n",
       "2.01147E+12                                            Yes   \n",
       "200532D080005                                          Yes   \n",
       "201420T044424                                          Yes   \n",
       "201001JI40559                                          Yes   \n",
       "200930D000081                                           No   \n",
       "\n",
       "                LSOA_of_Accident_Location  Year  \n",
       "Accident_Index                                   \n",
       "2.01147E+12                     E01021096  2011  \n",
       "200532D080005                   E01026367  2005  \n",
       "201420T044424                   E01009366  2014  \n",
       "201001JI40559                   E01003791  2010  \n",
       "200930D000081                   E01013591  2009  \n",
       "\n",
       "[5 rows x 31 columns]"
      ]
     },
     "execution_count": 6,
     "metadata": {},
     "output_type": "execute_result"
    }
   ],
   "source": [
    "df = pd.read_csv('UK_Accident.csv')\n",
    "df = df.drop('Unnamed: 0', axis=1)\n",
    "df = df.set_index('Accident_Index')\n",
    "df.sample(5)"
   ]
  },
  {
   "cell_type": "markdown",
   "metadata": {},
   "source": [
    "## จำนวน rows และ columns"
   ]
  },
  {
   "cell_type": "code",
   "execution_count": 4,
   "metadata": {},
   "outputs": [
    {
     "name": "stdout",
     "output_type": "stream",
     "text": [
      "<class 'pandas.core.frame.DataFrame'>\n",
      "RangeIndex: 1504150 entries, 0 to 1504149\n",
      "Data columns (total 33 columns):\n",
      " #   Column                                       Non-Null Count    Dtype  \n",
      "---  ------                                       --------------    -----  \n",
      " 0   Unnamed: 0                                   1504150 non-null  int64  \n",
      " 1   Accident_Index                               1504150 non-null  object \n",
      " 2   Location_Easting_OSGR                        1504049 non-null  float64\n",
      " 3   Location_Northing_OSGR                       1504150 non-null  float64\n",
      " 4   Longitude                                    1504049 non-null  float64\n",
      " 5   Latitude                                     1504150 non-null  float64\n",
      " 6   Police_Force                                 1504150 non-null  int64  \n",
      " 7   Accident_Severity                            1504150 non-null  int64  \n",
      " 8   Number_of_Vehicles                           1504150 non-null  int64  \n",
      " 9   Number_of_Casualties                         1504150 non-null  int64  \n",
      " 10  Date                                         1504150 non-null  object \n",
      " 11  Day_of_Week                                  1504150 non-null  int64  \n",
      " 12  Time                                         1504033 non-null  object \n",
      " 13  Local_Authority_(District)                   1504150 non-null  int64  \n",
      " 14  Local_Authority_(Highway)                    1504150 non-null  object \n",
      " 15  1st_Road_Class                               1504150 non-null  int64  \n",
      " 16  1st_Road_Number                              1504150 non-null  int64  \n",
      " 17  Road_Type                                    1504150 non-null  object \n",
      " 18  Speed_limit                                  1504150 non-null  int64  \n",
      " 19  Junction_Control                             901315 non-null   object \n",
      " 20  2nd_Road_Class                               1504150 non-null  int64  \n",
      " 21  2nd_Road_Number                              1504150 non-null  int64  \n",
      " 22  Pedestrian_Crossing-Human_Control            1504133 non-null  object \n",
      " 23  Pedestrian_Crossing-Physical_Facilities      1504116 non-null  object \n",
      " 24  Light_Conditions                             1504150 non-null  object \n",
      " 25  Weather_Conditions                           1504150 non-null  object \n",
      " 26  Road_Surface_Conditions                      1504150 non-null  object \n",
      " 27  Special_Conditions_at_Site                   36582 non-null    object \n",
      " 28  Carriageway_Hazards                          27250 non-null    object \n",
      " 29  Urban_or_Rural_Area                          1504150 non-null  int64  \n",
      " 30  Did_Police_Officer_Attend_Scene_of_Accident  1504150 non-null  object \n",
      " 31  LSOA_of_Accident_Location                    1395912 non-null  object \n",
      " 32  Year                                         1504150 non-null  int64  \n",
      "dtypes: float64(4), int64(14), object(15)\n",
      "memory usage: 378.7+ MB\n"
     ]
    }
   ],
   "source": [
    "df.info()"
   ]
  },
  {
   "cell_type": "markdown",
   "metadata": {},
   "source": [
    "## column ที่มี null"
   ]
  },
  {
   "cell_type": "code",
   "execution_count": 11,
   "metadata": {},
   "outputs": [
    {
     "data": {
      "text/plain": [
       "Location_Easting_OSGR                              101\n",
       "Location_Northing_OSGR                               0\n",
       "Longitude                                          101\n",
       "Latitude                                             0\n",
       "Police_Force                                         0\n",
       "Accident_Severity                                    0\n",
       "Number_of_Vehicles                                   0\n",
       "Number_of_Casualties                                 0\n",
       "Date                                                 0\n",
       "Day_of_Week                                          0\n",
       "Time                                               117\n",
       "Local_Authority_(District)                           0\n",
       "Local_Authority_(Highway)                            0\n",
       "1st_Road_Class                                       0\n",
       "1st_Road_Number                                      0\n",
       "Road_Type                                            0\n",
       "Speed_limit                                          0\n",
       "Junction_Control                                602835\n",
       "2nd_Road_Class                                       0\n",
       "2nd_Road_Number                                      0\n",
       "Pedestrian_Crossing-Human_Control                   17\n",
       "Pedestrian_Crossing-Physical_Facilities             34\n",
       "Light_Conditions                                     0\n",
       "Weather_Conditions                                   0\n",
       "Road_Surface_Conditions                              0\n",
       "Special_Conditions_at_Site                     1467568\n",
       "Carriageway_Hazards                            1476900\n",
       "Urban_or_Rural_Area                                  0\n",
       "Did_Police_Officer_Attend_Scene_of_Accident          0\n",
       "LSOA_of_Accident_Location                       108238\n",
       "Year                                                 0\n",
       "dtype: int64"
      ]
     },
     "execution_count": 11,
     "metadata": {},
     "output_type": "execute_result"
    }
   ],
   "source": [
    "df.isna().sum()"
   ]
  },
  {
   "cell_type": "code",
   "execution_count": 18,
   "metadata": {},
   "outputs": [
    {
     "data": {
      "text/plain": [
       "array([nan, 'Automatic traffic signal', 'Giveway or uncontrolled',\n",
       "       'Stop Sign', 'Authorised person'], dtype=object)"
      ]
     },
     "execution_count": 18,
     "metadata": {},
     "output_type": "execute_result"
    }
   ],
   "source": [
    "df['Junction_Control'].unique()"
   ]
  },
  {
   "cell_type": "code",
   "execution_count": 19,
   "metadata": {},
   "outputs": [
    {
     "data": {
      "text/plain": [
       "array([nan, 'Ol or diesel', 'Roadworks',\n",
       "       'Auto traffic signal partly defective', 'Road surface defective',\n",
       "       'Auto traffic singal out',\n",
       "       'Permanent sign or marking defective or obscured', 'Mud'],\n",
       "      dtype=object)"
      ]
     },
     "execution_count": 19,
     "metadata": {},
     "output_type": "execute_result"
    }
   ],
   "source": [
    "df['Special_Conditions_at_Site'].unique()"
   ]
  },
  {
   "cell_type": "code",
   "execution_count": 20,
   "metadata": {},
   "outputs": [
    {
     "data": {
      "text/plain": [
       "array([nan, 'Other object in carriageway',\n",
       "       'Pedestrian in carriageway (not injured)',\n",
       "       'Dislodged vehicle load in carriageway',\n",
       "       'Involvement with previous accident',\n",
       "       'Any animal (except a ridden horse)'], dtype=object)"
      ]
     },
     "execution_count": 20,
     "metadata": {},
     "output_type": "execute_result"
    }
   ],
   "source": [
    "df['Carriageway_Hazards'].unique()"
   ]
  },
  {
   "cell_type": "code",
   "execution_count": 27,
   "metadata": {},
   "outputs": [],
   "source": [
    "df['Road_Surface_Conditions'].fillna('Normal', inplace = True)\n",
    "df['Special_Conditions_at_Site'].fillna('None', inplace = True)\n",
    "df['Carriageway_Hazards'].fillna('None', inplace = True)\n",
    "df['Did_Police_Officer_Attend_Scene_of_Accident'].fillna('No', inplace = True)\n",
    "df['Weather_Conditions'].fillna('Unknown', inplace = True)\n",
    "df['Junction_Control'].fillna('None', inplace = True)\n",
    "df['Location_Easting_OSGR'].fillna(0, inplace = True)\n",
    "df['Longitude'].fillna(0, inplace = True)"
   ]
  },
  {
   "cell_type": "markdown",
   "metadata": {},
   "source": [
    "## วันที่เกิดอุบัติเหตุเยอะที่สุด"
   ]
  },
  {
   "cell_type": "code",
   "execution_count": 43,
   "metadata": {},
   "outputs": [
    {
     "data": {
      "text/html": [
       "<div>\n",
       "<style scoped>\n",
       "    .dataframe tbody tr th:only-of-type {\n",
       "        vertical-align: middle;\n",
       "    }\n",
       "\n",
       "    .dataframe tbody tr th {\n",
       "        vertical-align: top;\n",
       "    }\n",
       "\n",
       "    .dataframe thead th {\n",
       "        text-align: right;\n",
       "    }\n",
       "</style>\n",
       "<table border=\"1\" class=\"dataframe\">\n",
       "  <thead>\n",
       "    <tr style=\"text-align: right;\">\n",
       "      <th></th>\n",
       "      <th>Number_of_Casualties</th>\n",
       "    </tr>\n",
       "    <tr>\n",
       "      <th>Day_of_Week</th>\n",
       "      <th></th>\n",
       "    </tr>\n",
       "  </thead>\n",
       "  <tbody>\n",
       "    <tr>\n",
       "      <th>6</th>\n",
       "      <td>331934</td>\n",
       "    </tr>\n",
       "    <tr>\n",
       "      <th>5</th>\n",
       "      <td>299044</td>\n",
       "    </tr>\n",
       "    <tr>\n",
       "      <th>4</th>\n",
       "      <td>297756</td>\n",
       "    </tr>\n",
       "    <tr>\n",
       "      <th>3</th>\n",
       "      <td>294476</td>\n",
       "    </tr>\n",
       "    <tr>\n",
       "      <th>7</th>\n",
       "      <td>285261</td>\n",
       "    </tr>\n",
       "    <tr>\n",
       "      <th>2</th>\n",
       "      <td>284043</td>\n",
       "    </tr>\n",
       "    <tr>\n",
       "      <th>1</th>\n",
       "      <td>239532</td>\n",
       "    </tr>\n",
       "  </tbody>\n",
       "</table>\n",
       "</div>"
      ],
      "text/plain": [
       "             Number_of_Casualties\n",
       "Day_of_Week                      \n",
       "6                          331934\n",
       "5                          299044\n",
       "4                          297756\n",
       "3                          294476\n",
       "7                          285261\n",
       "2                          284043\n",
       "1                          239532"
      ]
     },
     "execution_count": 43,
     "metadata": {},
     "output_type": "execute_result"
    }
   ],
   "source": [
    "days = df.groupby('Day_of_Week')[['Number_of_Casualties']].sum()\n",
    "days.sort_values(by='Number_of_Casualties', ascending=False)"
   ]
  },
  {
   "cell_type": "code",
   "execution_count": 62,
   "metadata": {},
   "outputs": [
    {
     "data": {
      "image/png": "[encoded data removed]",
      "text/plain": [
       "<Figure size 640x480 with 1 Axes>"
      ]
     },
     "metadata": {},
     "output_type": "display_data"
    }
   ],
   "source": [
    "sns.barplot(data=days, x='Day_of_Week', y='Number_of_Casualties', palette='rocket');"
   ]
  },
  {
   "cell_type": "code",
   "execution_count": null,
   "metadata": {},
   "outputs": [],
   "source": []
  }
 ],
 "metadata": {
  "kernelspec": {
   "display_name": "Python 3.8.10 64-bit",
   "language": "python",
   "name": "python3"
  },
  "language_info": {
   "codemirror_mode": {
    "name": "ipython",
    "version": 3
   },
   "file_extension": ".py",
   "mimetype": "text/x-python",
   "name": "python",
   "nbconvert_exporter": "python",
   "pygments_lexer": "ipython3",
   "version": "3.8.10"
  },
  "orig_nbformat": 4,
  "vscode": {
   "interpreter": {
    "hash": "ffbfc792e496a15b6b750fac43e7a9afdc7c26545a7abda9dc172ad3cb978227"
   }
  }
 },
 "nbformat": 4,
 "nbformat_minor": 2
}
