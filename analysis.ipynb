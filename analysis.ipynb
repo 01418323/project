{
 "cells": [
  {
   "cell_type": "markdown",
   "metadata": {},
   "source": [
    "# ภูรี ลิ้มวงศ์รุจิรัตน์ 6510450844"
   ]
  },
  {
   "cell_type": "markdown",
   "metadata": {},
   "source": [
    "# ปริยวิศว์ เตชะกฤตเมธีธำรง 6510450593"
   ]
  },
  {
   "cell_type": "markdown",
   "metadata": {},
   "source": [
    "# ณัฐดนัย เอกสันติ 6510450330"
   ]
  },
  {
   "cell_type": "code",
   "execution_count": 1,
   "metadata": {},
   "outputs": [],
   "source": [
    "import pandas as pd\n",
    "import seaborn as sns\n",
    "import matplotlib.pyplot as plt"
   ]
  },
  {
   "cell_type": "code",
   "execution_count": 2,
   "metadata": {},
   "outputs": [],
   "source": [
    "import warnings \n",
    "warnings.filterwarnings('ignore')"
   ]
  },
  {
   "cell_type": "code",
   "execution_count": 3,
   "metadata": {
    "tags": []
   },
   "outputs": [
    {
     "data": {
      "text/html": [
       "<div>\n",
       "<style scoped>\n",
       "    .dataframe tbody tr th:only-of-type {\n",
       "        vertical-align: middle;\n",
       "    }\n",
       "\n",
       "    .dataframe tbody tr th {\n",
       "        vertical-align: top;\n",
       "    }\n",
       "\n",
       "    .dataframe thead th {\n",
       "        text-align: right;\n",
       "    }\n",
       "</style>\n",
       "<table border=\"1\" class=\"dataframe\">\n",
       "  <thead>\n",
       "    <tr style=\"text-align: right;\">\n",
       "      <th></th>\n",
       "      <th>Location_Easting_OSGR</th>\n",
       "      <th>Location_Northing_OSGR</th>\n",
       "      <th>Longitude</th>\n",
       "      <th>Latitude</th>\n",
       "      <th>Police_Force</th>\n",
       "      <th>Accident_Severity</th>\n",
       "      <th>Number_of_Vehicles</th>\n",
       "      <th>Number_of_Casualties</th>\n",
       "      <th>Date</th>\n",
       "      <th>Day_of_Week</th>\n",
       "      <th>...</th>\n",
       "      <th>Pedestrian_Crossing-Physical_Facilities</th>\n",
       "      <th>Light_Conditions</th>\n",
       "      <th>Weather_Conditions</th>\n",
       "      <th>Road_Surface_Conditions</th>\n",
       "      <th>Special_Conditions_at_Site</th>\n",
       "      <th>Carriageway_Hazards</th>\n",
       "      <th>Urban_or_Rural_Area</th>\n",
       "      <th>Did_Police_Officer_Attend_Scene_of_Accident</th>\n",
       "      <th>LSOA_of_Accident_Location</th>\n",
       "      <th>Year</th>\n",
       "    </tr>\n",
       "    <tr>\n",
       "      <th>Accident_Index</th>\n",
       "      <th></th>\n",
       "      <th></th>\n",
       "      <th></th>\n",
       "      <th></th>\n",
       "      <th></th>\n",
       "      <th></th>\n",
       "      <th></th>\n",
       "      <th></th>\n",
       "      <th></th>\n",
       "      <th></th>\n",
       "      <th></th>\n",
       "      <th></th>\n",
       "      <th></th>\n",
       "      <th></th>\n",
       "      <th></th>\n",
       "      <th></th>\n",
       "      <th></th>\n",
       "      <th></th>\n",
       "      <th></th>\n",
       "      <th></th>\n",
       "      <th></th>\n",
       "    </tr>\n",
       "  </thead>\n",
       "  <tbody>\n",
       "    <tr>\n",
       "      <th>2.01193E+12</th>\n",
       "      <td>335470.0</td>\n",
       "      <td>731140.0</td>\n",
       "      <td>-3.048961</td>\n",
       "      <td>56.468009</td>\n",
       "      <td>93</td>\n",
       "      <td>3</td>\n",
       "      <td>1</td>\n",
       "      <td>1</td>\n",
       "      <td>11/08/2011</td>\n",
       "      <td>5</td>\n",
       "      <td>...</td>\n",
       "      <td>No physical crossing within 50 meters</td>\n",
       "      <td>Daylight: Street light present</td>\n",
       "      <td>Fine without high winds</td>\n",
       "      <td>Dry</td>\n",
       "      <td>NaN</td>\n",
       "      <td>NaN</td>\n",
       "      <td>1</td>\n",
       "      <td>Yes</td>\n",
       "      <td>NaN</td>\n",
       "      <td>2011</td>\n",
       "    </tr>\n",
       "    <tr>\n",
       "      <th>200734NW55637</th>\n",
       "      <td>489820.0</td>\n",
       "      <td>269620.0</td>\n",
       "      <td>-0.683714</td>\n",
       "      <td>52.317310</td>\n",
       "      <td>34</td>\n",
       "      <td>3</td>\n",
       "      <td>2</td>\n",
       "      <td>1</td>\n",
       "      <td>09/11/2007</td>\n",
       "      <td>6</td>\n",
       "      <td>...</td>\n",
       "      <td>No physical crossing within 50 meters</td>\n",
       "      <td>Daylight: Street light present</td>\n",
       "      <td>Fine without high winds</td>\n",
       "      <td>Dry</td>\n",
       "      <td>NaN</td>\n",
       "      <td>NaN</td>\n",
       "      <td>1</td>\n",
       "      <td>Yes</td>\n",
       "      <td>E01027334</td>\n",
       "      <td>2007</td>\n",
       "    </tr>\n",
       "    <tr>\n",
       "      <th>20141312L1344</th>\n",
       "      <td>406039.0</td>\n",
       "      <td>441522.0</td>\n",
       "      <td>-1.909646</td>\n",
       "      <td>53.869872</td>\n",
       "      <td>13</td>\n",
       "      <td>3</td>\n",
       "      <td>2</td>\n",
       "      <td>1</td>\n",
       "      <td>21/02/2014</td>\n",
       "      <td>6</td>\n",
       "      <td>...</td>\n",
       "      <td>Central refuge</td>\n",
       "      <td>Darkness: Street lights present and lit</td>\n",
       "      <td>Raining without high winds</td>\n",
       "      <td>Wet/Damp</td>\n",
       "      <td>NaN</td>\n",
       "      <td>NaN</td>\n",
       "      <td>1</td>\n",
       "      <td>No</td>\n",
       "      <td>E01010728</td>\n",
       "      <td>2014</td>\n",
       "    </tr>\n",
       "    <tr>\n",
       "      <th>2.01136E+12</th>\n",
       "      <td>649820.0</td>\n",
       "      <td>305140.0</td>\n",
       "      <td>1.686588</td>\n",
       "      <td>52.586573</td>\n",
       "      <td>36</td>\n",
       "      <td>3</td>\n",
       "      <td>1</td>\n",
       "      <td>1</td>\n",
       "      <td>11/01/2011</td>\n",
       "      <td>3</td>\n",
       "      <td>...</td>\n",
       "      <td>No physical crossing within 50 meters</td>\n",
       "      <td>Darkeness: No street lighting</td>\n",
       "      <td>Raining with high winds</td>\n",
       "      <td>Wet/Damp</td>\n",
       "      <td>NaN</td>\n",
       "      <td>NaN</td>\n",
       "      <td>2</td>\n",
       "      <td>Yes</td>\n",
       "      <td>E01026614</td>\n",
       "      <td>2011</td>\n",
       "    </tr>\n",
       "    <tr>\n",
       "      <th>201401XH30731</th>\n",
       "      <td>511080.0</td>\n",
       "      <td>187710.0</td>\n",
       "      <td>-0.398383</td>\n",
       "      <td>51.577267</td>\n",
       "      <td>1</td>\n",
       "      <td>3</td>\n",
       "      <td>3</td>\n",
       "      <td>1</td>\n",
       "      <td>11/11/2014</td>\n",
       "      <td>3</td>\n",
       "      <td>...</td>\n",
       "      <td>No physical crossing within 50 meters</td>\n",
       "      <td>Daylight: Street light present</td>\n",
       "      <td>Unknown</td>\n",
       "      <td>Wet/Damp</td>\n",
       "      <td>NaN</td>\n",
       "      <td>NaN</td>\n",
       "      <td>1</td>\n",
       "      <td>No</td>\n",
       "      <td>E01002417</td>\n",
       "      <td>2014</td>\n",
       "    </tr>\n",
       "  </tbody>\n",
       "</table>\n",
       "<p>5 rows × 31 columns</p>\n",
       "</div>"
      ],
      "text/plain": [
       "                Location_Easting_OSGR  Location_Northing_OSGR  Longitude  \\\n",
       "Accident_Index                                                             \n",
       "2.01193E+12                  335470.0                731140.0  -3.048961   \n",
       "200734NW55637                489820.0                269620.0  -0.683714   \n",
       "20141312L1344                406039.0                441522.0  -1.909646   \n",
       "2.01136E+12                  649820.0                305140.0   1.686588   \n",
       "201401XH30731                511080.0                187710.0  -0.398383   \n",
       "\n",
       "                 Latitude  Police_Force  Accident_Severity  \\\n",
       "Accident_Index                                               \n",
       "2.01193E+12     56.468009            93                  3   \n",
       "200734NW55637   52.317310            34                  3   \n",
       "20141312L1344   53.869872            13                  3   \n",
       "2.01136E+12     52.586573            36                  3   \n",
       "201401XH30731   51.577267             1                  3   \n",
       "\n",
       "                Number_of_Vehicles  Number_of_Casualties        Date  \\\n",
       "Accident_Index                                                         \n",
       "2.01193E+12                      1                     1  11/08/2011   \n",
       "200734NW55637                    2                     1  09/11/2007   \n",
       "20141312L1344                    2                     1  21/02/2014   \n",
       "2.01136E+12                      1                     1  11/01/2011   \n",
       "201401XH30731                    3                     1  11/11/2014   \n",
       "\n",
       "                Day_of_Week  ... Pedestrian_Crossing-Physical_Facilities  \\\n",
       "Accident_Index               ...                                           \n",
       "2.01193E+12               5  ...   No physical crossing within 50 meters   \n",
       "200734NW55637             6  ...   No physical crossing within 50 meters   \n",
       "20141312L1344             6  ...                          Central refuge   \n",
       "2.01136E+12               3  ...   No physical crossing within 50 meters   \n",
       "201401XH30731             3  ...   No physical crossing within 50 meters   \n",
       "\n",
       "                                       Light_Conditions  \\\n",
       "Accident_Index                                            \n",
       "2.01193E+12              Daylight: Street light present   \n",
       "200734NW55637            Daylight: Street light present   \n",
       "20141312L1344   Darkness: Street lights present and lit   \n",
       "2.01136E+12               Darkeness: No street lighting   \n",
       "201401XH30731            Daylight: Street light present   \n",
       "\n",
       "                        Weather_Conditions  Road_Surface_Conditions  \\\n",
       "Accident_Index                                                        \n",
       "2.01193E+12        Fine without high winds                      Dry   \n",
       "200734NW55637      Fine without high winds                      Dry   \n",
       "20141312L1344   Raining without high winds                 Wet/Damp   \n",
       "2.01136E+12        Raining with high winds                 Wet/Damp   \n",
       "201401XH30731                      Unknown                 Wet/Damp   \n",
       "\n",
       "                Special_Conditions_at_Site Carriageway_Hazards  \\\n",
       "Accident_Index                                                   \n",
       "2.01193E+12                            NaN                 NaN   \n",
       "200734NW55637                          NaN                 NaN   \n",
       "20141312L1344                          NaN                 NaN   \n",
       "2.01136E+12                            NaN                 NaN   \n",
       "201401XH30731                          NaN                 NaN   \n",
       "\n",
       "                Urban_or_Rural_Area  \\\n",
       "Accident_Index                        \n",
       "2.01193E+12                       1   \n",
       "200734NW55637                     1   \n",
       "20141312L1344                     1   \n",
       "2.01136E+12                       2   \n",
       "201401XH30731                     1   \n",
       "\n",
       "               Did_Police_Officer_Attend_Scene_of_Accident  \\\n",
       "Accident_Index                                               \n",
       "2.01193E+12                                            Yes   \n",
       "200734NW55637                                          Yes   \n",
       "20141312L1344                                           No   \n",
       "2.01136E+12                                            Yes   \n",
       "201401XH30731                                           No   \n",
       "\n",
       "                LSOA_of_Accident_Location  Year  \n",
       "Accident_Index                                   \n",
       "2.01193E+12                           NaN  2011  \n",
       "200734NW55637                   E01027334  2007  \n",
       "20141312L1344                   E01010728  2014  \n",
       "2.01136E+12                     E01026614  2011  \n",
       "201401XH30731                   E01002417  2014  \n",
       "\n",
       "[5 rows x 31 columns]"
      ]
     },
     "execution_count": 3,
     "metadata": {},
     "output_type": "execute_result"
    }
   ],
   "source": [
    "df = pd.read_csv('UK_Accident.csv')\n",
    "df = df.drop('Unnamed: 0', axis=1)\n",
    "df = df.set_index('Accident_Index')\n",
    "df.sample(5)"
   ]
  },
  {
   "cell_type": "markdown",
   "metadata": {
    "tags": []
   },
   "source": [
    "## รายละเอียดของชุดข้อมูล"
   ]
  },
  {
   "cell_type": "markdown",
   "metadata": {
    "tags": []
   },
   "source": [
    "### คำอธิบายข้อมูลในแต่ละ column"
   ]
  },
  {
   "cell_type": "markdown",
   "metadata": {},
   "source": [
    "<table>\n",
    "  <tr>\n",
    "    <th>Columns</th>\n",
    "    <th>คำอธิบาย</th>\n",
    "  </tr>\n",
    "  <tr>\n",
    "    <td>Accident_Severity</td>\n",
    "    <td>ความรุนแรงของการเกิดอุบัติเหตุระดับตั้งแต่ 1 - 5</td>\n",
    "  </tr>\n",
    "  <tr>\n",
    "    <td>Carriageway_Hazards</td>\n",
    "    <td>มีการขนสารกัมมันตรังสี</td>\n",
    "  </tr>\n",
    "    <tr>\n",
    "    <td>Did_Police_Officer_Attend_Scene_of_Accident</td>\n",
    "    <td>เจ้าหน้าที่ตำรวจเข้าร่วมที่เกิดเหตุหรือไม่</td>\n",
    "  </tr>\n",
    "  <tr>\n",
    "    <td>Junction_Control</td>\n",
    "    <td>รูปแบบการควบคุมทางแยก</td>\n",
    "  </tr>\n",
    "    <tr>\n",
    "    <td>Light_Conditions</td>\n",
    "    <td>สภาพของแสงสว่างตอนเกิดอุบัติเหตุ</td>\n",
    "  </tr>\n",
    "  <tr>\n",
    "    <td>Number_of_Casualties</td>\n",
    "    <td>จำนวนผู้เสียในอุบัติเหตุนั้น</td>\n",
    "  </tr>\n",
    "  <tr>\n",
    "    <td>Number_of_Vehicles</td>\n",
    "    <td>จำนวนรถที่เกิดในอุบัติเหตุนั้น</td>\n",
    "  </tr>\n",
    "  <tr>\n",
    "    <td>Pedestrian_Crossing-Physical_Facilities</td>\n",
    "    <td>สิ่งอำนวยความสะดวกบนทางเท้า</td>\n",
    "  </tr>\n",
    "  <tr>\n",
    "    <td>Pedestrian_Crossing-Human_Control</td>\n",
    "    <td>ที่ควบคุมเวลาเดินข้ามฝั่ง</td>\n",
    "  </tr>\n",
    "    <tr>\n",
    "    <td>police_fore</td>\n",
    "    <td>กำลังตำรวจที่เข้าไปช่วยเหลือตอนเกิดอุบัติเหตุ </td>\n",
    "  </tr>\n",
    "  <tr>\n",
    "    <td>Road_Surface_Conditions</td>\n",
    "    <td>สภาพพื้นผิวถนน</td>\n",
    "  </tr>\n",
    "  <tr>\n",
    "    <td>Road_Type</td>\n",
    "    <td>ประเภทของถนน</td>\n",
    "  </tr>\n",
    "  <tr>\n",
    "    <td>Special_Conditions_at_Site</td>\n",
    "    <td>เงื่อนไขพิเศษในที่เกิดเหตุ</td>\n",
    "  </tr>\n",
    "  <tr>\n",
    "    <td>Speed_limit</td>\n",
    "    <td>ความเร็วจำกัดของถนน</td>\n",
    "  </tr>\n",
    "  <tr>\n",
    "    <td>Urban_or_Rural_Area</td>\n",
    "    <td>เขตเมืองหรือชนบท</td>\n",
    "  </tr>\n",
    "  <tr>\n",
    "    <td>Weather_Conditions</td>\n",
    "    <td>สภาพของอากาศตอนเกิดอุบัติเหตุ</td>\n",
    "  </tr>\n",
    "</table>\n"
   ]
  },
  {
   "cell_type": "markdown",
   "metadata": {
    "tags": []
   },
   "source": [
    "### จำนวน rows และ columns "
   ]
  },
  {
   "cell_type": "code",
   "execution_count": 4,
   "metadata": {
    "tags": []
   },
   "outputs": [],
   "source": [
    "df.dropna(subset=['Longitude', 'Time', 'Pedestrian_Crossing-Human_Control', \n",
    "                  'Pedestrian_Crossing-Physical_Facilities'], inplace=True)"
   ]
  },
  {
   "cell_type": "code",
   "execution_count": 5,
   "metadata": {},
   "outputs": [
    {
     "name": "stdout",
     "output_type": "stream",
     "text": [
      "Number of rows:  1503890 \n",
      "Number of columns:  31\n"
     ]
    }
   ],
   "source": [
    "print(\"Number of rows: \", df.shape[0],\n",
    "     \"\\nNumber of columns: \", df.shape[1])"
   ]
  },
  {
   "cell_type": "code",
   "execution_count": 6,
   "metadata": {
    "tags": []
   },
   "outputs": [
    {
     "name": "stdout",
     "output_type": "stream",
     "text": [
      "<class 'pandas.core.frame.DataFrame'>\n",
      "Index: 1503890 entries, 200501BS00001 to 2.01E+12\n",
      "Data columns (total 31 columns):\n",
      " #   Column                                       Non-Null Count    Dtype  \n",
      "---  ------                                       --------------    -----  \n",
      " 0   Location_Easting_OSGR                        1503890 non-null  float64\n",
      " 1   Location_Northing_OSGR                       1503890 non-null  float64\n",
      " 2   Longitude                                    1503890 non-null  float64\n",
      " 3   Latitude                                     1503890 non-null  float64\n",
      " 4   Police_Force                                 1503890 non-null  int64  \n",
      " 5   Accident_Severity                            1503890 non-null  int64  \n",
      " 6   Number_of_Vehicles                           1503890 non-null  int64  \n",
      " 7   Number_of_Casualties                         1503890 non-null  int64  \n",
      " 8   Date                                         1503890 non-null  object \n",
      " 9   Day_of_Week                                  1503890 non-null  int64  \n",
      " 10  Time                                         1503890 non-null  object \n",
      " 11  Local_Authority_(District)                   1503890 non-null  int64  \n",
      " 12  Local_Authority_(Highway)                    1503890 non-null  object \n",
      " 13  1st_Road_Class                               1503890 non-null  int64  \n",
      " 14  1st_Road_Number                              1503890 non-null  int64  \n",
      " 15  Road_Type                                    1503890 non-null  object \n",
      " 16  Speed_limit                                  1503890 non-null  int64  \n",
      " 17  Junction_Control                             901196 non-null   object \n",
      " 18  2nd_Road_Class                               1503890 non-null  int64  \n",
      " 19  2nd_Road_Number                              1503890 non-null  int64  \n",
      " 20  Pedestrian_Crossing-Human_Control            1503890 non-null  object \n",
      " 21  Pedestrian_Crossing-Physical_Facilities      1503890 non-null  object \n",
      " 22  Light_Conditions                             1503890 non-null  object \n",
      " 23  Weather_Conditions                           1503890 non-null  object \n",
      " 24  Road_Surface_Conditions                      1503890 non-null  object \n",
      " 25  Special_Conditions_at_Site                   36574 non-null    object \n",
      " 26  Carriageway_Hazards                          27242 non-null    object \n",
      " 27  Urban_or_Rural_Area                          1503890 non-null  int64  \n",
      " 28  Did_Police_Officer_Attend_Scene_of_Accident  1503890 non-null  object \n",
      " 29  LSOA_of_Accident_Location                    1395848 non-null  object \n",
      " 30  Year                                         1503890 non-null  int64  \n",
      "dtypes: float64(4), int64(13), object(14)\n",
      "memory usage: 367.2+ MB\n"
     ]
    }
   ],
   "source": [
    "df.info()"
   ]
  },
  {
   "cell_type": "markdown",
   "metadata": {
    "tags": []
   },
   "source": [
    "### column ที่มี null"
   ]
  },
  {
   "cell_type": "code",
   "execution_count": 7,
   "metadata": {},
   "outputs": [
    {
     "data": {
      "text/plain": [
       "Location_Easting_OSGR                          False\n",
       "Location_Northing_OSGR                         False\n",
       "Longitude                                      False\n",
       "Latitude                                       False\n",
       "Police_Force                                   False\n",
       "Accident_Severity                              False\n",
       "Number_of_Vehicles                             False\n",
       "Number_of_Casualties                           False\n",
       "Date                                           False\n",
       "Day_of_Week                                    False\n",
       "Time                                           False\n",
       "Local_Authority_(District)                     False\n",
       "Local_Authority_(Highway)                      False\n",
       "1st_Road_Class                                 False\n",
       "1st_Road_Number                                False\n",
       "Road_Type                                      False\n",
       "Speed_limit                                    False\n",
       "Junction_Control                                True\n",
       "2nd_Road_Class                                 False\n",
       "2nd_Road_Number                                False\n",
       "Pedestrian_Crossing-Human_Control              False\n",
       "Pedestrian_Crossing-Physical_Facilities        False\n",
       "Light_Conditions                               False\n",
       "Weather_Conditions                             False\n",
       "Road_Surface_Conditions                        False\n",
       "Special_Conditions_at_Site                      True\n",
       "Carriageway_Hazards                             True\n",
       "Urban_or_Rural_Area                            False\n",
       "Did_Police_Officer_Attend_Scene_of_Accident    False\n",
       "LSOA_of_Accident_Location                       True\n",
       "Year                                           False\n",
       "dtype: bool"
      ]
     },
     "execution_count": 7,
     "metadata": {},
     "output_type": "execute_result"
    }
   ],
   "source": [
    "df.isna().any()"
   ]
  },
  {
   "cell_type": "code",
   "execution_count": 8,
   "metadata": {},
   "outputs": [
    {
     "data": {
      "text/plain": [
       "Location_Easting_OSGR                                0\n",
       "Location_Northing_OSGR                               0\n",
       "Longitude                                            0\n",
       "Latitude                                             0\n",
       "Police_Force                                         0\n",
       "Accident_Severity                                    0\n",
       "Number_of_Vehicles                                   0\n",
       "Number_of_Casualties                                 0\n",
       "Date                                                 0\n",
       "Day_of_Week                                          0\n",
       "Time                                                 0\n",
       "Local_Authority_(District)                           0\n",
       "Local_Authority_(Highway)                            0\n",
       "1st_Road_Class                                       0\n",
       "1st_Road_Number                                      0\n",
       "Road_Type                                            0\n",
       "Speed_limit                                          0\n",
       "Junction_Control                                602694\n",
       "2nd_Road_Class                                       0\n",
       "2nd_Road_Number                                      0\n",
       "Pedestrian_Crossing-Human_Control                    0\n",
       "Pedestrian_Crossing-Physical_Facilities              0\n",
       "Light_Conditions                                     0\n",
       "Weather_Conditions                                   0\n",
       "Road_Surface_Conditions                              0\n",
       "Special_Conditions_at_Site                     1467316\n",
       "Carriageway_Hazards                            1476648\n",
       "Urban_or_Rural_Area                                  0\n",
       "Did_Police_Officer_Attend_Scene_of_Accident          0\n",
       "LSOA_of_Accident_Location                       108042\n",
       "Year                                                 0\n",
       "dtype: int64"
      ]
     },
     "execution_count": 8,
     "metadata": {},
     "output_type": "execute_result"
    }
   ],
   "source": [
    "df.isna().sum()"
   ]
  },
  {
   "cell_type": "markdown",
   "metadata": {},
   "source": [
    "### แทนที่ค่า NULL และ ค่า Duplicated"
   ]
  },
  {
   "cell_type": "code",
   "execution_count": 9,
   "metadata": {},
   "outputs": [
    {
     "name": "stdout",
     "output_type": "stream",
     "text": [
      "Number of duplicate rows:  34167\n",
      "Number of rows remaining:  1469723\n"
     ]
    }
   ],
   "source": [
    "dup_rows = df[df.duplicated()]\n",
    "print(\"Number of duplicate rows: \", dup_rows.shape[0])\n",
    "\n",
    "df.drop_duplicates(inplace=True)\n",
    "print(\"Number of rows remaining: \", df.shape[0])"
   ]
  },
  {
   "cell_type": "markdown",
   "metadata": {
    "tags": []
   },
   "source": [
    "## ประเภทและเนื้อหาของข้อมูล"
   ]
  },
  {
   "cell_type": "markdown",
   "metadata": {
    "tags": []
   },
   "source": [
    "### NUMBER"
   ]
  },
  {
   "cell_type": "code",
   "execution_count": 10,
   "metadata": {},
   "outputs": [
    {
     "data": {
      "text/html": [
       "<div>\n",
       "<style scoped>\n",
       "    .dataframe tbody tr th:only-of-type {\n",
       "        vertical-align: middle;\n",
       "    }\n",
       "\n",
       "    .dataframe tbody tr th {\n",
       "        vertical-align: top;\n",
       "    }\n",
       "\n",
       "    .dataframe thead th {\n",
       "        text-align: right;\n",
       "    }\n",
       "</style>\n",
       "<table border=\"1\" class=\"dataframe\">\n",
       "  <thead>\n",
       "    <tr style=\"text-align: right;\">\n",
       "      <th></th>\n",
       "      <th>Location_Easting_OSGR</th>\n",
       "      <th>Location_Northing_OSGR</th>\n",
       "      <th>Longitude</th>\n",
       "      <th>Latitude</th>\n",
       "      <th>Police_Force</th>\n",
       "      <th>Accident_Severity</th>\n",
       "      <th>Number_of_Vehicles</th>\n",
       "      <th>Number_of_Casualties</th>\n",
       "      <th>Day_of_Week</th>\n",
       "      <th>Local_Authority_(District)</th>\n",
       "      <th>1st_Road_Class</th>\n",
       "      <th>1st_Road_Number</th>\n",
       "      <th>Speed_limit</th>\n",
       "      <th>2nd_Road_Class</th>\n",
       "      <th>2nd_Road_Number</th>\n",
       "      <th>Urban_or_Rural_Area</th>\n",
       "      <th>Year</th>\n",
       "    </tr>\n",
       "  </thead>\n",
       "  <tbody>\n",
       "    <tr>\n",
       "      <th>count</th>\n",
       "      <td>1.469723e+06</td>\n",
       "      <td>1.469723e+06</td>\n",
       "      <td>1.469723e+06</td>\n",
       "      <td>1.469723e+06</td>\n",
       "      <td>1.469723e+06</td>\n",
       "      <td>1.469723e+06</td>\n",
       "      <td>1.469723e+06</td>\n",
       "      <td>1.469723e+06</td>\n",
       "      <td>1.469723e+06</td>\n",
       "      <td>1.469723e+06</td>\n",
       "      <td>1.469723e+06</td>\n",
       "      <td>1.469723e+06</td>\n",
       "      <td>1.469723e+06</td>\n",
       "      <td>1.469723e+06</td>\n",
       "      <td>1.469723e+06</td>\n",
       "      <td>1.469723e+06</td>\n",
       "      <td>1.469723e+06</td>\n",
       "    </tr>\n",
       "    <tr>\n",
       "      <th>mean</th>\n",
       "      <td>4.399051e+05</td>\n",
       "      <td>2.986402e+05</td>\n",
       "      <td>-1.432531e+00</td>\n",
       "      <td>5.257566e+01</td>\n",
       "      <td>3.077645e+01</td>\n",
       "      <td>2.838776e+00</td>\n",
       "      <td>1.831865e+00</td>\n",
       "      <td>1.350914e+00</td>\n",
       "      <td>4.118635e+00</td>\n",
       "      <td>3.535205e+02</td>\n",
       "      <td>4.089777e+00</td>\n",
       "      <td>1.008853e+03</td>\n",
       "      <td>3.907809e+01</td>\n",
       "      <td>2.664063e+00</td>\n",
       "      <td>3.801138e+02</td>\n",
       "      <td>1.356605e+00</td>\n",
       "      <td>2.009309e+03</td>\n",
       "    </tr>\n",
       "    <tr>\n",
       "      <th>std</th>\n",
       "      <td>9.553398e+04</td>\n",
       "      <td>1.612215e+05</td>\n",
       "      <td>1.404302e+00</td>\n",
       "      <td>1.451720e+00</td>\n",
       "      <td>2.551236e+01</td>\n",
       "      <td>4.014211e-01</td>\n",
       "      <td>7.152280e-01</td>\n",
       "      <td>8.258342e-01</td>\n",
       "      <td>1.924716e+00</td>\n",
       "      <td>2.592345e+02</td>\n",
       "      <td>1.429888e+00</td>\n",
       "      <td>1.821619e+03</td>\n",
       "      <td>1.417093e+01</td>\n",
       "      <td>3.207775e+00</td>\n",
       "      <td>1.300941e+03</td>\n",
       "      <td>4.790465e-01</td>\n",
       "      <td>3.021106e+00</td>\n",
       "    </tr>\n",
       "    <tr>\n",
       "      <th>min</th>\n",
       "      <td>6.495000e+04</td>\n",
       "      <td>1.029000e+04</td>\n",
       "      <td>-7.516225e+00</td>\n",
       "      <td>4.991294e+01</td>\n",
       "      <td>1.000000e+00</td>\n",
       "      <td>1.000000e+00</td>\n",
       "      <td>1.000000e+00</td>\n",
       "      <td>1.000000e+00</td>\n",
       "      <td>1.000000e+00</td>\n",
       "      <td>1.000000e+00</td>\n",
       "      <td>1.000000e+00</td>\n",
       "      <td>-1.000000e+00</td>\n",
       "      <td>1.000000e+01</td>\n",
       "      <td>-1.000000e+00</td>\n",
       "      <td>-1.000000e+00</td>\n",
       "      <td>1.000000e+00</td>\n",
       "      <td>2.005000e+03</td>\n",
       "    </tr>\n",
       "    <tr>\n",
       "      <th>25%</th>\n",
       "      <td>3.757600e+05</td>\n",
       "      <td>1.780000e+05</td>\n",
       "      <td>-2.363448e+00</td>\n",
       "      <td>5.148788e+01</td>\n",
       "      <td>7.000000e+00</td>\n",
       "      <td>3.000000e+00</td>\n",
       "      <td>1.000000e+00</td>\n",
       "      <td>1.000000e+00</td>\n",
       "      <td>2.000000e+00</td>\n",
       "      <td>1.220000e+02</td>\n",
       "      <td>3.000000e+00</td>\n",
       "      <td>0.000000e+00</td>\n",
       "      <td>3.000000e+01</td>\n",
       "      <td>-1.000000e+00</td>\n",
       "      <td>0.000000e+00</td>\n",
       "      <td>1.000000e+00</td>\n",
       "      <td>2.006000e+03</td>\n",
       "    </tr>\n",
       "    <tr>\n",
       "      <th>50%</th>\n",
       "      <td>4.409400e+05</td>\n",
       "      <td>2.653070e+05</td>\n",
       "      <td>-1.391488e+00</td>\n",
       "      <td>5.227635e+01</td>\n",
       "      <td>3.100000e+01</td>\n",
       "      <td>3.000000e+00</td>\n",
       "      <td>2.000000e+00</td>\n",
       "      <td>1.000000e+00</td>\n",
       "      <td>4.000000e+00</td>\n",
       "      <td>3.280000e+02</td>\n",
       "      <td>4.000000e+00</td>\n",
       "      <td>1.290000e+02</td>\n",
       "      <td>3.000000e+01</td>\n",
       "      <td>3.000000e+00</td>\n",
       "      <td>0.000000e+00</td>\n",
       "      <td>1.000000e+00</td>\n",
       "      <td>2.010000e+03</td>\n",
       "    </tr>\n",
       "    <tr>\n",
       "      <th>75%</th>\n",
       "      <td>5.232900e+05</td>\n",
       "      <td>3.965800e+05</td>\n",
       "      <td>-2.184340e-01</td>\n",
       "      <td>5.346421e+01</td>\n",
       "      <td>4.600000e+01</td>\n",
       "      <td>3.000000e+00</td>\n",
       "      <td>2.000000e+00</td>\n",
       "      <td>1.000000e+00</td>\n",
       "      <td>6.000000e+00</td>\n",
       "      <td>5.310000e+02</td>\n",
       "      <td>6.000000e+00</td>\n",
       "      <td>7.260000e+02</td>\n",
       "      <td>5.000000e+01</td>\n",
       "      <td>6.000000e+00</td>\n",
       "      <td>0.000000e+00</td>\n",
       "      <td>2.000000e+00</td>\n",
       "      <td>2.012000e+03</td>\n",
       "    </tr>\n",
       "    <tr>\n",
       "      <th>max</th>\n",
       "      <td>6.553700e+05</td>\n",
       "      <td>1.208800e+06</td>\n",
       "      <td>1.759398e+00</td>\n",
       "      <td>6.075754e+01</td>\n",
       "      <td>9.800000e+01</td>\n",
       "      <td>3.000000e+00</td>\n",
       "      <td>6.700000e+01</td>\n",
       "      <td>9.300000e+01</td>\n",
       "      <td>7.000000e+00</td>\n",
       "      <td>9.410000e+02</td>\n",
       "      <td>6.000000e+00</td>\n",
       "      <td>9.999000e+03</td>\n",
       "      <td>7.000000e+01</td>\n",
       "      <td>6.000000e+00</td>\n",
       "      <td>9.999000e+03</td>\n",
       "      <td>3.000000e+00</td>\n",
       "      <td>2.014000e+03</td>\n",
       "    </tr>\n",
       "  </tbody>\n",
       "</table>\n",
       "</div>"
      ],
      "text/plain": [
       "       Location_Easting_OSGR  Location_Northing_OSGR     Longitude  \\\n",
       "count           1.469723e+06            1.469723e+06  1.469723e+06   \n",
       "mean            4.399051e+05            2.986402e+05 -1.432531e+00   \n",
       "std             9.553398e+04            1.612215e+05  1.404302e+00   \n",
       "min             6.495000e+04            1.029000e+04 -7.516225e+00   \n",
       "25%             3.757600e+05            1.780000e+05 -2.363448e+00   \n",
       "50%             4.409400e+05            2.653070e+05 -1.391488e+00   \n",
       "75%             5.232900e+05            3.965800e+05 -2.184340e-01   \n",
       "max             6.553700e+05            1.208800e+06  1.759398e+00   \n",
       "\n",
       "           Latitude  Police_Force  Accident_Severity  Number_of_Vehicles  \\\n",
       "count  1.469723e+06  1.469723e+06       1.469723e+06        1.469723e+06   \n",
       "mean   5.257566e+01  3.077645e+01       2.838776e+00        1.831865e+00   \n",
       "std    1.451720e+00  2.551236e+01       4.014211e-01        7.152280e-01   \n",
       "min    4.991294e+01  1.000000e+00       1.000000e+00        1.000000e+00   \n",
       "25%    5.148788e+01  7.000000e+00       3.000000e+00        1.000000e+00   \n",
       "50%    5.227635e+01  3.100000e+01       3.000000e+00        2.000000e+00   \n",
       "75%    5.346421e+01  4.600000e+01       3.000000e+00        2.000000e+00   \n",
       "max    6.075754e+01  9.800000e+01       3.000000e+00        6.700000e+01   \n",
       "\n",
       "       Number_of_Casualties   Day_of_Week  Local_Authority_(District)  \\\n",
       "count          1.469723e+06  1.469723e+06                1.469723e+06   \n",
       "mean           1.350914e+00  4.118635e+00                3.535205e+02   \n",
       "std            8.258342e-01  1.924716e+00                2.592345e+02   \n",
       "min            1.000000e+00  1.000000e+00                1.000000e+00   \n",
       "25%            1.000000e+00  2.000000e+00                1.220000e+02   \n",
       "50%            1.000000e+00  4.000000e+00                3.280000e+02   \n",
       "75%            1.000000e+00  6.000000e+00                5.310000e+02   \n",
       "max            9.300000e+01  7.000000e+00                9.410000e+02   \n",
       "\n",
       "       1st_Road_Class  1st_Road_Number   Speed_limit  2nd_Road_Class  \\\n",
       "count    1.469723e+06     1.469723e+06  1.469723e+06    1.469723e+06   \n",
       "mean     4.089777e+00     1.008853e+03  3.907809e+01    2.664063e+00   \n",
       "std      1.429888e+00     1.821619e+03  1.417093e+01    3.207775e+00   \n",
       "min      1.000000e+00    -1.000000e+00  1.000000e+01   -1.000000e+00   \n",
       "25%      3.000000e+00     0.000000e+00  3.000000e+01   -1.000000e+00   \n",
       "50%      4.000000e+00     1.290000e+02  3.000000e+01    3.000000e+00   \n",
       "75%      6.000000e+00     7.260000e+02  5.000000e+01    6.000000e+00   \n",
       "max      6.000000e+00     9.999000e+03  7.000000e+01    6.000000e+00   \n",
       "\n",
       "       2nd_Road_Number  Urban_or_Rural_Area          Year  \n",
       "count     1.469723e+06         1.469723e+06  1.469723e+06  \n",
       "mean      3.801138e+02         1.356605e+00  2.009309e+03  \n",
       "std       1.300941e+03         4.790465e-01  3.021106e+00  \n",
       "min      -1.000000e+00         1.000000e+00  2.005000e+03  \n",
       "25%       0.000000e+00         1.000000e+00  2.006000e+03  \n",
       "50%       0.000000e+00         1.000000e+00  2.010000e+03  \n",
       "75%       0.000000e+00         2.000000e+00  2.012000e+03  \n",
       "max       9.999000e+03         3.000000e+00  2.014000e+03  "
      ]
     },
     "execution_count": 10,
     "metadata": {},
     "output_type": "execute_result"
    }
   ],
   "source": [
    "df.describe(include='number')"
   ]
  },
  {
   "cell_type": "code",
   "execution_count": 11,
   "metadata": {},
   "outputs": [
    {
     "data": {
      "text/plain": [
       "17"
      ]
     },
     "execution_count": 11,
     "metadata": {},
     "output_type": "execute_result"
    }
   ],
   "source": [
    "numerical_data = df.select_dtypes(include='number')\n",
    "len(numerical_data.columns)"
   ]
  },
  {
   "cell_type": "markdown",
   "metadata": {},
   "source": [
    "### OBJECT"
   ]
  },
  {
   "cell_type": "code",
   "execution_count": 12,
   "metadata": {},
   "outputs": [
    {
     "data": {
      "text/html": [
       "<div>\n",
       "<style scoped>\n",
       "    .dataframe tbody tr th:only-of-type {\n",
       "        vertical-align: middle;\n",
       "    }\n",
       "\n",
       "    .dataframe tbody tr th {\n",
       "        vertical-align: top;\n",
       "    }\n",
       "\n",
       "    .dataframe thead th {\n",
       "        text-align: right;\n",
       "    }\n",
       "</style>\n",
       "<table border=\"1\" class=\"dataframe\">\n",
       "  <thead>\n",
       "    <tr style=\"text-align: right;\">\n",
       "      <th></th>\n",
       "      <th>Date</th>\n",
       "      <th>Time</th>\n",
       "      <th>Local_Authority_(Highway)</th>\n",
       "      <th>Road_Type</th>\n",
       "      <th>Junction_Control</th>\n",
       "      <th>Pedestrian_Crossing-Human_Control</th>\n",
       "      <th>Pedestrian_Crossing-Physical_Facilities</th>\n",
       "      <th>Light_Conditions</th>\n",
       "      <th>Weather_Conditions</th>\n",
       "      <th>Road_Surface_Conditions</th>\n",
       "      <th>Special_Conditions_at_Site</th>\n",
       "      <th>Carriageway_Hazards</th>\n",
       "      <th>Did_Police_Officer_Attend_Scene_of_Accident</th>\n",
       "      <th>LSOA_of_Accident_Location</th>\n",
       "    </tr>\n",
       "  </thead>\n",
       "  <tbody>\n",
       "    <tr>\n",
       "      <th>count</th>\n",
       "      <td>1469723</td>\n",
       "      <td>1469723</td>\n",
       "      <td>1469723</td>\n",
       "      <td>1469723</td>\n",
       "      <td>878053</td>\n",
       "      <td>1469723</td>\n",
       "      <td>1469723</td>\n",
       "      <td>1469723</td>\n",
       "      <td>1469723</td>\n",
       "      <td>1469723</td>\n",
       "      <td>35917</td>\n",
       "      <td>26767</td>\n",
       "      <td>1469723</td>\n",
       "      <td>1361690</td>\n",
       "    </tr>\n",
       "    <tr>\n",
       "      <th>unique</th>\n",
       "      <td>3286</td>\n",
       "      <td>1439</td>\n",
       "      <td>207</td>\n",
       "      <td>6</td>\n",
       "      <td>4</td>\n",
       "      <td>3</td>\n",
       "      <td>6</td>\n",
       "      <td>5</td>\n",
       "      <td>9</td>\n",
       "      <td>6</td>\n",
       "      <td>7</td>\n",
       "      <td>5</td>\n",
       "      <td>2</td>\n",
       "      <td>35452</td>\n",
       "    </tr>\n",
       "    <tr>\n",
       "      <th>top</th>\n",
       "      <td>21/10/2005</td>\n",
       "      <td>17:00</td>\n",
       "      <td>E10000016</td>\n",
       "      <td>Single carriageway</td>\n",
       "      <td>Giveway or uncontrolled</td>\n",
       "      <td>None within 50 metres</td>\n",
       "      <td>No physical crossing within 50 meters</td>\n",
       "      <td>Daylight: Street light present</td>\n",
       "      <td>Fine without high winds</td>\n",
       "      <td>Dry</td>\n",
       "      <td>Roadworks</td>\n",
       "      <td>Other object in carriageway</td>\n",
       "      <td>Yes</td>\n",
       "      <td>E01000004</td>\n",
       "    </tr>\n",
       "    <tr>\n",
       "      <th>freq</th>\n",
       "      <td>822</td>\n",
       "      <td>14406</td>\n",
       "      <td>40390</td>\n",
       "      <td>1100472</td>\n",
       "      <td>715642</td>\n",
       "      <td>1461079</td>\n",
       "      <td>1225265</td>\n",
       "      <td>1077121</td>\n",
       "      <td>1176472</td>\n",
       "      <td>1011348</td>\n",
       "      <td>16913</td>\n",
       "      <td>11549</td>\n",
       "      <td>1190065</td>\n",
       "      <td>2074</td>\n",
       "    </tr>\n",
       "  </tbody>\n",
       "</table>\n",
       "</div>"
      ],
      "text/plain": [
       "              Date     Time Local_Authority_(Highway)           Road_Type  \\\n",
       "count      1469723  1469723                   1469723             1469723   \n",
       "unique        3286     1439                       207                   6   \n",
       "top     21/10/2005    17:00                 E10000016  Single carriageway   \n",
       "freq           822    14406                     40390             1100472   \n",
       "\n",
       "               Junction_Control Pedestrian_Crossing-Human_Control  \\\n",
       "count                    878053                           1469723   \n",
       "unique                        4                                 3   \n",
       "top     Giveway or uncontrolled             None within 50 metres   \n",
       "freq                     715642                           1461079   \n",
       "\n",
       "       Pedestrian_Crossing-Physical_Facilities  \\\n",
       "count                                  1469723   \n",
       "unique                                       6   \n",
       "top      No physical crossing within 50 meters   \n",
       "freq                                   1225265   \n",
       "\n",
       "                      Light_Conditions       Weather_Conditions  \\\n",
       "count                          1469723                  1469723   \n",
       "unique                               5                        9   \n",
       "top     Daylight: Street light present  Fine without high winds   \n",
       "freq                           1077121                  1176472   \n",
       "\n",
       "       Road_Surface_Conditions Special_Conditions_at_Site  \\\n",
       "count                  1469723                      35917   \n",
       "unique                       6                          7   \n",
       "top                        Dry                  Roadworks   \n",
       "freq                   1011348                      16913   \n",
       "\n",
       "                Carriageway_Hazards  \\\n",
       "count                         26767   \n",
       "unique                            5   \n",
       "top     Other object in carriageway   \n",
       "freq                          11549   \n",
       "\n",
       "       Did_Police_Officer_Attend_Scene_of_Accident LSOA_of_Accident_Location  \n",
       "count                                      1469723                   1361690  \n",
       "unique                                           2                     35452  \n",
       "top                                            Yes                 E01000004  \n",
       "freq                                       1190065                      2074  "
      ]
     },
     "execution_count": 12,
     "metadata": {},
     "output_type": "execute_result"
    }
   ],
   "source": [
    "df.describe(include='object')"
   ]
  },
  {
   "cell_type": "code",
   "execution_count": 13,
   "metadata": {},
   "outputs": [
    {
     "data": {
      "text/plain": [
       "14"
      ]
     },
     "execution_count": 13,
     "metadata": {},
     "output_type": "execute_result"
    }
   ],
   "source": [
    "categorical_data = df.select_dtypes(include='object')\n",
    "len(categorical_data.columns)"
   ]
  },
  {
   "cell_type": "code",
   "execution_count": 14,
   "metadata": {},
   "outputs": [
    {
     "name": "stdout",
     "output_type": "stream",
     "text": [
      "17 number columns\n",
      "14 object columns\n"
     ]
    }
   ],
   "source": [
    "print(str(len(numerical_data.columns)) + ' number columns\\n' +\n",
    "      str(len(categorical_data.columns)) + ' object columns')"
   ]
  },
  {
   "cell_type": "markdown",
   "metadata": {
    "tags": []
   },
   "source": [
    "## จำนวนรถและคนเสียชีวิตจากอุบัติเหตุตามวัน"
   ]
  },
  {
   "cell_type": "code",
   "execution_count": 15,
   "metadata": {},
   "outputs": [
    {
     "data": {
      "text/html": [
       "<div>\n",
       "<style scoped>\n",
       "    .dataframe tbody tr th:only-of-type {\n",
       "        vertical-align: middle;\n",
       "    }\n",
       "\n",
       "    .dataframe tbody tr th {\n",
       "        vertical-align: top;\n",
       "    }\n",
       "\n",
       "    .dataframe thead th {\n",
       "        text-align: right;\n",
       "    }\n",
       "</style>\n",
       "<table border=\"1\" class=\"dataframe\">\n",
       "  <thead>\n",
       "    <tr style=\"text-align: right;\">\n",
       "      <th></th>\n",
       "      <th>Day_of_Week</th>\n",
       "      <th>Number_of_Casualties</th>\n",
       "    </tr>\n",
       "  </thead>\n",
       "  <tbody>\n",
       "    <tr>\n",
       "      <th>5</th>\n",
       "      <td>6</td>\n",
       "      <td>324414</td>\n",
       "    </tr>\n",
       "    <tr>\n",
       "      <th>4</th>\n",
       "      <td>5</td>\n",
       "      <td>291853</td>\n",
       "    </tr>\n",
       "    <tr>\n",
       "      <th>3</th>\n",
       "      <td>4</td>\n",
       "      <td>290846</td>\n",
       "    </tr>\n",
       "    <tr>\n",
       "      <th>2</th>\n",
       "      <td>3</td>\n",
       "      <td>287667</td>\n",
       "    </tr>\n",
       "    <tr>\n",
       "      <th>6</th>\n",
       "      <td>7</td>\n",
       "      <td>279003</td>\n",
       "    </tr>\n",
       "    <tr>\n",
       "      <th>1</th>\n",
       "      <td>2</td>\n",
       "      <td>277587</td>\n",
       "    </tr>\n",
       "    <tr>\n",
       "      <th>0</th>\n",
       "      <td>1</td>\n",
       "      <td>234099</td>\n",
       "    </tr>\n",
       "  </tbody>\n",
       "</table>\n",
       "</div>"
      ],
      "text/plain": [
       "   Day_of_Week  Number_of_Casualties\n",
       "5            6                324414\n",
       "4            5                291853\n",
       "3            4                290846\n",
       "2            3                287667\n",
       "6            7                279003\n",
       "1            2                277587\n",
       "0            1                234099"
      ]
     },
     "execution_count": 15,
     "metadata": {},
     "output_type": "execute_result"
    }
   ],
   "source": [
    "days = df.groupby('Day_of_Week')[['Number_of_Casualties']].sum()\n",
    "days = days.reset_index()\n",
    "days.sort_values(by='Number_of_Casualties', ascending=False)"
   ]
  },
  {
   "cell_type": "code",
   "execution_count": 16,
   "metadata": {},
   "outputs": [
    {
     "data": {
      "text/html": [
       "<div>\n",
       "<style scoped>\n",
       "    .dataframe tbody tr th:only-of-type {\n",
       "        vertical-align: middle;\n",
       "    }\n",
       "\n",
       "    .dataframe tbody tr th {\n",
       "        vertical-align: top;\n",
       "    }\n",
       "\n",
       "    .dataframe thead th {\n",
       "        text-align: right;\n",
       "    }\n",
       "</style>\n",
       "<table border=\"1\" class=\"dataframe\">\n",
       "  <thead>\n",
       "    <tr style=\"text-align: right;\">\n",
       "      <th></th>\n",
       "      <th>Day_of_Week</th>\n",
       "      <th>Number_of_Vehicles</th>\n",
       "    </tr>\n",
       "  </thead>\n",
       "  <tbody>\n",
       "    <tr>\n",
       "      <th>5</th>\n",
       "      <td>6</td>\n",
       "      <td>446441</td>\n",
       "    </tr>\n",
       "    <tr>\n",
       "      <th>3</th>\n",
       "      <td>4</td>\n",
       "      <td>409284</td>\n",
       "    </tr>\n",
       "    <tr>\n",
       "      <th>4</th>\n",
       "      <td>5</td>\n",
       "      <td>408807</td>\n",
       "    </tr>\n",
       "    <tr>\n",
       "      <th>2</th>\n",
       "      <td>3</td>\n",
       "      <td>405480</td>\n",
       "    </tr>\n",
       "    <tr>\n",
       "      <th>1</th>\n",
       "      <td>2</td>\n",
       "      <td>384296</td>\n",
       "    </tr>\n",
       "    <tr>\n",
       "      <th>6</th>\n",
       "      <td>7</td>\n",
       "      <td>350950</td>\n",
       "    </tr>\n",
       "    <tr>\n",
       "      <th>0</th>\n",
       "      <td>1</td>\n",
       "      <td>287076</td>\n",
       "    </tr>\n",
       "  </tbody>\n",
       "</table>\n",
       "</div>"
      ],
      "text/plain": [
       "   Day_of_Week  Number_of_Vehicles\n",
       "5            6              446441\n",
       "3            4              409284\n",
       "4            5              408807\n",
       "2            3              405480\n",
       "1            2              384296\n",
       "6            7              350950\n",
       "0            1              287076"
      ]
     },
     "execution_count": 16,
     "metadata": {},
     "output_type": "execute_result"
    }
   ],
   "source": [
    "vehicles = df.groupby('Day_of_Week')[['Number_of_Vehicles']].sum()\n",
    "vehicles = vehicles.reset_index()\n",
    "vehicles.sort_values(by='Number_of_Vehicles', ascending=False)"
   ]
  },
  {
   "cell_type": "code",
   "execution_count": 17,
   "metadata": {},
   "outputs": [
    {
     "data": {
      "image/png": "[encoded data removed]",
      "text/plain": [
       "<Figure size 1200x600 with 2 Axes>"
      ]
     },
     "metadata": {},
     "output_type": "display_data"
    }
   ],
   "source": [
    "fig, axs = plt.subplots(1, 2, figsize=(12, 6))\n",
    "\n",
    "sns.barplot(data=days, x='Day_of_Week', y='Number_of_Casualties', palette='rocket', ax=axs[0])\n",
    "axs[0].set_title('Number of Casualties')\n",
    "\n",
    "sns.barplot(data=vehicles, x='Day_of_Week', y='Number_of_Vehicles', palette='rocket', ax=axs[1])\n",
    "axs[1].set_title('Number of Vehicles')\n",
    "\n",
    "plt.tight_layout()\n",
    "plt.show()"
   ]
  },
  {
   "cell_type": "markdown",
   "metadata": {
    "tags": []
   },
   "source": [
    "## อัตราการเสียชีวิตเมื่อเทียบกับสภาพอากาศ"
   ]
  },
  {
   "cell_type": "code",
   "execution_count": 18,
   "metadata": {},
   "outputs": [
    {
     "data": {
      "text/plain": [
       "Weather_Conditions\n",
       "Fog or mist                   1.439891\n",
       "Snowing with high winds       1.421325\n",
       "Raining with high winds       1.396522\n",
       "Raining without high winds    1.393932\n",
       "Fine with high winds          1.374150\n",
       "Fine without high winds       1.345457\n",
       "Snowing without high winds    1.343088\n",
       "dtype: float64"
      ]
     },
     "execution_count": 18,
     "metadata": {},
     "output_type": "execute_result"
    }
   ],
   "source": [
    "casualties_by_weather = df.groupby('Weather_Conditions')[['Number_of_Casualties']].sum()\n",
    "\n",
    "weather_counts = df['Weather_Conditions'].value_counts()\n",
    "# หารด้วยจำนวนข้อมูลของแต่ละสภาพอากาศ เพื่อความเท่าเทียมของอัตราส่วน\n",
    "normalized_casualties = casualties_by_weather['Number_of_Casualties'] / weather_counts\n",
    "normalized_casualties = normalized_casualties.drop(['Other', 'Unknown'])\n",
    "normalized_casualties = normalized_casualties.sort_values(ascending=False)\n",
    "normalized_casualties"
   ]
  },
  {
   "cell_type": "code",
   "execution_count": 19,
   "metadata": {},
   "outputs": [
    {
     "data": {
      "image/png": "[encoded data removed]",
      "text/plain": [
       "<Figure size 600x800 with 1 Axes>"
      ]
     },
     "metadata": {},
     "output_type": "display_data"
    }
   ],
   "source": [
    "plt.figure(figsize=(6, 8))\n",
    "plt.pie(normalized_casualties, labels=normalized_casualties.index, autopct='%1.1f%%', startangle=140)\n",
    "plt.title('Casualties rate by weather conditions')\n",
    "plt.axis('equal')\n",
    "plt.show()"
   ]
  },
  {
   "cell_type": "markdown",
   "metadata": {
    "tags": []
   },
   "source": [
    "## อัตราการเสียชีวิตเมื่อเทียบกับสภาพแสงไฟบนถนน"
   ]
  },
  {
   "cell_type": "code",
   "execution_count": 20,
   "metadata": {},
   "outputs": [
    {
     "data": {
      "text/plain": [
       "Light_Conditions\n",
       "Darkeness: No street lighting                1.539082\n",
       "Darkness: Street lights present and lit      1.352827\n",
       "Darkness: Street lights present but unlit    1.343153\n",
       "Daylight: Street light present               1.336881\n",
       "dtype: float64"
      ]
     },
     "execution_count": 20,
     "metadata": {},
     "output_type": "execute_result"
    }
   ],
   "source": [
    "casualties_by_lights = df.groupby('Light_Conditions')[['Number_of_Casualties']].sum()\n",
    "\n",
    "light_counts = df['Light_Conditions'].value_counts()\n",
    "\n",
    "normalized_casualties = casualties_by_lights['Number_of_Casualties'] / light_counts\n",
    "normalized_casualties = normalized_casualties.drop(['Darkness: Street lighting unknown'])\n",
    "normalized_casualties = normalized_casualties.sort_values(ascending=False)\n",
    "normalized_casualties"
   ]
  },
  {
   "cell_type": "code",
   "execution_count": 21,
   "metadata": {},
   "outputs": [
    {
     "data": {
      "image/png": "[encoded data removed]",
      "text/plain": [
       "<Figure size 400x600 with 1 Axes>"
      ]
     },
     "metadata": {},
     "output_type": "display_data"
    }
   ],
   "source": [
    "plt.figure(figsize=(4, 6))\n",
    "plt.pie(normalized_casualties, labels=normalized_casualties.index, autopct='%1.1f%%', startangle=140)\n",
    "plt.title('Casualties rate by weather conditions')\n",
    "plt.axis('equal')\n",
    "plt.show()"
   ]
  },
  {
   "cell_type": "markdown",
   "metadata": {
    "tags": []
   },
   "source": [
    "## ค่าเฉลี่ยการเสียชีวิตเทียบกับการจำกัดความเร็ว"
   ]
  },
  {
   "cell_type": "code",
   "execution_count": 22,
   "metadata": {},
   "outputs": [
    {
     "data": {
      "image/png": "[encoded data removed]",
      "text/plain": [
       "<Figure size 640x480 with 1 Axes>"
      ]
     },
     "metadata": {},
     "output_type": "display_data"
    }
   ],
   "source": [
    "speed = df.groupby('Speed_limit')['Number_of_Casualties'].mean().reset_index()\n",
    "sns.barplot(x='Speed_limit', y='Number_of_Casualties', data=speed, palette='deep')\n",
    "plt.show()"
   ]
  },
  {
   "cell_type": "markdown",
   "metadata": {
    "tags": []
   },
   "source": [
    "## ค่าเฉลี่ยคนเสียชีวิตเทียบกับประเภทถนน"
   ]
  },
  {
   "cell_type": "code",
   "execution_count": 29,
   "metadata": {
    "tags": []
   },
   "outputs": [
    {
     "data": {
      "image/png": "[encoded data removed]",
      "text/plain": [
       "<Figure size 800x400 with 1 Axes>"
      ]
     },
     "metadata": {},
     "output_type": "display_data"
    }
   ],
   "source": [
    "plt.figure(figsize=(8, 4))\n",
    "road = df.groupby('Road_Type')['Number_of_Casualties'].mean().drop('Unknown').reset_index()\n",
    "road = road.sort_values(by='Number_of_Casualties')  # Specify the column to sort by\n",
    "sns.barplot(data=road, x='Road_Type', y='Number_of_Casualties', palette='deep')\n",
    "plt.show()"
   ]
  }
 ],
 "metadata": {
  "kernelspec": {
   "display_name": "Python 3 (ipykernel)",
   "language": "python",
   "name": "python3"
  },
  "language_info": {
   "codemirror_mode": {
    "name": "ipython",
    "version": 3
   },
   "file_extension": ".py",
   "mimetype": "text/x-python",
   "name": "python",
   "nbconvert_exporter": "python",
   "pygments_lexer": "ipython3",
   "version": "3.8.10"
  },
  "vscode": {
   "interpreter": {
    "hash": "ffbfc792e496a15b6b750fac43e7a9afdc7c26545a7abda9dc172ad3cb978227"
   }
  }
 },
 "nbformat": 4,
 "nbformat_minor": 4
}
